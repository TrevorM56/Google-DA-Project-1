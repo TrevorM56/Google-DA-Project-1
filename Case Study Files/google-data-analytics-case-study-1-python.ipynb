{
 "cells": [
  {
   "cell_type": "markdown",
   "id": "fc818a31",
   "metadata": {
    "papermill": {
     "duration": 0.01793,
     "end_time": "2023-12-15T17:10:30.184969",
     "exception": false,
     "start_time": "2023-12-15T17:10:30.167039",
     "status": "completed"
    },
    "tags": []
   },
   "source": [
    "# __Google Data Analytics Case Study__\n",
    "## __Cyclistic Bike-Share Analysis__\n",
    "### _How Does a Bike-Share Navigate Speedy Success?_"
   ]
  },
  {
   "cell_type": "markdown",
   "id": "bc07d057",
   "metadata": {
    "papermill": {
     "duration": 0.017095,
     "end_time": "2023-12-15T17:10:30.219686",
     "exception": false,
     "start_time": "2023-12-15T17:10:30.202591",
     "status": "completed"
    },
    "tags": []
   },
   "source": [
    "## __About the Company__\n",
    "In 2016, Cyclistic launched a successful bike-share offering. Since then, the program has grown to a fleet of 5,824 bicycles that are geotracked and locked into a network of 692 stations across Chicago. The bikes can be unlocked from one station and returned to any other station in the system anytime.\n",
    "\n",
    "Until now, Cyclistic’s marketing strategy relied on building general awareness and appealing to broad consumer segments. One approach that helped make these things possible was the flexibility of its pricing plans: single-ride passes, full-day passes, and annual memberships. Customers who purchase single-ride or full-day passes are referred to as casual riders. Customers who purchase annual memberships are Cyclistic members.\n",
    "\n",
    "Cyclistic’s finance analysts have concluded that annual members are much more profitable than casual riders. Although the pricing flexibility helps Cyclistic attract more customers, Moreno believes that maximizing the number of annual members will be key to future growth. Rather than creating a marketing campaign that targets all-new customers, Moreno believes there is a very good chance to convert casual riders into members. She notes that casual riders are already aware of the Cyclistic program and have chosen Cyclistic for their mobility needs.\n",
    "\n",
    "Moreno has set a clear goal: Design marketing strategies aimed at converting casual riders into annual members. In order to do that, however, the marketing analyst team needs to better understand how annual members and casual riders differ, why casual riders would buy a membership, and how digital media could affect their marketing tactics. Moreno and her team are interested in analyzing the Cyclistic historical bike trip data to identify trends.\n"
   ]
  },
  {
   "cell_type": "markdown",
   "id": "c5e4ae71",
   "metadata": {
    "papermill": {
     "duration": 0.017074,
     "end_time": "2023-12-15T17:10:30.254341",
     "exception": false,
     "start_time": "2023-12-15T17:10:30.237267",
     "status": "completed"
    },
    "tags": []
   },
   "source": [
    "## __Key Stakeholder__\n",
    "#### __Lily Moreno:__ _The director of marketing and your manager. Moreno is responsible for the development of campaigns and_\n",
    "#### _initiatives to promote the bike-share program. These may include email, social media, and other channels_"
   ]
  },
  {
   "cell_type": "markdown",
   "id": "17b826f7",
   "metadata": {
    "papermill": {
     "duration": 0.017111,
     "end_time": "2023-12-15T17:10:30.288882",
     "exception": false,
     "start_time": "2023-12-15T17:10:30.271771",
     "status": "completed"
    },
    "tags": []
   },
   "source": [
    "## __Scenario__\n",
    "    You are a junior data analyst working in the marketing analyst team at Cyclistic, a bike-share company in Chicago. The director of marketing believes the company’s future success depends on maximizing the number of annual memberships. Therefore, your team wants to understand how casual riders and annual members use Cyclistic bikes differently. From these insights, your team will design a new marketing strategy to convert casual riders into annual members. But first, Cyclistic executives must approve your recommendations, so they must be backed up with compelling data insights and professional data visualizations."
   ]
  },
  {
   "cell_type": "markdown",
   "id": "74b0684a",
   "metadata": {
    "papermill": {
     "duration": 0.017451,
     "end_time": "2023-12-15T17:10:30.323774",
     "exception": false,
     "start_time": "2023-12-15T17:10:30.306323",
     "status": "completed"
    },
    "tags": []
   },
   "source": [
    "# __Part 1:__ _ASK_\n",
    "#### There are __3 major questions__ that are aimed at guiding the future of the marketing team:\n",
    "    1. How do annual members and casual riders use Cyclistic bikes differently?\n",
    "    2. Why would casual riders buy Cyclistic annual memberships?\n",
    "    3. How can Cyclistic use digital media to influence casual riders to become members?\n",
    "### We have been assigned to help answer __question number 1__ for Lily Moreno.\n",
    "#### __Our report will consist of:__\n",
    "    1. A clear statement of the business task\n",
    "    2. A description of all data sources used\n",
    "    3. Documentation of any cleaning or manipulation of data\n",
    "    4. A summary of your analysis\n",
    "    5. Supporting visualizations and key findings_\n",
    "    6. Top three recommendations based on your analysis\n",
    "\n",
    "### __Business Task__\n",
    "    Lily Moreno wants me to help assist in answering how member riders and casual riders use the bike-share system differently. In order to acheive this, we will look at historical bike-share data collected via the company to analyze for patterns and trends between the two user type groups. This data will need to be reviewed and cleaned before the analysis can take place. Through the analysis, we will be able to see the difference in system usage between the two user types, and use that analysis to generate constructive recommendations that can be best understood through visualization of the data. Lily Moreno is the director of marketing, which allows a direct route for the recommendations to be acknowledged and accomidated for future development of campaigns that aim towards enticing casual riders to become members of the Cyclistic bike-share program."
   ]
  },
  {
   "cell_type": "markdown",
   "id": "bd39622c",
   "metadata": {
    "papermill": {
     "duration": 0.017082,
     "end_time": "2023-12-15T17:10:30.358338",
     "exception": false,
     "start_time": "2023-12-15T17:10:30.341256",
     "status": "completed"
    },
    "tags": []
   },
   "source": [
    "# __Part 2:__ _Prepare_\n",
    "\n",
    "### __Key Tasks:__\n",
    "    1. Download data and store it appropriately\n",
    "    2. Identify how it’s organized.\n",
    "    3. Sort and filter the data.\n",
    "    4. Determine the credibility of the data.\n"
   ]
  },
  {
   "cell_type": "code",
   "execution_count": 1,
   "id": "e56dabb3",
   "metadata": {
    "execution": {
     "iopub.execute_input": "2023-12-15T17:10:30.396672Z",
     "iopub.status.busy": "2023-12-15T17:10:30.394990Z",
     "iopub.status.idle": "2023-12-15T17:10:33.440426Z",
     "shell.execute_reply": "2023-12-15T17:10:33.439073Z"
    },
    "papermill": {
     "duration": 3.0677,
     "end_time": "2023-12-15T17:10:33.443428",
     "exception": false,
     "start_time": "2023-12-15T17:10:30.375728",
     "status": "completed"
    },
    "tags": []
   },
   "outputs": [],
   "source": [
    "import pandas as pd #For data manipulation\n",
    "import numpy as np #For mathematical calculations\n",
    "import datetime as dt #For working with dates and times\n",
    "import seaborn as sns #For creating visualizations\n",
    "import matplotlib.pyplot as plt #For creating visualizations\n",
    "import plotly.express as ex #For creating visualizations"
   ]
  },
  {
   "cell_type": "code",
   "execution_count": 2,
   "id": "8a8c49e1",
   "metadata": {
    "execution": {
     "iopub.execute_input": "2023-12-15T17:10:33.481671Z",
     "iopub.status.busy": "2023-12-15T17:10:33.479985Z",
     "iopub.status.idle": "2023-12-15T17:11:13.378763Z",
     "shell.execute_reply": "2023-12-15T17:11:13.377641Z"
    },
    "papermill": {
     "duration": 39.920698,
     "end_time": "2023-12-15T17:11:13.381794",
     "exception": false,
     "start_time": "2023-12-15T17:10:33.461096",
     "status": "completed"
    },
    "tags": []
   },
   "outputs": [],
   "source": [
    "#Importing the datasets with the pandas .read_csv() method.\n",
    "\n",
    "jan2022 = pd.read_csv(\"/kaggle/input/2022-divvy-tripdata/202201-divvy-tripdata.csv\")\n",
    "feb2022 = pd.read_csv(\"/kaggle/input/2022-divvy-tripdata/202202-divvy-tripdata.csv\")\n",
    "mar2022 = pd.read_csv(\"/kaggle/input/2022-divvy-tripdata/202203-divvy-tripdata.csv\")\n",
    "apr2022 = pd.read_csv(\"/kaggle/input/2022-divvy-tripdata/202204-divvy-tripdata.csv\")\n",
    "may2022 = pd.read_csv(\"/kaggle/input/2022-divvy-tripdata/202205-divvy-tripdata.csv\")\n",
    "jun2022 = pd.read_csv(\"/kaggle/input/2022-divvy-tripdata/202206-divvy-tripdata.csv\")\n",
    "jul2022 = pd.read_csv(\"/kaggle/input/2022-divvy-tripdata/202207-divvy-tripdata.csv\")\n",
    "aug2022 = pd.read_csv(\"/kaggle/input/2022-divvy-tripdata/202208-divvy-tripdata.csv\")\n",
    "sep2022 = pd.read_csv(\"/kaggle/input/2022-divvy-tripdata/202209-divvy-publictripdata.csv\")\n",
    "oct2022 = pd.read_csv(\"/kaggle/input/2022-divvy-tripdata/202210-divvy-tripdata.csv\")\n",
    "nov2022 = pd.read_csv(\"/kaggle/input/2022-divvy-tripdata/202211-divvy-tripdata.csv\")\n",
    "dec2022 = pd.read_csv(\"/kaggle/input/2022-divvy-tripdata/202212-divvy-tripdata.csv\")"
   ]
  },
  {
   "cell_type": "code",
   "execution_count": 3,
   "id": "95dcdd68",
   "metadata": {
    "execution": {
     "iopub.execute_input": "2023-12-15T17:11:13.421585Z",
     "iopub.status.busy": "2023-12-15T17:11:13.420425Z",
     "iopub.status.idle": "2023-12-15T17:11:15.488571Z",
     "shell.execute_reply": "2023-12-15T17:11:15.487198Z"
    },
    "papermill": {
     "duration": 2.091204,
     "end_time": "2023-12-15T17:11:15.492003",
     "exception": false,
     "start_time": "2023-12-15T17:11:13.400799",
     "status": "completed"
    },
    "tags": []
   },
   "outputs": [
    {
     "name": "stdout",
     "output_type": "stream",
     "text": [
      "<class 'pandas.core.frame.DataFrame'>\n",
      "Index: 5667717 entries, 0 to 181805\n",
      "Data columns (total 13 columns):\n",
      " #   Column              Dtype  \n",
      "---  ------              -----  \n",
      " 0   ride_id             object \n",
      " 1   rideable_type       object \n",
      " 2   started_at          object \n",
      " 3   ended_at            object \n",
      " 4   start_station_name  object \n",
      " 5   start_station_id    object \n",
      " 6   end_station_name    object \n",
      " 7   end_station_id      object \n",
      " 8   start_lat           float64\n",
      " 9   start_lng           float64\n",
      " 10  end_lat             float64\n",
      " 11  end_lng             float64\n",
      " 12  member_casual       object \n",
      "dtypes: float64(4), object(9)\n",
      "memory usage: 605.4+ MB\n"
     ]
    },
    {
     "data": {
      "text/html": [
       "<div>\n",
       "<style scoped>\n",
       "    .dataframe tbody tr th:only-of-type {\n",
       "        vertical-align: middle;\n",
       "    }\n",
       "\n",
       "    .dataframe tbody tr th {\n",
       "        vertical-align: top;\n",
       "    }\n",
       "\n",
       "    .dataframe thead th {\n",
       "        text-align: right;\n",
       "    }\n",
       "</style>\n",
       "<table border=\"1\" class=\"dataframe\">\n",
       "  <thead>\n",
       "    <tr style=\"text-align: right;\">\n",
       "      <th></th>\n",
       "      <th>ride_id</th>\n",
       "      <th>rideable_type</th>\n",
       "      <th>started_at</th>\n",
       "      <th>ended_at</th>\n",
       "      <th>start_station_name</th>\n",
       "      <th>start_station_id</th>\n",
       "      <th>end_station_name</th>\n",
       "      <th>end_station_id</th>\n",
       "      <th>start_lat</th>\n",
       "      <th>start_lng</th>\n",
       "      <th>end_lat</th>\n",
       "      <th>end_lng</th>\n",
       "      <th>member_casual</th>\n",
       "    </tr>\n",
       "  </thead>\n",
       "  <tbody>\n",
       "    <tr>\n",
       "      <th>0</th>\n",
       "      <td>C2F7DD78E82EC875</td>\n",
       "      <td>electric_bike</td>\n",
       "      <td>2022-01-13 11:59:47</td>\n",
       "      <td>2022-01-13 12:02:44</td>\n",
       "      <td>Glenwood Ave &amp; Touhy Ave</td>\n",
       "      <td>525</td>\n",
       "      <td>Clark St &amp; Touhy Ave</td>\n",
       "      <td>RP-007</td>\n",
       "      <td>42.012800</td>\n",
       "      <td>-87.665906</td>\n",
       "      <td>42.012560</td>\n",
       "      <td>-87.674367</td>\n",
       "      <td>casual</td>\n",
       "    </tr>\n",
       "    <tr>\n",
       "      <th>1</th>\n",
       "      <td>A6CF8980A652D272</td>\n",
       "      <td>electric_bike</td>\n",
       "      <td>2022-01-10 08:41:56</td>\n",
       "      <td>2022-01-10 08:46:17</td>\n",
       "      <td>Glenwood Ave &amp; Touhy Ave</td>\n",
       "      <td>525</td>\n",
       "      <td>Clark St &amp; Touhy Ave</td>\n",
       "      <td>RP-007</td>\n",
       "      <td>42.012763</td>\n",
       "      <td>-87.665967</td>\n",
       "      <td>42.012560</td>\n",
       "      <td>-87.674367</td>\n",
       "      <td>casual</td>\n",
       "    </tr>\n",
       "    <tr>\n",
       "      <th>2</th>\n",
       "      <td>BD0F91DFF741C66D</td>\n",
       "      <td>classic_bike</td>\n",
       "      <td>2022-01-25 04:53:40</td>\n",
       "      <td>2022-01-25 04:58:01</td>\n",
       "      <td>Sheffield Ave &amp; Fullerton Ave</td>\n",
       "      <td>TA1306000016</td>\n",
       "      <td>Greenview Ave &amp; Fullerton Ave</td>\n",
       "      <td>TA1307000001</td>\n",
       "      <td>41.925602</td>\n",
       "      <td>-87.653708</td>\n",
       "      <td>41.925330</td>\n",
       "      <td>-87.665800</td>\n",
       "      <td>member</td>\n",
       "    </tr>\n",
       "    <tr>\n",
       "      <th>3</th>\n",
       "      <td>CBB80ED419105406</td>\n",
       "      <td>classic_bike</td>\n",
       "      <td>2022-01-04 00:18:04</td>\n",
       "      <td>2022-01-04 00:33:00</td>\n",
       "      <td>Clark St &amp; Bryn Mawr Ave</td>\n",
       "      <td>KA1504000151</td>\n",
       "      <td>Paulina St &amp; Montrose Ave</td>\n",
       "      <td>TA1309000021</td>\n",
       "      <td>41.983593</td>\n",
       "      <td>-87.669154</td>\n",
       "      <td>41.961507</td>\n",
       "      <td>-87.671387</td>\n",
       "      <td>casual</td>\n",
       "    </tr>\n",
       "    <tr>\n",
       "      <th>4</th>\n",
       "      <td>DDC963BFDDA51EEA</td>\n",
       "      <td>classic_bike</td>\n",
       "      <td>2022-01-20 01:31:10</td>\n",
       "      <td>2022-01-20 01:37:12</td>\n",
       "      <td>Michigan Ave &amp; Jackson Blvd</td>\n",
       "      <td>TA1309000002</td>\n",
       "      <td>State St &amp; Randolph St</td>\n",
       "      <td>TA1305000029</td>\n",
       "      <td>41.877850</td>\n",
       "      <td>-87.624080</td>\n",
       "      <td>41.884621</td>\n",
       "      <td>-87.627834</td>\n",
       "      <td>member</td>\n",
       "    </tr>\n",
       "  </tbody>\n",
       "</table>\n",
       "</div>"
      ],
      "text/plain": [
       "            ride_id  rideable_type           started_at             ended_at  \\\n",
       "0  C2F7DD78E82EC875  electric_bike  2022-01-13 11:59:47  2022-01-13 12:02:44   \n",
       "1  A6CF8980A652D272  electric_bike  2022-01-10 08:41:56  2022-01-10 08:46:17   \n",
       "2  BD0F91DFF741C66D   classic_bike  2022-01-25 04:53:40  2022-01-25 04:58:01   \n",
       "3  CBB80ED419105406   classic_bike  2022-01-04 00:18:04  2022-01-04 00:33:00   \n",
       "4  DDC963BFDDA51EEA   classic_bike  2022-01-20 01:31:10  2022-01-20 01:37:12   \n",
       "\n",
       "              start_station_name start_station_id  \\\n",
       "0       Glenwood Ave & Touhy Ave              525   \n",
       "1       Glenwood Ave & Touhy Ave              525   \n",
       "2  Sheffield Ave & Fullerton Ave     TA1306000016   \n",
       "3       Clark St & Bryn Mawr Ave     KA1504000151   \n",
       "4    Michigan Ave & Jackson Blvd     TA1309000002   \n",
       "\n",
       "                end_station_name end_station_id  start_lat  start_lng  \\\n",
       "0           Clark St & Touhy Ave         RP-007  42.012800 -87.665906   \n",
       "1           Clark St & Touhy Ave         RP-007  42.012763 -87.665967   \n",
       "2  Greenview Ave & Fullerton Ave   TA1307000001  41.925602 -87.653708   \n",
       "3      Paulina St & Montrose Ave   TA1309000021  41.983593 -87.669154   \n",
       "4         State St & Randolph St   TA1305000029  41.877850 -87.624080   \n",
       "\n",
       "     end_lat    end_lng member_casual  \n",
       "0  42.012560 -87.674367        casual  \n",
       "1  42.012560 -87.674367        casual  \n",
       "2  41.925330 -87.665800        member  \n",
       "3  41.961507 -87.671387        casual  \n",
       "4  41.884621 -87.627834        member  "
      ]
     },
     "execution_count": 3,
     "metadata": {},
     "output_type": "execute_result"
    }
   ],
   "source": [
    "# Joining the datasets into a single dataset with the pandas .concat() method.\n",
    "\n",
    "year2022_unclean = pd.concat([jan2022, feb2022, mar2022, apr2022, may2022, jun2022, jul2022, \n",
    "                              aug2022, sep2022, oct2022, nov2022, dec2022])\n",
    "# Getting a preview of the dataset\n",
    "\n",
    "year2022_unclean.info()\n",
    "year2022_unclean.head()\n",
    "\n",
    "# We can see that all data types are listed as objects, with the exception of the latitude and longitude columns."
   ]
  },
  {
   "cell_type": "markdown",
   "id": "569c6b6b",
   "metadata": {
    "papermill": {
     "duration": 0.017785,
     "end_time": "2023-12-15T17:11:15.527905",
     "exception": false,
     "start_time": "2023-12-15T17:11:15.510120",
     "status": "completed"
    },
    "tags": []
   },
   "source": [
    "### __Guiding Questions:__\n",
    "    1. Where is your data located?\n",
    "    - The data is located in a large folder on the Amazon Web Services and is provided by Lyft and Divvy. Each dataset for the 2022 year is broken up by month of the year and are saved as CSV files.\n",
    "    \n",
    "    2. How is the data organized?\n",
    "    - The data is organized into 12 CSV files based on each month of the 2022 year. Each dataset consists of columns named: ride_id, rideable_type, started_at, ended_at, start_station_name, start_station_id, end_station_name, end_station_id, start_lat, start_long, end_lat, end_long, and member_casual. These columns provide information regarding the locations of all bike rides (beginning and end), the id assigned to the user, the user type (member or casual), and the type of bike used for transport.        \n",
    "    3. Are there issues with bias or credibility in this data?\n",
    "    - This data is collected directly via the company and come from trackers installed within each bike. In a general overview of the data, there seems to be no areas that would be able to have bias included within. As this data is product data, the company uses the data internally to analyze the use of their products to gain insights towards developing future approaches to their products.\n",
    "    \n",
    "    4. How are you addressing licensing, privacy, security, and accessibility?\n",
    "    - The licensing for this data is provided via the Google Data Analytics Case Study 1 project guide. The data is owned by Lyft Bikes and Scooters, LLC, as the Cyclistic company is a fictional company being used for this project. The link for the data license can be found below.\n",
    "    \n",
    "    5. How did you verify the data’s integrity?\n",
    "    - The data's integrity is verified through the source in which it is collected. As each bike has a tracker attached to the frame that collects data as the bike is used, this data is immediately available and directly input into the database without the needs of user input. This data is strictly observational based on the activation of the tracker when a bike is unlocked for use.    \n",
    "    6. How does it help you answer your question?\n",
    "    - The data contains plenty of useful information that can help us compare and contrast the uses of bikes via each user type. There is a column dedicated to identifying the user type of the individual who uses a bike, which allows us to make direct comparisons of how each user type uses the system. Through the use of the member_casual column, we can create our own columns that calculate different components for comparison, such as number of rides by day, weekday, and month, or by ride lengths per category by using the started_at and ended_at columns to produce a ride time for each record. These can be easily reviewed and visualized to get a good view on how members and causal riders use the bikes in different ways.\n",
    "    \n",
    "    7. Are there any problems with the data?\n",
    "    - After checking for missing, not a number, and null results in each column, it was found that there were zero missing values in all columns of the dataset. This helps confirm the data integrity, as all columns have a value for each record. We also insured that the ride_id column did not contain any duplicate values. This is important because it ensures that each record is a unique entry and is being recorded in the database properly. On the other hand, there are some changes to the data that can be made to set up our analysis. We can use the started_at and ended_at columns to extract a ride time and a date (including the day name, day number, and month name) that allows us to analyze how each user type differs in ride time, daily use, weekly use, and monthly use.        \n",
    "__[Data Liscense Link](https://divvybikes.com/data-license-agreement)__"
   ]
  },
  {
   "cell_type": "markdown",
   "id": "2f657566",
   "metadata": {
    "papermill": {
     "duration": 0.017862,
     "end_time": "2023-12-15T17:11:15.564103",
     "exception": false,
     "start_time": "2023-12-15T17:11:15.546241",
     "status": "completed"
    },
    "tags": []
   },
   "source": [
    "# __Part 3:__ _Process_\n",
    "\n",
    "### __Key Tasks:__\n",
    "    1. Check the data for errors.\n",
    "    2. Choose your tools.\n",
    "    3. Transform the data so you can work with it effectively.\n",
    "    4. Document the cleaning process."
   ]
  },
  {
   "cell_type": "code",
   "execution_count": 4,
   "id": "689e64bd",
   "metadata": {
    "execution": {
     "iopub.execute_input": "2023-12-15T17:11:15.670784Z",
     "iopub.status.busy": "2023-12-15T17:11:15.670374Z",
     "iopub.status.idle": "2023-12-15T17:11:16.154893Z",
     "shell.execute_reply": "2023-12-15T17:11:16.154049Z"
    },
    "papermill": {
     "duration": 0.506627,
     "end_time": "2023-12-15T17:11:16.157391",
     "exception": false,
     "start_time": "2023-12-15T17:11:15.650764",
     "status": "completed"
    },
    "tags": []
   },
   "outputs": [
    {
     "data": {
      "text/html": [
       "<div>\n",
       "<style scoped>\n",
       "    .dataframe tbody tr th:only-of-type {\n",
       "        vertical-align: middle;\n",
       "    }\n",
       "\n",
       "    .dataframe tbody tr th {\n",
       "        vertical-align: top;\n",
       "    }\n",
       "\n",
       "    .dataframe thead th {\n",
       "        text-align: right;\n",
       "    }\n",
       "</style>\n",
       "<table border=\"1\" class=\"dataframe\">\n",
       "  <thead>\n",
       "    <tr style=\"text-align: right;\">\n",
       "      <th></th>\n",
       "      <th>ride_id</th>\n",
       "      <th>rideable_type</th>\n",
       "      <th>started_at</th>\n",
       "      <th>ended_at</th>\n",
       "      <th>member_casual</th>\n",
       "    </tr>\n",
       "  </thead>\n",
       "  <tbody>\n",
       "    <tr>\n",
       "      <th>0</th>\n",
       "      <td>C2F7DD78E82EC875</td>\n",
       "      <td>electric_bike</td>\n",
       "      <td>2022-01-13 11:59:47</td>\n",
       "      <td>2022-01-13 12:02:44</td>\n",
       "      <td>casual</td>\n",
       "    </tr>\n",
       "    <tr>\n",
       "      <th>1</th>\n",
       "      <td>A6CF8980A652D272</td>\n",
       "      <td>electric_bike</td>\n",
       "      <td>2022-01-10 08:41:56</td>\n",
       "      <td>2022-01-10 08:46:17</td>\n",
       "      <td>casual</td>\n",
       "    </tr>\n",
       "    <tr>\n",
       "      <th>2</th>\n",
       "      <td>BD0F91DFF741C66D</td>\n",
       "      <td>classic_bike</td>\n",
       "      <td>2022-01-25 04:53:40</td>\n",
       "      <td>2022-01-25 04:58:01</td>\n",
       "      <td>member</td>\n",
       "    </tr>\n",
       "    <tr>\n",
       "      <th>3</th>\n",
       "      <td>CBB80ED419105406</td>\n",
       "      <td>classic_bike</td>\n",
       "      <td>2022-01-04 00:18:04</td>\n",
       "      <td>2022-01-04 00:33:00</td>\n",
       "      <td>casual</td>\n",
       "    </tr>\n",
       "    <tr>\n",
       "      <th>4</th>\n",
       "      <td>DDC963BFDDA51EEA</td>\n",
       "      <td>classic_bike</td>\n",
       "      <td>2022-01-20 01:31:10</td>\n",
       "      <td>2022-01-20 01:37:12</td>\n",
       "      <td>member</td>\n",
       "    </tr>\n",
       "  </tbody>\n",
       "</table>\n",
       "</div>"
      ],
      "text/plain": [
       "            ride_id  rideable_type           started_at             ended_at  \\\n",
       "0  C2F7DD78E82EC875  electric_bike  2022-01-13 11:59:47  2022-01-13 12:02:44   \n",
       "1  A6CF8980A652D272  electric_bike  2022-01-10 08:41:56  2022-01-10 08:46:17   \n",
       "2  BD0F91DFF741C66D   classic_bike  2022-01-25 04:53:40  2022-01-25 04:58:01   \n",
       "3  CBB80ED419105406   classic_bike  2022-01-04 00:18:04  2022-01-04 00:33:00   \n",
       "4  DDC963BFDDA51EEA   classic_bike  2022-01-20 01:31:10  2022-01-20 01:37:12   \n",
       "\n",
       "  member_casual  \n",
       "0        casual  \n",
       "1        casual  \n",
       "2        member  \n",
       "3        casual  \n",
       "4        member  "
      ]
     },
     "execution_count": 4,
     "metadata": {},
     "output_type": "execute_result"
    }
   ],
   "source": [
    "# Removing unwanted columns with the .drop() method\n",
    "\n",
    "year2022_unclean = year2022_unclean.drop(columns = [\"start_station_name\", \"start_station_id\", \"end_station_name\", \n",
    "                                                    \"end_station_id\", \"start_lat\", \"start_lng\", \"end_lat\",\n",
    "                                                    \"end_lng\"])\n",
    "\n",
    "year2022_unclean.head()\n",
    "\n",
    "#Now we only have the columns that are applicable to our analysis"
   ]
  },
  {
   "cell_type": "code",
   "execution_count": 5,
   "id": "e9e49003",
   "metadata": {
    "execution": {
     "iopub.execute_input": "2023-12-15T17:11:16.198121Z",
     "iopub.status.busy": "2023-12-15T17:11:16.197261Z",
     "iopub.status.idle": "2023-12-15T17:11:16.213245Z",
     "shell.execute_reply": "2023-12-15T17:11:16.212027Z"
    },
    "papermill": {
     "duration": 0.039573,
     "end_time": "2023-12-15T17:11:16.216295",
     "exception": false,
     "start_time": "2023-12-15T17:11:16.176722",
     "status": "completed"
    },
    "scrolled": true,
    "tags": []
   },
   "outputs": [
    {
     "data": {
      "text/html": [
       "<div>\n",
       "<style scoped>\n",
       "    .dataframe tbody tr th:only-of-type {\n",
       "        vertical-align: middle;\n",
       "    }\n",
       "\n",
       "    .dataframe tbody tr th {\n",
       "        vertical-align: top;\n",
       "    }\n",
       "\n",
       "    .dataframe thead th {\n",
       "        text-align: right;\n",
       "    }\n",
       "</style>\n",
       "<table border=\"1\" class=\"dataframe\">\n",
       "  <thead>\n",
       "    <tr style=\"text-align: right;\">\n",
       "      <th></th>\n",
       "      <th>ride_id</th>\n",
       "      <th>bike_type</th>\n",
       "      <th>ride_start</th>\n",
       "      <th>ride_end</th>\n",
       "      <th>user_type</th>\n",
       "    </tr>\n",
       "  </thead>\n",
       "  <tbody>\n",
       "    <tr>\n",
       "      <th>0</th>\n",
       "      <td>C2F7DD78E82EC875</td>\n",
       "      <td>electric_bike</td>\n",
       "      <td>2022-01-13 11:59:47</td>\n",
       "      <td>2022-01-13 12:02:44</td>\n",
       "      <td>casual</td>\n",
       "    </tr>\n",
       "    <tr>\n",
       "      <th>1</th>\n",
       "      <td>A6CF8980A652D272</td>\n",
       "      <td>electric_bike</td>\n",
       "      <td>2022-01-10 08:41:56</td>\n",
       "      <td>2022-01-10 08:46:17</td>\n",
       "      <td>casual</td>\n",
       "    </tr>\n",
       "    <tr>\n",
       "      <th>2</th>\n",
       "      <td>BD0F91DFF741C66D</td>\n",
       "      <td>classic_bike</td>\n",
       "      <td>2022-01-25 04:53:40</td>\n",
       "      <td>2022-01-25 04:58:01</td>\n",
       "      <td>member</td>\n",
       "    </tr>\n",
       "    <tr>\n",
       "      <th>3</th>\n",
       "      <td>CBB80ED419105406</td>\n",
       "      <td>classic_bike</td>\n",
       "      <td>2022-01-04 00:18:04</td>\n",
       "      <td>2022-01-04 00:33:00</td>\n",
       "      <td>casual</td>\n",
       "    </tr>\n",
       "    <tr>\n",
       "      <th>4</th>\n",
       "      <td>DDC963BFDDA51EEA</td>\n",
       "      <td>classic_bike</td>\n",
       "      <td>2022-01-20 01:31:10</td>\n",
       "      <td>2022-01-20 01:37:12</td>\n",
       "      <td>member</td>\n",
       "    </tr>\n",
       "  </tbody>\n",
       "</table>\n",
       "</div>"
      ],
      "text/plain": [
       "            ride_id      bike_type           ride_start             ride_end  \\\n",
       "0  C2F7DD78E82EC875  electric_bike  2022-01-13 11:59:47  2022-01-13 12:02:44   \n",
       "1  A6CF8980A652D272  electric_bike  2022-01-10 08:41:56  2022-01-10 08:46:17   \n",
       "2  BD0F91DFF741C66D   classic_bike  2022-01-25 04:53:40  2022-01-25 04:58:01   \n",
       "3  CBB80ED419105406   classic_bike  2022-01-04 00:18:04  2022-01-04 00:33:00   \n",
       "4  DDC963BFDDA51EEA   classic_bike  2022-01-20 01:31:10  2022-01-20 01:37:12   \n",
       "\n",
       "  user_type  \n",
       "0    casual  \n",
       "1    casual  \n",
       "2    member  \n",
       "3    casual  \n",
       "4    member  "
      ]
     },
     "execution_count": 5,
     "metadata": {},
     "output_type": "execute_result"
    }
   ],
   "source": [
    "# Chaning column names to variations that are easier to use via the .rename() method.\n",
    "\n",
    "year2022_unclean.rename(columns = {\"rideable_type\":\"bike_type\", \"started_at\":\"ride_start\",\n",
    "                                  \"ended_at\":\"ride_end\", \"member_casual\":\"user_type\"}, inplace=True)\n",
    "year2022_unclean.head()"
   ]
  },
  {
   "cell_type": "code",
   "execution_count": 6,
   "id": "dcc56c86",
   "metadata": {
    "execution": {
     "iopub.execute_input": "2023-12-15T17:11:16.257563Z",
     "iopub.status.busy": "2023-12-15T17:11:16.256463Z",
     "iopub.status.idle": "2023-12-15T17:11:19.160079Z",
     "shell.execute_reply": "2023-12-15T17:11:19.158929Z"
    },
    "papermill": {
     "duration": 2.926965,
     "end_time": "2023-12-15T17:11:19.162754",
     "exception": false,
     "start_time": "2023-12-15T17:11:16.235789",
     "status": "completed"
    },
    "tags": []
   },
   "outputs": [
    {
     "data": {
      "text/plain": [
       "ride_id       0\n",
       "bike_type     0\n",
       "ride_start    0\n",
       "ride_end      0\n",
       "user_type     0\n",
       "dtype: int64"
      ]
     },
     "execution_count": 6,
     "metadata": {},
     "output_type": "execute_result"
    }
   ],
   "source": [
    "#Checking for blank/Not a Number/ Null values via the .isna() method in tandem with the .sum() method.\n",
    "\n",
    "year2022_unclean.isna().sum()"
   ]
  },
  {
   "cell_type": "code",
   "execution_count": 7,
   "id": "1def5624",
   "metadata": {
    "execution": {
     "iopub.execute_input": "2023-12-15T17:11:19.203865Z",
     "iopub.status.busy": "2023-12-15T17:11:19.203449Z",
     "iopub.status.idle": "2023-12-15T17:11:23.424409Z",
     "shell.execute_reply": "2023-12-15T17:11:23.422790Z"
    },
    "papermill": {
     "duration": 4.245128,
     "end_time": "2023-12-15T17:11:23.427349",
     "exception": false,
     "start_time": "2023-12-15T17:11:19.182221",
     "status": "completed"
    },
    "tags": []
   },
   "outputs": [
    {
     "data": {
      "text/plain": [
       "0"
      ]
     },
     "execution_count": 7,
     "metadata": {},
     "output_type": "execute_result"
    }
   ],
   "source": [
    "# Checking for duplicate ride_id values with the .duplicated() and .sum() methods. Each ride_id should be unique.\n",
    "\n",
    "year2022_unclean[\"ride_id\"].duplicated().sum()"
   ]
  },
  {
   "cell_type": "code",
   "execution_count": 8,
   "id": "cbcb11df",
   "metadata": {
    "execution": {
     "iopub.execute_input": "2023-12-15T17:11:23.468279Z",
     "iopub.status.busy": "2023-12-15T17:11:23.467298Z",
     "iopub.status.idle": "2023-12-15T17:11:28.357831Z",
     "shell.execute_reply": "2023-12-15T17:11:28.356706Z"
    },
    "papermill": {
     "duration": 4.913903,
     "end_time": "2023-12-15T17:11:28.360653",
     "exception": false,
     "start_time": "2023-12-15T17:11:23.446750",
     "status": "completed"
    },
    "tags": []
   },
   "outputs": [
    {
     "name": "stdout",
     "output_type": "stream",
     "text": [
      "<class 'pandas.core.frame.DataFrame'>\n",
      "Index: 5667717 entries, 0 to 181805\n",
      "Data columns (total 5 columns):\n",
      " #   Column      Dtype         \n",
      "---  ------      -----         \n",
      " 0   ride_id     object        \n",
      " 1   bike_type   object        \n",
      " 2   ride_start  datetime64[ns]\n",
      " 3   ride_end    datetime64[ns]\n",
      " 4   user_type   object        \n",
      "dtypes: datetime64[ns](2), object(3)\n",
      "memory usage: 259.4+ MB\n"
     ]
    }
   ],
   "source": [
    "#Changing the data types of the ride_start and ride_end columns to datetime64[ns] with the .astype() method.\n",
    "\n",
    "year2022_unclean[\"ride_start\"] = year2022_unclean[\"ride_start\"].astype(\"datetime64[ns]\")\n",
    "year2022_unclean[\"ride_end\"] = year2022_unclean[\"ride_end\"].astype(\"datetime64[ns]\")\n",
    "\n",
    "year2022_unclean.info()"
   ]
  },
  {
   "cell_type": "code",
   "execution_count": 9,
   "id": "f11f39ba",
   "metadata": {
    "execution": {
     "iopub.execute_input": "2023-12-15T17:11:28.408027Z",
     "iopub.status.busy": "2023-12-15T17:11:28.407580Z",
     "iopub.status.idle": "2023-12-15T17:11:28.592985Z",
     "shell.execute_reply": "2023-12-15T17:11:28.591797Z"
    },
    "papermill": {
     "duration": 0.212279,
     "end_time": "2023-12-15T17:11:28.595578",
     "exception": false,
     "start_time": "2023-12-15T17:11:28.383299",
     "status": "completed"
    },
    "tags": []
   },
   "outputs": [
    {
     "data": {
      "text/html": [
       "<div>\n",
       "<style scoped>\n",
       "    .dataframe tbody tr th:only-of-type {\n",
       "        vertical-align: middle;\n",
       "    }\n",
       "\n",
       "    .dataframe tbody tr th {\n",
       "        vertical-align: top;\n",
       "    }\n",
       "\n",
       "    .dataframe thead th {\n",
       "        text-align: right;\n",
       "    }\n",
       "</style>\n",
       "<table border=\"1\" class=\"dataframe\">\n",
       "  <thead>\n",
       "    <tr style=\"text-align: right;\">\n",
       "      <th></th>\n",
       "      <th>ride_id</th>\n",
       "      <th>bike_type</th>\n",
       "      <th>ride_start</th>\n",
       "      <th>ride_end</th>\n",
       "      <th>user_type</th>\n",
       "      <th>ride_time</th>\n",
       "    </tr>\n",
       "  </thead>\n",
       "  <tbody>\n",
       "    <tr>\n",
       "      <th>0</th>\n",
       "      <td>C2F7DD78E82EC875</td>\n",
       "      <td>electric_bike</td>\n",
       "      <td>2022-01-13 11:59:47</td>\n",
       "      <td>2022-01-13 12:02:44</td>\n",
       "      <td>casual</td>\n",
       "      <td>2</td>\n",
       "    </tr>\n",
       "    <tr>\n",
       "      <th>1</th>\n",
       "      <td>A6CF8980A652D272</td>\n",
       "      <td>electric_bike</td>\n",
       "      <td>2022-01-10 08:41:56</td>\n",
       "      <td>2022-01-10 08:46:17</td>\n",
       "      <td>casual</td>\n",
       "      <td>4</td>\n",
       "    </tr>\n",
       "    <tr>\n",
       "      <th>2</th>\n",
       "      <td>BD0F91DFF741C66D</td>\n",
       "      <td>classic_bike</td>\n",
       "      <td>2022-01-25 04:53:40</td>\n",
       "      <td>2022-01-25 04:58:01</td>\n",
       "      <td>member</td>\n",
       "      <td>4</td>\n",
       "    </tr>\n",
       "    <tr>\n",
       "      <th>3</th>\n",
       "      <td>CBB80ED419105406</td>\n",
       "      <td>classic_bike</td>\n",
       "      <td>2022-01-04 00:18:04</td>\n",
       "      <td>2022-01-04 00:33:00</td>\n",
       "      <td>casual</td>\n",
       "      <td>14</td>\n",
       "    </tr>\n",
       "    <tr>\n",
       "      <th>4</th>\n",
       "      <td>DDC963BFDDA51EEA</td>\n",
       "      <td>classic_bike</td>\n",
       "      <td>2022-01-20 01:31:10</td>\n",
       "      <td>2022-01-20 01:37:12</td>\n",
       "      <td>member</td>\n",
       "      <td>6</td>\n",
       "    </tr>\n",
       "  </tbody>\n",
       "</table>\n",
       "</div>"
      ],
      "text/plain": [
       "            ride_id      bike_type          ride_start            ride_end  \\\n",
       "0  C2F7DD78E82EC875  electric_bike 2022-01-13 11:59:47 2022-01-13 12:02:44   \n",
       "1  A6CF8980A652D272  electric_bike 2022-01-10 08:41:56 2022-01-10 08:46:17   \n",
       "2  BD0F91DFF741C66D   classic_bike 2022-01-25 04:53:40 2022-01-25 04:58:01   \n",
       "3  CBB80ED419105406   classic_bike 2022-01-04 00:18:04 2022-01-04 00:33:00   \n",
       "4  DDC963BFDDA51EEA   classic_bike 2022-01-20 01:31:10 2022-01-20 01:37:12   \n",
       "\n",
       "  user_type  ride_time  \n",
       "0    casual          2  \n",
       "1    casual          4  \n",
       "2    member          4  \n",
       "3    casual         14  \n",
       "4    member          6  "
      ]
     },
     "execution_count": 9,
     "metadata": {},
     "output_type": "execute_result"
    }
   ],
   "source": [
    "# Creating a new column called ride_time in minutes by subtracting the ride_end time from the ride_start time with the pandas .Timedelta() method.\n",
    "\n",
    "year2022_unclean[\"ride_time\"] = (year2022_unclean[\"ride_end\"] - year2022_unclean[\"ride_start\"]) / (pd.Timedelta(minutes = 1))\n",
    "\n",
    "# I need to change the datatype to int32 for analysis purposes.\n",
    "\n",
    "year2022_unclean[\"ride_time\"] = year2022_unclean[\"ride_time\"].astype(\"int32\")\n",
    "year2022_unclean.head()"
   ]
  },
  {
   "cell_type": "code",
   "execution_count": 10,
   "id": "55c31a60",
   "metadata": {
    "execution": {
     "iopub.execute_input": "2023-12-15T17:11:28.636648Z",
     "iopub.status.busy": "2023-12-15T17:11:28.635788Z",
     "iopub.status.idle": "2023-12-15T17:11:28.657072Z",
     "shell.execute_reply": "2023-12-15T17:11:28.656300Z"
    },
    "papermill": {
     "duration": 0.044556,
     "end_time": "2023-12-15T17:11:28.659349",
     "exception": false,
     "start_time": "2023-12-15T17:11:28.614793",
     "status": "completed"
    },
    "tags": []
   },
   "outputs": [
    {
     "data": {
      "text/plain": [
       "ride_id       74\n",
       "bike_type     74\n",
       "ride_start    74\n",
       "ride_end      74\n",
       "user_type     74\n",
       "ride_time     74\n",
       "dtype: int64"
      ]
     },
     "execution_count": 10,
     "metadata": {},
     "output_type": "execute_result"
    }
   ],
   "source": [
    "# Now I need to check for any negative values that might have occurred through the command above.\n",
    "\n",
    "year2022_unclean[year2022_unclean[\"ride_time\"] < 0].count()"
   ]
  },
  {
   "cell_type": "code",
   "execution_count": 11,
   "id": "f5c7aba9",
   "metadata": {
    "execution": {
     "iopub.execute_input": "2023-12-15T17:11:28.701884Z",
     "iopub.status.busy": "2023-12-15T17:11:28.701125Z",
     "iopub.status.idle": "2023-12-15T17:11:30.848726Z",
     "shell.execute_reply": "2023-12-15T17:11:30.847578Z"
    },
    "papermill": {
     "duration": 2.175715,
     "end_time": "2023-12-15T17:11:30.854902",
     "exception": false,
     "start_time": "2023-12-15T17:11:28.679187",
     "status": "completed"
    },
    "tags": []
   },
   "outputs": [
    {
     "data": {
      "text/plain": [
       "ride_id       0\n",
       "bike_type     0\n",
       "ride_start    0\n",
       "ride_end      0\n",
       "user_type     0\n",
       "ride_time     0\n",
       "dtype: int64"
      ]
     },
     "execution_count": 11,
     "metadata": {},
     "output_type": "execute_result"
    }
   ],
   "source": [
    "# There are 74 records out of 181805, so removing them should not cause any skews in the data. I will remove them by\n",
    "# setting the column equal to values greater than zero, using the .reset_index() method to use the default index. I will \n",
    "# drop the new index column to keep the data frame in its original form.\n",
    "\n",
    "year2022_unclean = year2022_unclean[year2022_unclean[\"ride_time\"] > 0]\n",
    "year2022_unclean = year2022_unclean.reset_index()\n",
    "year2022_unclean = year2022_unclean.drop(columns = [\"index\"])\n",
    "year2022_unclean[year2022_unclean[\"ride_time\"] < 0].count()"
   ]
  },
  {
   "cell_type": "code",
   "execution_count": 12,
   "id": "ac93ee7f",
   "metadata": {
    "execution": {
     "iopub.execute_input": "2023-12-15T17:11:30.912731Z",
     "iopub.status.busy": "2023-12-15T17:11:30.911966Z",
     "iopub.status.idle": "2023-12-15T17:11:36.707356Z",
     "shell.execute_reply": "2023-12-15T17:11:36.706187Z"
    },
    "papermill": {
     "duration": 5.821093,
     "end_time": "2023-12-15T17:11:36.709939",
     "exception": false,
     "start_time": "2023-12-15T17:11:30.888846",
     "status": "completed"
    },
    "tags": []
   },
   "outputs": [
    {
     "data": {
      "text/html": [
       "<div>\n",
       "<style scoped>\n",
       "    .dataframe tbody tr th:only-of-type {\n",
       "        vertical-align: middle;\n",
       "    }\n",
       "\n",
       "    .dataframe tbody tr th {\n",
       "        vertical-align: top;\n",
       "    }\n",
       "\n",
       "    .dataframe thead th {\n",
       "        text-align: right;\n",
       "    }\n",
       "</style>\n",
       "<table border=\"1\" class=\"dataframe\">\n",
       "  <thead>\n",
       "    <tr style=\"text-align: right;\">\n",
       "      <th></th>\n",
       "      <th>ride_id</th>\n",
       "      <th>bike_type</th>\n",
       "      <th>ride_start</th>\n",
       "      <th>ride_end</th>\n",
       "      <th>user_type</th>\n",
       "      <th>ride_time</th>\n",
       "      <th>month_day</th>\n",
       "      <th>weekday</th>\n",
       "      <th>month</th>\n",
       "      <th>year</th>\n",
       "    </tr>\n",
       "  </thead>\n",
       "  <tbody>\n",
       "    <tr>\n",
       "      <th>0</th>\n",
       "      <td>C2F7DD78E82EC875</td>\n",
       "      <td>electric_bike</td>\n",
       "      <td>2022-01-13 11:59:47</td>\n",
       "      <td>2022-01-13 12:02:44</td>\n",
       "      <td>casual</td>\n",
       "      <td>2</td>\n",
       "      <td>13</td>\n",
       "      <td>Thursday</td>\n",
       "      <td>January</td>\n",
       "      <td>2022</td>\n",
       "    </tr>\n",
       "    <tr>\n",
       "      <th>1</th>\n",
       "      <td>A6CF8980A652D272</td>\n",
       "      <td>electric_bike</td>\n",
       "      <td>2022-01-10 08:41:56</td>\n",
       "      <td>2022-01-10 08:46:17</td>\n",
       "      <td>casual</td>\n",
       "      <td>4</td>\n",
       "      <td>10</td>\n",
       "      <td>Monday</td>\n",
       "      <td>January</td>\n",
       "      <td>2022</td>\n",
       "    </tr>\n",
       "    <tr>\n",
       "      <th>2</th>\n",
       "      <td>BD0F91DFF741C66D</td>\n",
       "      <td>classic_bike</td>\n",
       "      <td>2022-01-25 04:53:40</td>\n",
       "      <td>2022-01-25 04:58:01</td>\n",
       "      <td>member</td>\n",
       "      <td>4</td>\n",
       "      <td>25</td>\n",
       "      <td>Tuesday</td>\n",
       "      <td>January</td>\n",
       "      <td>2022</td>\n",
       "    </tr>\n",
       "    <tr>\n",
       "      <th>3</th>\n",
       "      <td>CBB80ED419105406</td>\n",
       "      <td>classic_bike</td>\n",
       "      <td>2022-01-04 00:18:04</td>\n",
       "      <td>2022-01-04 00:33:00</td>\n",
       "      <td>casual</td>\n",
       "      <td>14</td>\n",
       "      <td>4</td>\n",
       "      <td>Tuesday</td>\n",
       "      <td>January</td>\n",
       "      <td>2022</td>\n",
       "    </tr>\n",
       "    <tr>\n",
       "      <th>4</th>\n",
       "      <td>DDC963BFDDA51EEA</td>\n",
       "      <td>classic_bike</td>\n",
       "      <td>2022-01-20 01:31:10</td>\n",
       "      <td>2022-01-20 01:37:12</td>\n",
       "      <td>member</td>\n",
       "      <td>6</td>\n",
       "      <td>20</td>\n",
       "      <td>Thursday</td>\n",
       "      <td>January</td>\n",
       "      <td>2022</td>\n",
       "    </tr>\n",
       "  </tbody>\n",
       "</table>\n",
       "</div>"
      ],
      "text/plain": [
       "            ride_id      bike_type          ride_start            ride_end  \\\n",
       "0  C2F7DD78E82EC875  electric_bike 2022-01-13 11:59:47 2022-01-13 12:02:44   \n",
       "1  A6CF8980A652D272  electric_bike 2022-01-10 08:41:56 2022-01-10 08:46:17   \n",
       "2  BD0F91DFF741C66D   classic_bike 2022-01-25 04:53:40 2022-01-25 04:58:01   \n",
       "3  CBB80ED419105406   classic_bike 2022-01-04 00:18:04 2022-01-04 00:33:00   \n",
       "4  DDC963BFDDA51EEA   classic_bike 2022-01-20 01:31:10 2022-01-20 01:37:12   \n",
       "\n",
       "  user_type  ride_time  month_day   weekday    month  year  \n",
       "0    casual          2         13  Thursday  January  2022  \n",
       "1    casual          4         10    Monday  January  2022  \n",
       "2    member          4         25   Tuesday  January  2022  \n",
       "3    casual         14          4   Tuesday  January  2022  \n",
       "4    member          6         20  Thursday  January  2022  "
      ]
     },
     "execution_count": 12,
     "metadata": {},
     "output_type": "execute_result"
    }
   ],
   "source": [
    "# Now that we have dealt with the negative values, I will splice the ride_start column into month_day, weekday, month, and year columns\n",
    "# with the datetime .day, .day_name(), .month_name(), and .year methods, respectively.\n",
    "\n",
    "year2022_unclean[\"month_day\"] = year2022_unclean[\"ride_start\"].dt.day\n",
    "year2022_unclean[\"weekday\"] = year2022_unclean[\"ride_start\"].dt.day_name()\n",
    "year2022_unclean[\"month\"] = year2022_unclean[\"ride_start\"].dt.month_name()\n",
    "year2022_unclean[\"year\"] = year2022_unclean[\"ride_start\"].dt.year\n",
    "\n",
    "year2022_unclean.head()"
   ]
  },
  {
   "cell_type": "code",
   "execution_count": 13,
   "id": "a81d0d3c",
   "metadata": {
    "execution": {
     "iopub.execute_input": "2023-12-15T17:11:36.752652Z",
     "iopub.status.busy": "2023-12-15T17:11:36.752201Z",
     "iopub.status.idle": "2023-12-15T17:11:39.630645Z",
     "shell.execute_reply": "2023-12-15T17:11:39.629576Z"
    },
    "papermill": {
     "duration": 2.903403,
     "end_time": "2023-12-15T17:11:39.633649",
     "exception": false,
     "start_time": "2023-12-15T17:11:36.730246",
     "status": "completed"
    },
    "tags": []
   },
   "outputs": [
    {
     "data": {
      "text/plain": [
       "ride_id       0\n",
       "bike_type     0\n",
       "ride_start    0\n",
       "ride_end      0\n",
       "user_type     0\n",
       "ride_time     0\n",
       "month_day     0\n",
       "weekday       0\n",
       "month         0\n",
       "year          0\n",
       "dtype: int64"
      ]
     },
     "execution_count": 13,
     "metadata": {},
     "output_type": "execute_result"
    }
   ],
   "source": [
    "# We are finished manipulating the data, so we will run the initial checks on the data frame, with an\n",
    "# additional check for unique values in each column with the .nunique() method.\n",
    "\n",
    "year2022_unclean.isna().sum()"
   ]
  },
  {
   "cell_type": "code",
   "execution_count": 14,
   "id": "217550ba",
   "metadata": {
    "execution": {
     "iopub.execute_input": "2023-12-15T17:11:39.676022Z",
     "iopub.status.busy": "2023-12-15T17:11:39.675602Z",
     "iopub.status.idle": "2023-12-15T17:11:43.458186Z",
     "shell.execute_reply": "2023-12-15T17:11:43.457017Z"
    },
    "papermill": {
     "duration": 3.806779,
     "end_time": "2023-12-15T17:11:43.460706",
     "exception": false,
     "start_time": "2023-12-15T17:11:39.653927",
     "status": "completed"
    },
    "tags": []
   },
   "outputs": [
    {
     "data": {
      "text/plain": [
       "0"
      ]
     },
     "execution_count": 14,
     "metadata": {},
     "output_type": "execute_result"
    }
   ],
   "source": [
    "year2022_unclean[\"ride_id\"].duplicated().sum()"
   ]
  },
  {
   "cell_type": "code",
   "execution_count": 15,
   "id": "e4dcc96a",
   "metadata": {
    "execution": {
     "iopub.execute_input": "2023-12-15T17:11:43.504651Z",
     "iopub.status.busy": "2023-12-15T17:11:43.503835Z",
     "iopub.status.idle": "2023-12-15T17:11:51.685342Z",
     "shell.execute_reply": "2023-12-15T17:11:51.684226Z"
    },
    "papermill": {
     "duration": 8.206139,
     "end_time": "2023-12-15T17:11:51.688008",
     "exception": false,
     "start_time": "2023-12-15T17:11:43.481869",
     "status": "completed"
    },
    "tags": []
   },
   "outputs": [
    {
     "data": {
      "text/plain": [
       "ride_id       5546628\n",
       "bike_type           3\n",
       "ride_start    4660581\n",
       "ride_end      4672942\n",
       "user_type           2\n",
       "ride_time        2814\n",
       "month_day          31\n",
       "weekday             7\n",
       "month              12\n",
       "year                1\n",
       "dtype: int64"
      ]
     },
     "execution_count": 15,
     "metadata": {},
     "output_type": "execute_result"
    }
   ],
   "source": [
    "year2022_unclean.nunique()"
   ]
  },
  {
   "cell_type": "code",
   "execution_count": 16,
   "id": "c23fdd7f",
   "metadata": {
    "execution": {
     "iopub.execute_input": "2023-12-15T17:11:51.732165Z",
     "iopub.status.busy": "2023-12-15T17:11:51.731123Z",
     "iopub.status.idle": "2023-12-15T17:13:05.096685Z",
     "shell.execute_reply": "2023-12-15T17:13:05.095451Z"
    },
    "papermill": {
     "duration": 73.390681,
     "end_time": "2023-12-15T17:13:05.099491",
     "exception": false,
     "start_time": "2023-12-15T17:11:51.708810",
     "status": "completed"
    },
    "tags": []
   },
   "outputs": [],
   "source": [
    "# To finsih the processing step, I will save the clean dataset as a new CSV file for easier use and any accidental mistakes to the data.\n",
    "\n",
    "year2022_unclean.to_csv(\"clean_year2022.csv\")"
   ]
  },
  {
   "cell_type": "markdown",
   "id": "9a12d493",
   "metadata": {
    "papermill": {
     "duration": 0.021437,
     "end_time": "2023-12-15T17:13:05.146637",
     "exception": false,
     "start_time": "2023-12-15T17:13:05.125200",
     "status": "completed"
    },
    "tags": []
   },
   "source": [
    "### __Guiding Questions__\n",
    "    1. What tools are you choosing and why?\n",
    "        - For this data analysis, I am choosing to use Python and its associated libraries (plotly, numpy, seaborn, matplotlib, datetime, and pandas). I chose to use Python due to its accessibility to manipulate and analyze large datasets. Since the entire years’ worth of data will be formulated into a single entity, Python will work well with the size of the dataset. Python also allows for easy data manipulation, calculation, and visualization, thus making it a \"one-stop shop\" for all my needs for this analysis.\n",
    "        \n",
    "    2. Have you ensured your data's integrity?\n",
    "        - The data's integrity has been shown through its collection and pre-viewing. The data contains no null, not a number, or blank values within the dataset, along with no duplicate values within the ride_id column. The data is from a first-hand source, and is directly taken from collection into a database without the need of input from users.\n",
    "        \n",
    "    3. What steps have you taken to ensure your data is clean?\n",
    "        - For this dataset, I started by checking for null, not a number, and blank values within the combined dataset. This result showed none of these values, ensuring that each column contained a value for each record. I then checked for duplicate values within the ride_id column and found no duplicates within the column. This shows that each record in the dataset is unique. At this point, I chose to drop the columns that I deemed unneccesary for my analysis (start_station_name, start_station_id, end_station_name, end_station_id, start_lat, start_lng, end_lat, end_lng). From here, I needed to create new columns for ride time, weekday, day of month, month, and year. To do this, I started by changing the value type of the started_at and ended_at columns from objects to datetime64[ns]. This allows me to use the datetime library to manipulate these columns to create colums for ride time, weekday, day of month, month, and year. First, I use the pandas timedelta function in conjunction with subtracting the ended_at column time from the started_at column time. I then transferred the datavalue from datetime64[ns] to int32 and created the column ride_time. Next, I checked to ensure that all values from this calculation greater than zero. I found that 74 records had a negative value for ride_time. I chose to drop those records by setting the dataset equal to all ride_time records that were greater than zero, and I reset and dropped the index column. After this, I checked for any values less than zero and the result was zero columns in the dataset with negative values. I then created a day_num, day_of_week, month, and year columns by using the dt.day, dt.day_name, dt.month_name, and dt.year on the started_at column to return values for each record in the dataset. I confirmed the code worked correctly by looking at a head of the dataset and ensuring that the values were correct. From here, I ensured that each column in my dataset had the correct amount of unique values, specifically the rideable_type, member_casual, day_num, day_of_week, month, and year columns, by using the .nunique() function. This returned the expected number of results for each column. Lastly, I double checked that there were no null, not a number, and blank values, along with checking the ride_id column for duplicate values. Both tests reuturned zero results. From here, I concluded that my dataset was clean and ready for analysis. I saved the new dataset as a CSV and went into the analysis portion of this project.\n",
    "        \n",
    "    4. How can you verify that your data is clean and ready to analyze?\n",
    "        - I verified that my data was clean through various checks on the data. I started with ensuring that each column had the expected number of unique values, specifically the rideable_type, member_casual, day_num, day_of_week, month, and year columns, by using the .nunique() function. I then checked the dataset for null, not a number and blank values by using the isna() function in conjunction with the .sum() function. Lastly, I ensured that the ride_id column had no dupelicate values that would skew my analysis by using the .duplicated() function in conjunction with the .sum() function.\n",
    "        \n",
    "    5. Have you documented your cleaning process so you can review and share those results?\n",
    "        - I used the comment style text within each coding cell to ensure that each step of the process was documented."
   ]
  },
  {
   "cell_type": "markdown",
   "id": "6e043ee9",
   "metadata": {
    "papermill": {
     "duration": 0.023804,
     "end_time": "2023-12-15T17:13:05.191056",
     "exception": false,
     "start_time": "2023-12-15T17:13:05.167252",
     "status": "completed"
    },
    "tags": []
   },
   "source": [
    "# __Part 4:__ _Analyze_\n",
    "\n",
    "### __Key Tasks:__\n",
    "    1. Aggregate your data so it’s useful and accessible.\n",
    "    2. Organize and format your data.\n",
    "    3. Perform calculations.\n",
    "    4. Identify trends and relationships."
   ]
  },
  {
   "cell_type": "code",
   "execution_count": 17,
   "id": "395748dc",
   "metadata": {
    "execution": {
     "iopub.execute_input": "2023-12-15T17:13:05.242584Z",
     "iopub.status.busy": "2023-12-15T17:13:05.241713Z",
     "iopub.status.idle": "2023-12-15T17:13:26.942159Z",
     "shell.execute_reply": "2023-12-15T17:13:26.941112Z"
    },
    "papermill": {
     "duration": 21.732834,
     "end_time": "2023-12-15T17:13:26.945094",
     "exception": false,
     "start_time": "2023-12-15T17:13:05.212260",
     "status": "completed"
    },
    "tags": []
   },
   "outputs": [],
   "source": [
    "# Opening the clean dataset with pandas .read_csv() method.\n",
    "\n",
    "clean_year2022 = pd.read_csv(\"clean_year2022.csv\")"
   ]
  },
  {
   "cell_type": "code",
   "execution_count": 18,
   "id": "d1c1f516",
   "metadata": {
    "execution": {
     "iopub.execute_input": "2023-12-15T17:13:26.988974Z",
     "iopub.status.busy": "2023-12-15T17:13:26.988582Z",
     "iopub.status.idle": "2023-12-15T17:13:27.964975Z",
     "shell.execute_reply": "2023-12-15T17:13:27.963831Z"
    },
    "papermill": {
     "duration": 1.001692,
     "end_time": "2023-12-15T17:13:27.968132",
     "exception": false,
     "start_time": "2023-12-15T17:13:26.966440",
     "status": "completed"
    },
    "tags": []
   },
   "outputs": [
    {
     "data": {
      "text/plain": [
       "user_type\n",
       "member    59.0\n",
       "casual    41.0\n",
       "Name: proportion, dtype: float64"
      ]
     },
     "execution_count": 18,
     "metadata": {},
     "output_type": "execute_result"
    }
   ],
   "source": [
    "#Creating dataframe for percentage by user type over the 2022 year with the pandas .value_counts() method.\n",
    "# .value_counts is useful for measuring the frequencies of distinct records.\n",
    "\n",
    "userType_percent = clean_year2022[\"user_type\"].value_counts(normalize = True)\n",
    "# Rounding the values to more readable percentages with the round() function.\n",
    "userType_percent = round(userType_percent * 100, 2)\n",
    "userType_percent"
   ]
  },
  {
   "cell_type": "markdown",
   "id": "592e9861",
   "metadata": {
    "papermill": {
     "duration": 0.020543,
     "end_time": "2023-12-15T17:13:28.009310",
     "exception": false,
     "start_time": "2023-12-15T17:13:27.988767",
     "status": "completed"
    },
    "tags": []
   },
   "source": [
    "Here, we can see that the company is doing a good job of converting casual users into members, but we would like to see a greater difference between member and casual user percentages."
   ]
  },
  {
   "cell_type": "code",
   "execution_count": 19,
   "id": "6d9ddc98",
   "metadata": {
    "execution": {
     "iopub.execute_input": "2023-12-15T17:13:28.053091Z",
     "iopub.status.busy": "2023-12-15T17:13:28.052662Z",
     "iopub.status.idle": "2023-12-15T17:13:30.017491Z",
     "shell.execute_reply": "2023-12-15T17:13:30.016611Z"
    },
    "papermill": {
     "duration": 1.990234,
     "end_time": "2023-12-15T17:13:30.020090",
     "exception": false,
     "start_time": "2023-12-15T17:13:28.029856",
     "status": "completed"
    },
    "tags": []
   },
   "outputs": [
    {
     "data": {
      "text/html": [
       "<div>\n",
       "<style scoped>\n",
       "    .dataframe tbody tr th:only-of-type {\n",
       "        vertical-align: middle;\n",
       "    }\n",
       "\n",
       "    .dataframe tbody tr th {\n",
       "        vertical-align: top;\n",
       "    }\n",
       "\n",
       "    .dataframe thead th {\n",
       "        text-align: right;\n",
       "    }\n",
       "</style>\n",
       "<table border=\"1\" class=\"dataframe\">\n",
       "  <thead>\n",
       "    <tr style=\"text-align: right;\">\n",
       "      <th></th>\n",
       "      <th>user_type</th>\n",
       "      <th>weekday</th>\n",
       "      <th>ride_id</th>\n",
       "    </tr>\n",
       "  </thead>\n",
       "  <tbody>\n",
       "    <tr>\n",
       "      <th>0</th>\n",
       "      <td>casual</td>\n",
       "      <td>Friday</td>\n",
       "      <td>327770</td>\n",
       "    </tr>\n",
       "    <tr>\n",
       "      <th>1</th>\n",
       "      <td>casual</td>\n",
       "      <td>Monday</td>\n",
       "      <td>272051</td>\n",
       "    </tr>\n",
       "    <tr>\n",
       "      <th>2</th>\n",
       "      <td>casual</td>\n",
       "      <td>Saturday</td>\n",
       "      <td>463301</td>\n",
       "    </tr>\n",
       "    <tr>\n",
       "      <th>3</th>\n",
       "      <td>casual</td>\n",
       "      <td>Sunday</td>\n",
       "      <td>380940</td>\n",
       "    </tr>\n",
       "    <tr>\n",
       "      <th>4</th>\n",
       "      <td>casual</td>\n",
       "      <td>Thursday</td>\n",
       "      <td>303014</td>\n",
       "    </tr>\n",
       "    <tr>\n",
       "      <th>5</th>\n",
       "      <td>casual</td>\n",
       "      <td>Tuesday</td>\n",
       "      <td>258282</td>\n",
       "    </tr>\n",
       "    <tr>\n",
       "      <th>6</th>\n",
       "      <td>casual</td>\n",
       "      <td>Wednesday</td>\n",
       "      <td>268784</td>\n",
       "    </tr>\n",
       "    <tr>\n",
       "      <th>7</th>\n",
       "      <td>member</td>\n",
       "      <td>Friday</td>\n",
       "      <td>456920</td>\n",
       "    </tr>\n",
       "    <tr>\n",
       "      <th>8</th>\n",
       "      <td>member</td>\n",
       "      <td>Monday</td>\n",
       "      <td>463268</td>\n",
       "    </tr>\n",
       "    <tr>\n",
       "      <th>9</th>\n",
       "      <td>member</td>\n",
       "      <td>Saturday</td>\n",
       "      <td>432855</td>\n",
       "    </tr>\n",
       "    <tr>\n",
       "      <th>10</th>\n",
       "      <td>member</td>\n",
       "      <td>Sunday</td>\n",
       "      <td>378233</td>\n",
       "    </tr>\n",
       "    <tr>\n",
       "      <th>11</th>\n",
       "      <td>member</td>\n",
       "      <td>Thursday</td>\n",
       "      <td>520791</td>\n",
       "    </tr>\n",
       "    <tr>\n",
       "      <th>12</th>\n",
       "      <td>member</td>\n",
       "      <td>Tuesday</td>\n",
       "      <td>507792</td>\n",
       "    </tr>\n",
       "    <tr>\n",
       "      <th>13</th>\n",
       "      <td>member</td>\n",
       "      <td>Wednesday</td>\n",
       "      <td>512627</td>\n",
       "    </tr>\n",
       "  </tbody>\n",
       "</table>\n",
       "</div>"
      ],
      "text/plain": [
       "   user_type    weekday  ride_id\n",
       "0     casual     Friday   327770\n",
       "1     casual     Monday   272051\n",
       "2     casual   Saturday   463301\n",
       "3     casual     Sunday   380940\n",
       "4     casual   Thursday   303014\n",
       "5     casual    Tuesday   258282\n",
       "6     casual  Wednesday   268784\n",
       "7     member     Friday   456920\n",
       "8     member     Monday   463268\n",
       "9     member   Saturday   432855\n",
       "10    member     Sunday   378233\n",
       "11    member   Thursday   520791\n",
       "12    member    Tuesday   507792\n",
       "13    member  Wednesday   512627"
      ]
     },
     "execution_count": 19,
     "metadata": {},
     "output_type": "execute_result"
    }
   ],
   "source": [
    "# Now we are going to look at the number of rides per day of week by using the .groupby() method\n",
    "# in unison with an aggregate function to count the values of the ride_id column.\n",
    "\n",
    "rides_by_weekday = clean_year2022.groupby([\"user_type\", \"weekday\"], observed = False)[\"ride_id\"].agg(\"count\")\n",
    "# Changing the variable to a data frame with the .to_frame() method and resetting the index of \n",
    "# the data frame to the default Python indexing system.\n",
    "rides_by_weekday = rides_by_weekday.to_frame().reset_index()\n",
    "rides_by_weekday"
   ]
  },
  {
   "cell_type": "code",
   "execution_count": 20,
   "id": "f4631c9c",
   "metadata": {
    "execution": {
     "iopub.execute_input": "2023-12-15T17:13:30.065118Z",
     "iopub.status.busy": "2023-12-15T17:13:30.063913Z",
     "iopub.status.idle": "2023-12-15T17:13:32.080958Z",
     "shell.execute_reply": "2023-12-15T17:13:32.079856Z"
    },
    "papermill": {
     "duration": 2.042457,
     "end_time": "2023-12-15T17:13:32.083745",
     "exception": false,
     "start_time": "2023-12-15T17:13:30.041288",
     "status": "completed"
    },
    "tags": []
   },
   "outputs": [
    {
     "data": {
      "text/html": [
       "<div>\n",
       "<style scoped>\n",
       "    .dataframe tbody tr th:only-of-type {\n",
       "        vertical-align: middle;\n",
       "    }\n",
       "\n",
       "    .dataframe tbody tr th {\n",
       "        vertical-align: top;\n",
       "    }\n",
       "\n",
       "    .dataframe thead th {\n",
       "        text-align: right;\n",
       "    }\n",
       "</style>\n",
       "<table border=\"1\" class=\"dataframe\">\n",
       "  <thead>\n",
       "    <tr style=\"text-align: right;\">\n",
       "      <th></th>\n",
       "      <th>user_type</th>\n",
       "      <th>weekday</th>\n",
       "      <th>ride_id</th>\n",
       "    </tr>\n",
       "  </thead>\n",
       "  <tbody>\n",
       "    <tr>\n",
       "      <th>0</th>\n",
       "      <td>casual</td>\n",
       "      <td>Sunday</td>\n",
       "      <td>380940</td>\n",
       "    </tr>\n",
       "    <tr>\n",
       "      <th>1</th>\n",
       "      <td>casual</td>\n",
       "      <td>Monday</td>\n",
       "      <td>272051</td>\n",
       "    </tr>\n",
       "    <tr>\n",
       "      <th>2</th>\n",
       "      <td>casual</td>\n",
       "      <td>Tuesday</td>\n",
       "      <td>258282</td>\n",
       "    </tr>\n",
       "    <tr>\n",
       "      <th>3</th>\n",
       "      <td>casual</td>\n",
       "      <td>Wednesday</td>\n",
       "      <td>268784</td>\n",
       "    </tr>\n",
       "    <tr>\n",
       "      <th>4</th>\n",
       "      <td>casual</td>\n",
       "      <td>Thursday</td>\n",
       "      <td>303014</td>\n",
       "    </tr>\n",
       "    <tr>\n",
       "      <th>5</th>\n",
       "      <td>casual</td>\n",
       "      <td>Friday</td>\n",
       "      <td>327770</td>\n",
       "    </tr>\n",
       "    <tr>\n",
       "      <th>6</th>\n",
       "      <td>casual</td>\n",
       "      <td>Saturday</td>\n",
       "      <td>463301</td>\n",
       "    </tr>\n",
       "    <tr>\n",
       "      <th>7</th>\n",
       "      <td>member</td>\n",
       "      <td>Sunday</td>\n",
       "      <td>378233</td>\n",
       "    </tr>\n",
       "    <tr>\n",
       "      <th>8</th>\n",
       "      <td>member</td>\n",
       "      <td>Monday</td>\n",
       "      <td>463268</td>\n",
       "    </tr>\n",
       "    <tr>\n",
       "      <th>9</th>\n",
       "      <td>member</td>\n",
       "      <td>Tuesday</td>\n",
       "      <td>507792</td>\n",
       "    </tr>\n",
       "    <tr>\n",
       "      <th>10</th>\n",
       "      <td>member</td>\n",
       "      <td>Wednesday</td>\n",
       "      <td>512627</td>\n",
       "    </tr>\n",
       "    <tr>\n",
       "      <th>11</th>\n",
       "      <td>member</td>\n",
       "      <td>Thursday</td>\n",
       "      <td>520791</td>\n",
       "    </tr>\n",
       "    <tr>\n",
       "      <th>12</th>\n",
       "      <td>member</td>\n",
       "      <td>Friday</td>\n",
       "      <td>456920</td>\n",
       "    </tr>\n",
       "    <tr>\n",
       "      <th>13</th>\n",
       "      <td>member</td>\n",
       "      <td>Saturday</td>\n",
       "      <td>432855</td>\n",
       "    </tr>\n",
       "  </tbody>\n",
       "</table>\n",
       "</div>"
      ],
      "text/plain": [
       "   user_type    weekday  ride_id\n",
       "0     casual     Sunday   380940\n",
       "1     casual     Monday   272051\n",
       "2     casual    Tuesday   258282\n",
       "3     casual  Wednesday   268784\n",
       "4     casual   Thursday   303014\n",
       "5     casual     Friday   327770\n",
       "6     casual   Saturday   463301\n",
       "7     member     Sunday   378233\n",
       "8     member     Monday   463268\n",
       "9     member    Tuesday   507792\n",
       "10    member  Wednesday   512627\n",
       "11    member   Thursday   520791\n",
       "12    member     Friday   456920\n",
       "13    member   Saturday   432855"
      ]
     },
     "execution_count": 20,
     "metadata": {},
     "output_type": "execute_result"
    }
   ],
   "source": [
    "# The weekdays are out of order, to fix this, I will create a list of the correct order\n",
    "# and input it into the day of week column with the pandas .Categorical() method.\n",
    "\n",
    "day_order = ([\"Sunday\", \"Monday\", \"Tuesday\", \"Wednesday\", \"Thursday\", \"Friday\", \"Saturday\"])\n",
    "clean_year2022[\"weekday\"] = pd.Categorical(clean_year2022[\"weekday\"], categories = day_order)\n",
    "#Recreating the code from above, but with ordered days.\n",
    "rides_by_weekday = clean_year2022.groupby([\"user_type\", \"weekday\"], observed = False)[\"ride_id\"].agg(\"count\")\n",
    "rides_by_weekday = rides_by_weekday.to_frame().reset_index()\n",
    "rides_by_weekday"
   ]
  },
  {
   "cell_type": "markdown",
   "id": "ff70eac3",
   "metadata": {
    "papermill": {
     "duration": 0.02337,
     "end_time": "2023-12-15T17:13:32.128886",
     "exception": false,
     "start_time": "2023-12-15T17:13:32.105516",
     "status": "completed"
    },
    "tags": []
   },
   "source": [
    "In this data frame, it shows that casual users boast a greater number of rides per weekends by a range of 2,000 to 30,000, while members average a greater ride time during the weekdays by a range of 129,000 to 249,000. On the weekends, casual users average 16,576 more rides than members. Across the weekdays, members average 206,299 more rides than casual users. In the span of a week, members average 68,222 rides more than casual users. This provides a keen insight into the various usages of the bike-share program. The members average a greater number of rides during the weekdays and across the whole week, suggesting that members are likely individuals who live within the Chicago area and use the bike-share program as a form of transportation across the city. Casual users boast a greater usage on the weekends, but not by a greater factor in comparison to the members across the weekdays, and over the whole week, members have a much more similar average number of rides per day, suggesting that casual users are individuals that come to visit the city on the weekends. This supports the data, as Saturday and Sunday are the only days where casual users have a greater number of rides in comparison to members."
   ]
  },
  {
   "cell_type": "code",
   "execution_count": 21,
   "id": "3ce509aa",
   "metadata": {
    "execution": {
     "iopub.execute_input": "2023-12-15T17:13:32.176674Z",
     "iopub.status.busy": "2023-12-15T17:13:32.175440Z",
     "iopub.status.idle": "2023-12-15T17:13:33.569294Z",
     "shell.execute_reply": "2023-12-15T17:13:33.568077Z"
    },
    "papermill": {
     "duration": 1.419743,
     "end_time": "2023-12-15T17:13:33.571827",
     "exception": false,
     "start_time": "2023-12-15T17:13:32.152084",
     "status": "completed"
    },
    "tags": []
   },
   "outputs": [
    {
     "data": {
      "text/html": [
       "<div>\n",
       "<style scoped>\n",
       "    .dataframe tbody tr th:only-of-type {\n",
       "        vertical-align: middle;\n",
       "    }\n",
       "\n",
       "    .dataframe tbody tr th {\n",
       "        vertical-align: top;\n",
       "    }\n",
       "\n",
       "    .dataframe thead th {\n",
       "        text-align: right;\n",
       "    }\n",
       "</style>\n",
       "<table border=\"1\" class=\"dataframe\">\n",
       "  <thead>\n",
       "    <tr style=\"text-align: right;\">\n",
       "      <th></th>\n",
       "      <th>user_type</th>\n",
       "      <th>month_day</th>\n",
       "      <th>ride_id</th>\n",
       "    </tr>\n",
       "  </thead>\n",
       "  <tbody>\n",
       "    <tr>\n",
       "      <th>0</th>\n",
       "      <td>casual</td>\n",
       "      <td>1</td>\n",
       "      <td>70582</td>\n",
       "    </tr>\n",
       "    <tr>\n",
       "      <th>1</th>\n",
       "      <td>casual</td>\n",
       "      <td>2</td>\n",
       "      <td>76949</td>\n",
       "    </tr>\n",
       "    <tr>\n",
       "      <th>2</th>\n",
       "      <td>casual</td>\n",
       "      <td>3</td>\n",
       "      <td>80059</td>\n",
       "    </tr>\n",
       "    <tr>\n",
       "      <th>3</th>\n",
       "      <td>casual</td>\n",
       "      <td>4</td>\n",
       "      <td>71892</td>\n",
       "    </tr>\n",
       "    <tr>\n",
       "      <th>4</th>\n",
       "      <td>casual</td>\n",
       "      <td>5</td>\n",
       "      <td>78156</td>\n",
       "    </tr>\n",
       "    <tr>\n",
       "      <th>...</th>\n",
       "      <td>...</td>\n",
       "      <td>...</td>\n",
       "      <td>...</td>\n",
       "    </tr>\n",
       "    <tr>\n",
       "      <th>57</th>\n",
       "      <td>member</td>\n",
       "      <td>27</td>\n",
       "      <td>101929</td>\n",
       "    </tr>\n",
       "    <tr>\n",
       "      <th>58</th>\n",
       "      <td>member</td>\n",
       "      <td>28</td>\n",
       "      <td>111559</td>\n",
       "    </tr>\n",
       "    <tr>\n",
       "      <th>59</th>\n",
       "      <td>member</td>\n",
       "      <td>29</td>\n",
       "      <td>110156</td>\n",
       "    </tr>\n",
       "    <tr>\n",
       "      <th>60</th>\n",
       "      <td>member</td>\n",
       "      <td>30</td>\n",
       "      <td>100014</td>\n",
       "    </tr>\n",
       "    <tr>\n",
       "      <th>61</th>\n",
       "      <td>member</td>\n",
       "      <td>31</td>\n",
       "      <td>64522</td>\n",
       "    </tr>\n",
       "  </tbody>\n",
       "</table>\n",
       "<p>62 rows × 3 columns</p>\n",
       "</div>"
      ],
      "text/plain": [
       "   user_type  month_day  ride_id\n",
       "0     casual          1    70582\n",
       "1     casual          2    76949\n",
       "2     casual          3    80059\n",
       "3     casual          4    71892\n",
       "4     casual          5    78156\n",
       "..       ...        ...      ...\n",
       "57    member         27   101929\n",
       "58    member         28   111559\n",
       "59    member         29   110156\n",
       "60    member         30   100014\n",
       "61    member         31    64522\n",
       "\n",
       "[62 rows x 3 columns]"
      ]
     },
     "execution_count": 21,
     "metadata": {},
     "output_type": "execute_result"
    }
   ],
   "source": [
    "# Creating a dataframe for the number of rides per day of the month with the same .groupby() method as above.\n",
    "\n",
    "rides_by_monthday = clean_year2022.groupby([\"user_type\", \"month_day\"], observed = False)[\"ride_id\"].agg(\"count\")\n",
    "rides_by_monthday = rides_by_monthday.to_frame().reset_index()\n",
    "rides_by_monthday"
   ]
  },
  {
   "cell_type": "code",
   "execution_count": 22,
   "id": "64bf1cc9",
   "metadata": {
    "execution": {
     "iopub.execute_input": "2023-12-15T17:13:33.619121Z",
     "iopub.status.busy": "2023-12-15T17:13:33.618178Z",
     "iopub.status.idle": "2023-12-15T17:13:35.518602Z",
     "shell.execute_reply": "2023-12-15T17:13:35.517715Z"
    },
    "papermill": {
     "duration": 1.926313,
     "end_time": "2023-12-15T17:13:35.520785",
     "exception": false,
     "start_time": "2023-12-15T17:13:33.594472",
     "status": "completed"
    },
    "tags": []
   },
   "outputs": [
    {
     "data": {
      "text/html": [
       "<div>\n",
       "<style scoped>\n",
       "    .dataframe tbody tr th:only-of-type {\n",
       "        vertical-align: middle;\n",
       "    }\n",
       "\n",
       "    .dataframe tbody tr th {\n",
       "        vertical-align: top;\n",
       "    }\n",
       "\n",
       "    .dataframe thead th {\n",
       "        text-align: right;\n",
       "    }\n",
       "</style>\n",
       "<table border=\"1\" class=\"dataframe\">\n",
       "  <thead>\n",
       "    <tr style=\"text-align: right;\">\n",
       "      <th></th>\n",
       "      <th>user_type</th>\n",
       "      <th>month</th>\n",
       "      <th>ride_id</th>\n",
       "    </tr>\n",
       "  </thead>\n",
       "  <tbody>\n",
       "    <tr>\n",
       "      <th>0</th>\n",
       "      <td>casual</td>\n",
       "      <td>April</td>\n",
       "      <td>124080</td>\n",
       "    </tr>\n",
       "    <tr>\n",
       "      <th>1</th>\n",
       "      <td>casual</td>\n",
       "      <td>August</td>\n",
       "      <td>351164</td>\n",
       "    </tr>\n",
       "    <tr>\n",
       "      <th>2</th>\n",
       "      <td>casual</td>\n",
       "      <td>December</td>\n",
       "      <td>43746</td>\n",
       "    </tr>\n",
       "    <tr>\n",
       "      <th>3</th>\n",
       "      <td>casual</td>\n",
       "      <td>February</td>\n",
       "      <td>20981</td>\n",
       "    </tr>\n",
       "    <tr>\n",
       "      <th>4</th>\n",
       "      <td>casual</td>\n",
       "      <td>January</td>\n",
       "      <td>18154</td>\n",
       "    </tr>\n",
       "    <tr>\n",
       "      <th>5</th>\n",
       "      <td>casual</td>\n",
       "      <td>July</td>\n",
       "      <td>397648</td>\n",
       "    </tr>\n",
       "    <tr>\n",
       "      <th>6</th>\n",
       "      <td>casual</td>\n",
       "      <td>June</td>\n",
       "      <td>361929</td>\n",
       "    </tr>\n",
       "    <tr>\n",
       "      <th>7</th>\n",
       "      <td>casual</td>\n",
       "      <td>March</td>\n",
       "      <td>88343</td>\n",
       "    </tr>\n",
       "    <tr>\n",
       "      <th>8</th>\n",
       "      <td>casual</td>\n",
       "      <td>May</td>\n",
       "      <td>275125</td>\n",
       "    </tr>\n",
       "    <tr>\n",
       "      <th>9</th>\n",
       "      <td>casual</td>\n",
       "      <td>November</td>\n",
       "      <td>98383</td>\n",
       "    </tr>\n",
       "    <tr>\n",
       "      <th>10</th>\n",
       "      <td>casual</td>\n",
       "      <td>October</td>\n",
       "      <td>204205</td>\n",
       "    </tr>\n",
       "    <tr>\n",
       "      <th>11</th>\n",
       "      <td>casual</td>\n",
       "      <td>September</td>\n",
       "      <td>290384</td>\n",
       "    </tr>\n",
       "    <tr>\n",
       "      <th>12</th>\n",
       "      <td>member</td>\n",
       "      <td>April</td>\n",
       "      <td>239853</td>\n",
       "    </tr>\n",
       "    <tr>\n",
       "      <th>13</th>\n",
       "      <td>member</td>\n",
       "      <td>August</td>\n",
       "      <td>417206</td>\n",
       "    </tr>\n",
       "    <tr>\n",
       "      <th>14</th>\n",
       "      <td>member</td>\n",
       "      <td>December</td>\n",
       "      <td>133285</td>\n",
       "    </tr>\n",
       "    <tr>\n",
       "      <th>15</th>\n",
       "      <td>member</td>\n",
       "      <td>February</td>\n",
       "      <td>92070</td>\n",
       "    </tr>\n",
       "    <tr>\n",
       "      <th>16</th>\n",
       "      <td>member</td>\n",
       "      <td>January</td>\n",
       "      <td>83765</td>\n",
       "    </tr>\n",
       "    <tr>\n",
       "      <th>17</th>\n",
       "      <td>member</td>\n",
       "      <td>July</td>\n",
       "      <td>408026</td>\n",
       "    </tr>\n",
       "    <tr>\n",
       "      <th>18</th>\n",
       "      <td>member</td>\n",
       "      <td>June</td>\n",
       "      <td>391891</td>\n",
       "    </tr>\n",
       "    <tr>\n",
       "      <th>19</th>\n",
       "      <td>member</td>\n",
       "      <td>March</td>\n",
       "      <td>190601</td>\n",
       "    </tr>\n",
       "    <tr>\n",
       "      <th>20</th>\n",
       "      <td>member</td>\n",
       "      <td>May</td>\n",
       "      <td>347319</td>\n",
       "    </tr>\n",
       "    <tr>\n",
       "      <th>21</th>\n",
       "      <td>member</td>\n",
       "      <td>November</td>\n",
       "      <td>231675</td>\n",
       "    </tr>\n",
       "    <tr>\n",
       "      <th>22</th>\n",
       "      <td>member</td>\n",
       "      <td>October</td>\n",
       "      <td>341370</td>\n",
       "    </tr>\n",
       "    <tr>\n",
       "      <th>23</th>\n",
       "      <td>member</td>\n",
       "      <td>September</td>\n",
       "      <td>395425</td>\n",
       "    </tr>\n",
       "  </tbody>\n",
       "</table>\n",
       "</div>"
      ],
      "text/plain": [
       "   user_type      month  ride_id\n",
       "0     casual      April   124080\n",
       "1     casual     August   351164\n",
       "2     casual   December    43746\n",
       "3     casual   February    20981\n",
       "4     casual    January    18154\n",
       "5     casual       July   397648\n",
       "6     casual       June   361929\n",
       "7     casual      March    88343\n",
       "8     casual        May   275125\n",
       "9     casual   November    98383\n",
       "10    casual    October   204205\n",
       "11    casual  September   290384\n",
       "12    member      April   239853\n",
       "13    member     August   417206\n",
       "14    member   December   133285\n",
       "15    member   February    92070\n",
       "16    member    January    83765\n",
       "17    member       July   408026\n",
       "18    member       June   391891\n",
       "19    member      March   190601\n",
       "20    member        May   347319\n",
       "21    member   November   231675\n",
       "22    member    October   341370\n",
       "23    member  September   395425"
      ]
     },
     "execution_count": 22,
     "metadata": {},
     "output_type": "execute_result"
    }
   ],
   "source": [
    "# Creating a dataframe for the number of rides by month.\n",
    "\n",
    "rides_by_month = clean_year2022.groupby([\"user_type\", \"month\"], observed = False)[\"ride_id\"].agg(\"count\")\n",
    "rides_by_month = rides_by_month.to_frame().reset_index()\n",
    "rides_by_month"
   ]
  },
  {
   "cell_type": "code",
   "execution_count": 23,
   "id": "b56e27f6",
   "metadata": {
    "execution": {
     "iopub.execute_input": "2023-12-15T17:13:35.566877Z",
     "iopub.status.busy": "2023-12-15T17:13:35.566285Z",
     "iopub.status.idle": "2023-12-15T17:13:37.629702Z",
     "shell.execute_reply": "2023-12-15T17:13:37.628805Z"
    },
    "papermill": {
     "duration": 2.090265,
     "end_time": "2023-12-15T17:13:37.632931",
     "exception": false,
     "start_time": "2023-12-15T17:13:35.542666",
     "status": "completed"
    },
    "tags": []
   },
   "outputs": [
    {
     "data": {
      "text/html": [
       "<div>\n",
       "<style scoped>\n",
       "    .dataframe tbody tr th:only-of-type {\n",
       "        vertical-align: middle;\n",
       "    }\n",
       "\n",
       "    .dataframe tbody tr th {\n",
       "        vertical-align: top;\n",
       "    }\n",
       "\n",
       "    .dataframe thead th {\n",
       "        text-align: right;\n",
       "    }\n",
       "</style>\n",
       "<table border=\"1\" class=\"dataframe\">\n",
       "  <thead>\n",
       "    <tr style=\"text-align: right;\">\n",
       "      <th></th>\n",
       "      <th>user_type</th>\n",
       "      <th>month</th>\n",
       "      <th>ride_id</th>\n",
       "    </tr>\n",
       "  </thead>\n",
       "  <tbody>\n",
       "    <tr>\n",
       "      <th>0</th>\n",
       "      <td>casual</td>\n",
       "      <td>January</td>\n",
       "      <td>18154</td>\n",
       "    </tr>\n",
       "    <tr>\n",
       "      <th>1</th>\n",
       "      <td>casual</td>\n",
       "      <td>February</td>\n",
       "      <td>20981</td>\n",
       "    </tr>\n",
       "    <tr>\n",
       "      <th>2</th>\n",
       "      <td>casual</td>\n",
       "      <td>March</td>\n",
       "      <td>88343</td>\n",
       "    </tr>\n",
       "    <tr>\n",
       "      <th>3</th>\n",
       "      <td>casual</td>\n",
       "      <td>April</td>\n",
       "      <td>124080</td>\n",
       "    </tr>\n",
       "    <tr>\n",
       "      <th>4</th>\n",
       "      <td>casual</td>\n",
       "      <td>May</td>\n",
       "      <td>275125</td>\n",
       "    </tr>\n",
       "    <tr>\n",
       "      <th>5</th>\n",
       "      <td>casual</td>\n",
       "      <td>June</td>\n",
       "      <td>361929</td>\n",
       "    </tr>\n",
       "    <tr>\n",
       "      <th>6</th>\n",
       "      <td>casual</td>\n",
       "      <td>July</td>\n",
       "      <td>397648</td>\n",
       "    </tr>\n",
       "    <tr>\n",
       "      <th>7</th>\n",
       "      <td>casual</td>\n",
       "      <td>August</td>\n",
       "      <td>351164</td>\n",
       "    </tr>\n",
       "    <tr>\n",
       "      <th>8</th>\n",
       "      <td>casual</td>\n",
       "      <td>September</td>\n",
       "      <td>290384</td>\n",
       "    </tr>\n",
       "    <tr>\n",
       "      <th>9</th>\n",
       "      <td>casual</td>\n",
       "      <td>October</td>\n",
       "      <td>204205</td>\n",
       "    </tr>\n",
       "    <tr>\n",
       "      <th>10</th>\n",
       "      <td>casual</td>\n",
       "      <td>November</td>\n",
       "      <td>98383</td>\n",
       "    </tr>\n",
       "    <tr>\n",
       "      <th>11</th>\n",
       "      <td>casual</td>\n",
       "      <td>December</td>\n",
       "      <td>43746</td>\n",
       "    </tr>\n",
       "    <tr>\n",
       "      <th>12</th>\n",
       "      <td>member</td>\n",
       "      <td>January</td>\n",
       "      <td>83765</td>\n",
       "    </tr>\n",
       "    <tr>\n",
       "      <th>13</th>\n",
       "      <td>member</td>\n",
       "      <td>February</td>\n",
       "      <td>92070</td>\n",
       "    </tr>\n",
       "    <tr>\n",
       "      <th>14</th>\n",
       "      <td>member</td>\n",
       "      <td>March</td>\n",
       "      <td>190601</td>\n",
       "    </tr>\n",
       "    <tr>\n",
       "      <th>15</th>\n",
       "      <td>member</td>\n",
       "      <td>April</td>\n",
       "      <td>239853</td>\n",
       "    </tr>\n",
       "    <tr>\n",
       "      <th>16</th>\n",
       "      <td>member</td>\n",
       "      <td>May</td>\n",
       "      <td>347319</td>\n",
       "    </tr>\n",
       "    <tr>\n",
       "      <th>17</th>\n",
       "      <td>member</td>\n",
       "      <td>June</td>\n",
       "      <td>391891</td>\n",
       "    </tr>\n",
       "    <tr>\n",
       "      <th>18</th>\n",
       "      <td>member</td>\n",
       "      <td>July</td>\n",
       "      <td>408026</td>\n",
       "    </tr>\n",
       "    <tr>\n",
       "      <th>19</th>\n",
       "      <td>member</td>\n",
       "      <td>August</td>\n",
       "      <td>417206</td>\n",
       "    </tr>\n",
       "    <tr>\n",
       "      <th>20</th>\n",
       "      <td>member</td>\n",
       "      <td>September</td>\n",
       "      <td>395425</td>\n",
       "    </tr>\n",
       "    <tr>\n",
       "      <th>21</th>\n",
       "      <td>member</td>\n",
       "      <td>October</td>\n",
       "      <td>341370</td>\n",
       "    </tr>\n",
       "    <tr>\n",
       "      <th>22</th>\n",
       "      <td>member</td>\n",
       "      <td>November</td>\n",
       "      <td>231675</td>\n",
       "    </tr>\n",
       "    <tr>\n",
       "      <th>23</th>\n",
       "      <td>member</td>\n",
       "      <td>December</td>\n",
       "      <td>133285</td>\n",
       "    </tr>\n",
       "  </tbody>\n",
       "</table>\n",
       "</div>"
      ],
      "text/plain": [
       "   user_type      month  ride_id\n",
       "0     casual    January    18154\n",
       "1     casual   February    20981\n",
       "2     casual      March    88343\n",
       "3     casual      April   124080\n",
       "4     casual        May   275125\n",
       "5     casual       June   361929\n",
       "6     casual       July   397648\n",
       "7     casual     August   351164\n",
       "8     casual  September   290384\n",
       "9     casual    October   204205\n",
       "10    casual   November    98383\n",
       "11    casual   December    43746\n",
       "12    member    January    83765\n",
       "13    member   February    92070\n",
       "14    member      March   190601\n",
       "15    member      April   239853\n",
       "16    member        May   347319\n",
       "17    member       June   391891\n",
       "18    member       July   408026\n",
       "19    member     August   417206\n",
       "20    member  September   395425\n",
       "21    member    October   341370\n",
       "22    member   November   231675\n",
       "23    member   December   133285"
      ]
     },
     "execution_count": 23,
     "metadata": {},
     "output_type": "execute_result"
    }
   ],
   "source": [
    "# The months are out of order, so we will order them with the same methods as the days of the week.\n",
    "\n",
    "month_order = ([\"January\", \"February\", \"March\", \"April\", \"May\", \"June\",\n",
    "                \"July\", \"August\", \"September\", \"October\", \"November\", \"December\"])\n",
    "clean_year2022[\"month\"] = pd.Categorical(clean_year2022[\"month\"], categories = month_order)\n",
    "\n",
    "rides_by_month = clean_year2022.groupby([\"user_type\", \"month\"], observed = False)[\"ride_id\"].agg(\"count\")\n",
    "rides_by_month = rides_by_month.to_frame().reset_index()\n",
    "rides_by_month"
   ]
  },
  {
   "cell_type": "markdown",
   "id": "03fbe2f5",
   "metadata": {
    "papermill": {
     "duration": 0.022533,
     "end_time": "2023-12-15T17:13:37.679592",
     "exception": false,
     "start_time": "2023-12-15T17:13:37.657059",
     "status": "completed"
    },
    "tags": []
   },
   "source": [
    "This data frame shows the average number of rides per month for casual users and members. In this data frame, it shows that the average number of rides increases during the warmer months of the year for both casual users and members. This is a point that would be expected, as the warmer weather often provides a more ideal atmosphere for bike rides. Throughout the year, the members average a greater number of rides versus casual users. The average number of rides for members only dip below 100,000 in January and February. This is likely due to January and February being the coldest months out of a year. Casual users have 5 months where the average number of rides dips below 100,000. This, in combination with the greater consistency among members rides per month, further suggests that members are users who live within the city of Chicago and, likely, use the bike-share program as a means of daily transportation."
   ]
  },
  {
   "cell_type": "code",
   "execution_count": 24,
   "id": "1f01d689",
   "metadata": {
    "execution": {
     "iopub.execute_input": "2023-12-15T17:13:37.726425Z",
     "iopub.status.busy": "2023-12-15T17:13:37.725946Z",
     "iopub.status.idle": "2023-12-15T17:13:38.393736Z",
     "shell.execute_reply": "2023-12-15T17:13:38.392623Z"
    },
    "papermill": {
     "duration": 0.694547,
     "end_time": "2023-12-15T17:13:38.396659",
     "exception": false,
     "start_time": "2023-12-15T17:13:37.702112",
     "status": "completed"
    },
    "tags": []
   },
   "outputs": [
    {
     "data": {
      "text/html": [
       "<div>\n",
       "<style scoped>\n",
       "    .dataframe tbody tr th:only-of-type {\n",
       "        vertical-align: middle;\n",
       "    }\n",
       "\n",
       "    .dataframe tbody tr th {\n",
       "        vertical-align: top;\n",
       "    }\n",
       "\n",
       "    .dataframe thead th {\n",
       "        text-align: right;\n",
       "    }\n",
       "</style>\n",
       "<table border=\"1\" class=\"dataframe\">\n",
       "  <thead>\n",
       "    <tr style=\"text-align: right;\">\n",
       "      <th></th>\n",
       "      <th>user_type</th>\n",
       "      <th>ride_time</th>\n",
       "    </tr>\n",
       "  </thead>\n",
       "  <tbody>\n",
       "    <tr>\n",
       "      <th>0</th>\n",
       "      <td>casual</td>\n",
       "      <td>29.26</td>\n",
       "    </tr>\n",
       "    <tr>\n",
       "      <th>1</th>\n",
       "      <td>member</td>\n",
       "      <td>12.50</td>\n",
       "    </tr>\n",
       "  </tbody>\n",
       "</table>\n",
       "</div>"
      ],
      "text/plain": [
       "  user_type  ride_time\n",
       "0    casual      29.26\n",
       "1    member      12.50"
      ]
     },
     "execution_count": 24,
     "metadata": {},
     "output_type": "execute_result"
    }
   ],
   "source": [
    "# Now we will look at the average rides times by usertype for various categories, starting with user types. \n",
    "# We will use the same methods as above, but we will instead use the .mean() method instead of the aggretive function.\n",
    "\n",
    "avgRide_per_usertype = round(clean_year2022.groupby(\"user_type\", observed = True)\n",
    "                             .ride_time.mean(), 2)\n",
    "avgRide_per_usertype = avgRide_per_usertype.to_frame().reset_index()\n",
    "avgRide_per_usertype"
   ]
  },
  {
   "cell_type": "markdown",
   "id": "481bbaa8",
   "metadata": {
    "papermill": {
     "duration": 0.022735,
     "end_time": "2023-12-15T17:13:38.443682",
     "exception": false,
     "start_time": "2023-12-15T17:13:38.420947",
     "status": "completed"
    },
    "tags": []
   },
   "source": [
    "In the above data frame, it shows that, while members average a greater number of ride, casual users average a greater ride time than members."
   ]
  },
  {
   "cell_type": "code",
   "execution_count": 25,
   "id": "fbbfc385",
   "metadata": {
    "execution": {
     "iopub.execute_input": "2023-12-15T17:13:38.491393Z",
     "iopub.status.busy": "2023-12-15T17:13:38.490945Z",
     "iopub.status.idle": "2023-12-15T17:13:39.372895Z",
     "shell.execute_reply": "2023-12-15T17:13:39.371736Z"
    },
    "papermill": {
     "duration": 0.909157,
     "end_time": "2023-12-15T17:13:39.375644",
     "exception": false,
     "start_time": "2023-12-15T17:13:38.466487",
     "status": "completed"
    },
    "tags": []
   },
   "outputs": [
    {
     "data": {
      "text/html": [
       "<div>\n",
       "<style scoped>\n",
       "    .dataframe tbody tr th:only-of-type {\n",
       "        vertical-align: middle;\n",
       "    }\n",
       "\n",
       "    .dataframe tbody tr th {\n",
       "        vertical-align: top;\n",
       "    }\n",
       "\n",
       "    .dataframe thead th {\n",
       "        text-align: right;\n",
       "    }\n",
       "</style>\n",
       "<table border=\"1\" class=\"dataframe\">\n",
       "  <thead>\n",
       "    <tr style=\"text-align: right;\">\n",
       "      <th></th>\n",
       "      <th>user_type</th>\n",
       "      <th>weekday</th>\n",
       "      <th>ride_time</th>\n",
       "    </tr>\n",
       "  </thead>\n",
       "  <tbody>\n",
       "    <tr>\n",
       "      <th>0</th>\n",
       "      <td>casual</td>\n",
       "      <td>Sunday</td>\n",
       "      <td>34.28</td>\n",
       "    </tr>\n",
       "    <tr>\n",
       "      <th>1</th>\n",
       "      <td>casual</td>\n",
       "      <td>Monday</td>\n",
       "      <td>29.29</td>\n",
       "    </tr>\n",
       "    <tr>\n",
       "      <th>2</th>\n",
       "      <td>casual</td>\n",
       "      <td>Tuesday</td>\n",
       "      <td>25.87</td>\n",
       "    </tr>\n",
       "    <tr>\n",
       "      <th>3</th>\n",
       "      <td>casual</td>\n",
       "      <td>Wednesday</td>\n",
       "      <td>24.76</td>\n",
       "    </tr>\n",
       "    <tr>\n",
       "      <th>4</th>\n",
       "      <td>casual</td>\n",
       "      <td>Thursday</td>\n",
       "      <td>25.58</td>\n",
       "    </tr>\n",
       "    <tr>\n",
       "      <th>5</th>\n",
       "      <td>casual</td>\n",
       "      <td>Friday</td>\n",
       "      <td>28.14</td>\n",
       "    </tr>\n",
       "    <tr>\n",
       "      <th>6</th>\n",
       "      <td>casual</td>\n",
       "      <td>Saturday</td>\n",
       "      <td>32.81</td>\n",
       "    </tr>\n",
       "    <tr>\n",
       "      <th>7</th>\n",
       "      <td>member</td>\n",
       "      <td>Sunday</td>\n",
       "      <td>13.86</td>\n",
       "    </tr>\n",
       "    <tr>\n",
       "      <th>8</th>\n",
       "      <td>member</td>\n",
       "      <td>Monday</td>\n",
       "      <td>12.04</td>\n",
       "    </tr>\n",
       "    <tr>\n",
       "      <th>9</th>\n",
       "      <td>member</td>\n",
       "      <td>Tuesday</td>\n",
       "      <td>11.89</td>\n",
       "    </tr>\n",
       "    <tr>\n",
       "      <th>10</th>\n",
       "      <td>member</td>\n",
       "      <td>Wednesday</td>\n",
       "      <td>11.87</td>\n",
       "    </tr>\n",
       "    <tr>\n",
       "      <th>11</th>\n",
       "      <td>member</td>\n",
       "      <td>Thursday</td>\n",
       "      <td>12.06</td>\n",
       "    </tr>\n",
       "    <tr>\n",
       "      <th>12</th>\n",
       "      <td>member</td>\n",
       "      <td>Friday</td>\n",
       "      <td>12.31</td>\n",
       "    </tr>\n",
       "    <tr>\n",
       "      <th>13</th>\n",
       "      <td>member</td>\n",
       "      <td>Saturday</td>\n",
       "      <td>13.98</td>\n",
       "    </tr>\n",
       "  </tbody>\n",
       "</table>\n",
       "</div>"
      ],
      "text/plain": [
       "   user_type    weekday  ride_time\n",
       "0     casual     Sunday      34.28\n",
       "1     casual     Monday      29.29\n",
       "2     casual    Tuesday      25.87\n",
       "3     casual  Wednesday      24.76\n",
       "4     casual   Thursday      25.58\n",
       "5     casual     Friday      28.14\n",
       "6     casual   Saturday      32.81\n",
       "7     member     Sunday      13.86\n",
       "8     member     Monday      12.04\n",
       "9     member    Tuesday      11.89\n",
       "10    member  Wednesday      11.87\n",
       "11    member   Thursday      12.06\n",
       "12    member     Friday      12.31\n",
       "13    member   Saturday      13.98"
      ]
     },
     "execution_count": 25,
     "metadata": {},
     "output_type": "execute_result"
    }
   ],
   "source": [
    "# Next, we will look at the average ride time by weekday by usertype.\n",
    "\n",
    "avgRide_per_weekday = round(clean_year2022.groupby([\"user_type\", \"weekday\"], observed = True)\n",
    "                            .ride_time.mean(), 2)\n",
    "avgRide_per_weekday = avgRide_per_weekday.to_frame().reset_index()\n",
    "avgRide_per_weekday"
   ]
  },
  {
   "cell_type": "markdown",
   "id": "31ddaa08",
   "metadata": {
    "papermill": {
     "duration": 0.022833,
     "end_time": "2023-12-15T17:13:39.421846",
     "exception": false,
     "start_time": "2023-12-15T17:13:39.399013",
     "status": "completed"
    },
    "tags": []
   },
   "source": [
    "The above data frame shows that casual users had a greater average ride time for each day of the week in comparison to members. This can be backed by the terms of the bike-share program. Members of the program are free to use the bikes at any time without a greater cost. On the other hand, casual users must pay for a given amount of time. This time that they pay for is the only usage they can get out of the bike without having to pay more. In my personal life, I have used a bike-share program similar to this in a casual user role. As with myself, it is likely that casual users average a greater ride time due to the desire to get the most out of one's purchase. As casual users have a limited amount of time to use the bikes, they would likely spend a greater amount of time riding the bike to ensure they get the most out of their purchase."
   ]
  },
  {
   "cell_type": "code",
   "execution_count": 26,
   "id": "6226aafb",
   "metadata": {
    "execution": {
     "iopub.execute_input": "2023-12-15T17:13:39.470109Z",
     "iopub.status.busy": "2023-12-15T17:13:39.469411Z",
     "iopub.status.idle": "2023-12-15T17:13:40.336602Z",
     "shell.execute_reply": "2023-12-15T17:13:40.335476Z"
    },
    "papermill": {
     "duration": 0.893992,
     "end_time": "2023-12-15T17:13:40.338965",
     "exception": false,
     "start_time": "2023-12-15T17:13:39.444973",
     "status": "completed"
    },
    "tags": []
   },
   "outputs": [
    {
     "data": {
      "text/html": [
       "<div>\n",
       "<style scoped>\n",
       "    .dataframe tbody tr th:only-of-type {\n",
       "        vertical-align: middle;\n",
       "    }\n",
       "\n",
       "    .dataframe tbody tr th {\n",
       "        vertical-align: top;\n",
       "    }\n",
       "\n",
       "    .dataframe thead th {\n",
       "        text-align: right;\n",
       "    }\n",
       "</style>\n",
       "<table border=\"1\" class=\"dataframe\">\n",
       "  <thead>\n",
       "    <tr style=\"text-align: right;\">\n",
       "      <th></th>\n",
       "      <th>user_type</th>\n",
       "      <th>month_day</th>\n",
       "      <th>ride_time</th>\n",
       "    </tr>\n",
       "  </thead>\n",
       "  <tbody>\n",
       "    <tr>\n",
       "      <th>0</th>\n",
       "      <td>casual</td>\n",
       "      <td>1</td>\n",
       "      <td>26.43</td>\n",
       "    </tr>\n",
       "    <tr>\n",
       "      <th>1</th>\n",
       "      <td>casual</td>\n",
       "      <td>2</td>\n",
       "      <td>29.74</td>\n",
       "    </tr>\n",
       "    <tr>\n",
       "      <th>2</th>\n",
       "      <td>casual</td>\n",
       "      <td>3</td>\n",
       "      <td>30.91</td>\n",
       "    </tr>\n",
       "    <tr>\n",
       "      <th>3</th>\n",
       "      <td>casual</td>\n",
       "      <td>4</td>\n",
       "      <td>28.60</td>\n",
       "    </tr>\n",
       "    <tr>\n",
       "      <th>4</th>\n",
       "      <td>casual</td>\n",
       "      <td>5</td>\n",
       "      <td>31.54</td>\n",
       "    </tr>\n",
       "    <tr>\n",
       "      <th>...</th>\n",
       "      <td>...</td>\n",
       "      <td>...</td>\n",
       "      <td>...</td>\n",
       "    </tr>\n",
       "    <tr>\n",
       "      <th>57</th>\n",
       "      <td>member</td>\n",
       "      <td>27</td>\n",
       "      <td>12.06</td>\n",
       "    </tr>\n",
       "    <tr>\n",
       "      <th>58</th>\n",
       "      <td>member</td>\n",
       "      <td>28</td>\n",
       "      <td>12.11</td>\n",
       "    </tr>\n",
       "    <tr>\n",
       "      <th>59</th>\n",
       "      <td>member</td>\n",
       "      <td>29</td>\n",
       "      <td>12.39</td>\n",
       "    </tr>\n",
       "    <tr>\n",
       "      <th>60</th>\n",
       "      <td>member</td>\n",
       "      <td>30</td>\n",
       "      <td>12.92</td>\n",
       "    </tr>\n",
       "    <tr>\n",
       "      <th>61</th>\n",
       "      <td>member</td>\n",
       "      <td>31</td>\n",
       "      <td>12.54</td>\n",
       "    </tr>\n",
       "  </tbody>\n",
       "</table>\n",
       "<p>62 rows × 3 columns</p>\n",
       "</div>"
      ],
      "text/plain": [
       "   user_type  month_day  ride_time\n",
       "0     casual          1      26.43\n",
       "1     casual          2      29.74\n",
       "2     casual          3      30.91\n",
       "3     casual          4      28.60\n",
       "4     casual          5      31.54\n",
       "..       ...        ...        ...\n",
       "57    member         27      12.06\n",
       "58    member         28      12.11\n",
       "59    member         29      12.39\n",
       "60    member         30      12.92\n",
       "61    member         31      12.54\n",
       "\n",
       "[62 rows x 3 columns]"
      ]
     },
     "execution_count": 26,
     "metadata": {},
     "output_type": "execute_result"
    }
   ],
   "source": [
    "# Now we will look at the average ride time by days of the month by usertype.\n",
    "\n",
    "avgRide_per_monthday = round(clean_year2022.groupby([\"user_type\", \"month_day\"], observed = False)\n",
    "                             .ride_time.mean(), 2)\n",
    "avgRide_per_monthday = avgRide_per_monthday.to_frame().reset_index()\n",
    "avgRide_per_monthday"
   ]
  },
  {
   "cell_type": "code",
   "execution_count": 27,
   "id": "644f58a7",
   "metadata": {
    "execution": {
     "iopub.execute_input": "2023-12-15T17:13:40.387519Z",
     "iopub.status.busy": "2023-12-15T17:13:40.387047Z",
     "iopub.status.idle": "2023-12-15T17:13:41.209126Z",
     "shell.execute_reply": "2023-12-15T17:13:41.207947Z"
    },
    "papermill": {
     "duration": 0.849468,
     "end_time": "2023-12-15T17:13:41.211802",
     "exception": false,
     "start_time": "2023-12-15T17:13:40.362334",
     "status": "completed"
    },
    "tags": []
   },
   "outputs": [
    {
     "data": {
      "text/html": [
       "<div>\n",
       "<style scoped>\n",
       "    .dataframe tbody tr th:only-of-type {\n",
       "        vertical-align: middle;\n",
       "    }\n",
       "\n",
       "    .dataframe tbody tr th {\n",
       "        vertical-align: top;\n",
       "    }\n",
       "\n",
       "    .dataframe thead th {\n",
       "        text-align: right;\n",
       "    }\n",
       "</style>\n",
       "<table border=\"1\" class=\"dataframe\">\n",
       "  <thead>\n",
       "    <tr style=\"text-align: right;\">\n",
       "      <th></th>\n",
       "      <th>user_type</th>\n",
       "      <th>month</th>\n",
       "      <th>ride_time</th>\n",
       "    </tr>\n",
       "  </thead>\n",
       "  <tbody>\n",
       "    <tr>\n",
       "      <th>0</th>\n",
       "      <td>casual</td>\n",
       "      <td>January</td>\n",
       "      <td>30.49</td>\n",
       "    </tr>\n",
       "    <tr>\n",
       "      <th>1</th>\n",
       "      <td>casual</td>\n",
       "      <td>February</td>\n",
       "      <td>26.76</td>\n",
       "    </tr>\n",
       "    <tr>\n",
       "      <th>2</th>\n",
       "      <td>casual</td>\n",
       "      <td>March</td>\n",
       "      <td>32.69</td>\n",
       "    </tr>\n",
       "    <tr>\n",
       "      <th>3</th>\n",
       "      <td>casual</td>\n",
       "      <td>April</td>\n",
       "      <td>29.59</td>\n",
       "    </tr>\n",
       "    <tr>\n",
       "      <th>4</th>\n",
       "      <td>casual</td>\n",
       "      <td>May</td>\n",
       "      <td>30.96</td>\n",
       "    </tr>\n",
       "    <tr>\n",
       "      <th>5</th>\n",
       "      <td>casual</td>\n",
       "      <td>June</td>\n",
       "      <td>32.23</td>\n",
       "    </tr>\n",
       "    <tr>\n",
       "      <th>6</th>\n",
       "      <td>casual</td>\n",
       "      <td>July</td>\n",
       "      <td>29.40</td>\n",
       "    </tr>\n",
       "    <tr>\n",
       "      <th>7</th>\n",
       "      <td>casual</td>\n",
       "      <td>August</td>\n",
       "      <td>29.46</td>\n",
       "    </tr>\n",
       "    <tr>\n",
       "      <th>8</th>\n",
       "      <td>casual</td>\n",
       "      <td>September</td>\n",
       "      <td>28.09</td>\n",
       "    </tr>\n",
       "    <tr>\n",
       "      <th>9</th>\n",
       "      <td>casual</td>\n",
       "      <td>October</td>\n",
       "      <td>26.50</td>\n",
       "    </tr>\n",
       "    <tr>\n",
       "      <th>10</th>\n",
       "      <td>casual</td>\n",
       "      <td>November</td>\n",
       "      <td>21.31</td>\n",
       "    </tr>\n",
       "    <tr>\n",
       "      <th>11</th>\n",
       "      <td>casual</td>\n",
       "      <td>December</td>\n",
       "      <td>22.37</td>\n",
       "    </tr>\n",
       "    <tr>\n",
       "      <th>12</th>\n",
       "      <td>member</td>\n",
       "      <td>January</td>\n",
       "      <td>11.69</td>\n",
       "    </tr>\n",
       "    <tr>\n",
       "      <th>13</th>\n",
       "      <td>member</td>\n",
       "      <td>February</td>\n",
       "      <td>11.17</td>\n",
       "    </tr>\n",
       "    <tr>\n",
       "      <th>14</th>\n",
       "      <td>member</td>\n",
       "      <td>March</td>\n",
       "      <td>11.68</td>\n",
       "    </tr>\n",
       "    <tr>\n",
       "      <th>15</th>\n",
       "      <td>member</td>\n",
       "      <td>April</td>\n",
       "      <td>11.23</td>\n",
       "    </tr>\n",
       "    <tr>\n",
       "      <th>16</th>\n",
       "      <td>member</td>\n",
       "      <td>May</td>\n",
       "      <td>13.14</td>\n",
       "    </tr>\n",
       "    <tr>\n",
       "      <th>17</th>\n",
       "      <td>member</td>\n",
       "      <td>June</td>\n",
       "      <td>13.79</td>\n",
       "    </tr>\n",
       "    <tr>\n",
       "      <th>18</th>\n",
       "      <td>member</td>\n",
       "      <td>July</td>\n",
       "      <td>13.53</td>\n",
       "    </tr>\n",
       "    <tr>\n",
       "      <th>19</th>\n",
       "      <td>member</td>\n",
       "      <td>August</td>\n",
       "      <td>13.20</td>\n",
       "    </tr>\n",
       "    <tr>\n",
       "      <th>20</th>\n",
       "      <td>member</td>\n",
       "      <td>September</td>\n",
       "      <td>12.78</td>\n",
       "    </tr>\n",
       "    <tr>\n",
       "      <th>21</th>\n",
       "      <td>member</td>\n",
       "      <td>October</td>\n",
       "      <td>11.75</td>\n",
       "    </tr>\n",
       "    <tr>\n",
       "      <th>22</th>\n",
       "      <td>member</td>\n",
       "      <td>November</td>\n",
       "      <td>10.89</td>\n",
       "    </tr>\n",
       "    <tr>\n",
       "      <th>23</th>\n",
       "      <td>member</td>\n",
       "      <td>December</td>\n",
       "      <td>10.41</td>\n",
       "    </tr>\n",
       "  </tbody>\n",
       "</table>\n",
       "</div>"
      ],
      "text/plain": [
       "   user_type      month  ride_time\n",
       "0     casual    January      30.49\n",
       "1     casual   February      26.76\n",
       "2     casual      March      32.69\n",
       "3     casual      April      29.59\n",
       "4     casual        May      30.96\n",
       "5     casual       June      32.23\n",
       "6     casual       July      29.40\n",
       "7     casual     August      29.46\n",
       "8     casual  September      28.09\n",
       "9     casual    October      26.50\n",
       "10    casual   November      21.31\n",
       "11    casual   December      22.37\n",
       "12    member    January      11.69\n",
       "13    member   February      11.17\n",
       "14    member      March      11.68\n",
       "15    member      April      11.23\n",
       "16    member        May      13.14\n",
       "17    member       June      13.79\n",
       "18    member       July      13.53\n",
       "19    member     August      13.20\n",
       "20    member  September      12.78\n",
       "21    member    October      11.75\n",
       "22    member   November      10.89\n",
       "23    member   December      10.41"
      ]
     },
     "execution_count": 27,
     "metadata": {},
     "output_type": "execute_result"
    }
   ],
   "source": [
    "# Lastly, we will look at the average ride time per month by user type.\n",
    "avgRide_per_month = round(clean_year2022.groupby([\"user_type\", \"month\"], observed = False).ride_time.mean(), 2)\n",
    "avgRide_per_month = avgRide_per_month.to_frame().reset_index()\n",
    "avgRide_per_month"
   ]
  },
  {
   "cell_type": "code",
   "execution_count": 28,
   "id": "7f6ad9c6",
   "metadata": {
    "execution": {
     "iopub.execute_input": "2023-12-15T17:13:41.262130Z",
     "iopub.status.busy": "2023-12-15T17:13:41.261677Z",
     "iopub.status.idle": "2023-12-15T17:13:43.296527Z",
     "shell.execute_reply": "2023-12-15T17:13:43.295697Z"
    },
    "papermill": {
     "duration": 2.063031,
     "end_time": "2023-12-15T17:13:43.298788",
     "exception": false,
     "start_time": "2023-12-15T17:13:41.235757",
     "status": "completed"
    },
    "tags": []
   },
   "outputs": [
    {
     "data": {
      "text/html": [
       "<div>\n",
       "<style scoped>\n",
       "    .dataframe tbody tr th:only-of-type {\n",
       "        vertical-align: middle;\n",
       "    }\n",
       "\n",
       "    .dataframe tbody tr th {\n",
       "        vertical-align: top;\n",
       "    }\n",
       "\n",
       "    .dataframe thead th {\n",
       "        text-align: right;\n",
       "    }\n",
       "</style>\n",
       "<table border=\"1\" class=\"dataframe\">\n",
       "  <thead>\n",
       "    <tr style=\"text-align: right;\">\n",
       "      <th></th>\n",
       "      <th>user_type</th>\n",
       "      <th>bike_type</th>\n",
       "      <th>ride_id</th>\n",
       "    </tr>\n",
       "  </thead>\n",
       "  <tbody>\n",
       "    <tr>\n",
       "      <th>0</th>\n",
       "      <td>casual</td>\n",
       "      <td>classic_bike</td>\n",
       "      <td>878682</td>\n",
       "    </tr>\n",
       "    <tr>\n",
       "      <th>1</th>\n",
       "      <td>casual</td>\n",
       "      <td>docked_bike</td>\n",
       "      <td>175958</td>\n",
       "    </tr>\n",
       "    <tr>\n",
       "      <th>2</th>\n",
       "      <td>casual</td>\n",
       "      <td>electric_bike</td>\n",
       "      <td>1219502</td>\n",
       "    </tr>\n",
       "    <tr>\n",
       "      <th>3</th>\n",
       "      <td>member</td>\n",
       "      <td>classic_bike</td>\n",
       "      <td>1684008</td>\n",
       "    </tr>\n",
       "    <tr>\n",
       "      <th>4</th>\n",
       "      <td>member</td>\n",
       "      <td>electric_bike</td>\n",
       "      <td>1588478</td>\n",
       "    </tr>\n",
       "  </tbody>\n",
       "</table>\n",
       "</div>"
      ],
      "text/plain": [
       "  user_type      bike_type  ride_id\n",
       "0    casual   classic_bike   878682\n",
       "1    casual    docked_bike   175958\n",
       "2    casual  electric_bike  1219502\n",
       "3    member   classic_bike  1684008\n",
       "4    member  electric_bike  1588478"
      ]
     },
     "execution_count": 28,
     "metadata": {},
     "output_type": "execute_result"
    }
   ],
   "source": [
    "# To finish the analysis, we will look at the number of rides per usertype over the 2022 year by bike type.\n",
    "\n",
    "avgRide_per_bike = clean_year2022.groupby([\"user_type\", \"bike_type\"], observed = False)[\"ride_id\"].agg(\"count\")\n",
    "avgRide_per_bike = avgRide_per_bike.to_frame().reset_index()\n",
    "avgRide_per_bike"
   ]
  },
  {
   "cell_type": "markdown",
   "id": "cf15dd42",
   "metadata": {
    "papermill": {
     "duration": 0.023879,
     "end_time": "2023-12-15T17:13:43.346663",
     "exception": false,
     "start_time": "2023-12-15T17:13:43.322784",
     "status": "completed"
    },
    "tags": []
   },
   "source": [
    "In the above data frame, it is interesting that the casual users are the only user type to use the docked bikes. Members and casual users both use the classic and electric bikes, but members use these bike types at a larger rate. The data suggests that classic and electric bikes are likely included for use in the member's package, while they may have a greater cost for casual users. As docked bikes are only used by casual users, it is likely that these bikes are free of charge for casual users."
   ]
  },
  {
   "cell_type": "markdown",
   "id": "36aa66ca",
   "metadata": {
    "papermill": {
     "duration": 0.023651,
     "end_time": "2023-12-15T17:13:43.395040",
     "exception": false,
     "start_time": "2023-12-15T17:13:43.371389",
     "status": "completed"
    },
    "tags": []
   },
   "source": [
    "### __Guiding Questions__\n",
    "    1. How should you organize your data to perform analysis on it?\n",
    "    - I will organize my data into smaller data frames that focus on the key aspects that I want to analyze. I will start by viewing the percentages of members to users throughout 2022. Then I will look at the average ride times by user type, then the average ride types by weekday, day of month, and month per user type. From here, I will look at the total number of rides per user type, then I will look at the total number of rides by weekday, day of month, and month per user type. Lastly, I will look at the total number of rides by bike per user type. These facets should give an in-depth comparison on how each user type uses the bike-share program differently.\n",
    "    \n",
    "    2. Has your data been properly formatted?\n",
    "    - I have creating smaller data frames for each aspect of the analysis to allow for quicker visualization and an easier to read format. Each data frame provides a simple table-like view of the data and allows stakeholders to easily compare the differences between each user type. I also kept the analysis in an order that makes sense, in terms of flow and groupings. This will allow my visualizations to follow the same pattern.\n",
    "    \n",
    "    3. What surprises did you discover in the data?\n",
    "    - In this analysis, I found it very interesting that there were a greater number of members versus casual users for the entire 2022 year. This, combined with the greater number of rides, allowed me to make a key guess into what the data is trying to show. I believe that the data shows this because the members of the bike-share program are individuals who live within Chicago and use this program as a primary means of transportation across the city. This is backed by the lower ride times, in comparison to the casual users. \n",
    "    \n",
    "    4. What trends or relationships did you find in the data?\n",
    "    - Similar to the answer above, the data shows that there were more member users than casual users over the 2022 year. The member users also trump the casual users in total number of rides throughout the year. The casual users, however, have a much larger average ride time than members in all categories (weekday, day of month, month). Lastly, the data shows that classic bikes and electric bikes are favored by members and docked bikes are only used by casual users.\n",
    "    \n",
    "    5. How will these insights help answer your business questions?\n",
    "    - These insights help paint a story on how casual users and members of the bike-share program use the system in different ways. For example, the data shown for average ride time between casual users and members indicates a greater average ride time for casual members by week day, day of month, and month. This is likely due to the time limit that is set for casual members. In my experience, I have been a casual user of a bike-share program in Tulsa, Oklahoma and I had a four-hour time limit for bike use. I wanted to make sure that I got my full value out of the money I spent, so I made sure to use as much time as I could to ride the bike throughout the city. On top of this, the data shows that only casual members used the docked bike types. This makes sense, as these bikes are commonly locked up at various access points across the city and are not available for long-term renting. Members are able to take out both classic and electric bikes, likely with no added charge, so they will prefer to use these bikes for their daily travels. Knowing this information will be key to provide potential insights for the stakeholders that can be used to boost the number of members for the bike-share program."
   ]
  },
  {
   "cell_type": "markdown",
   "id": "fa039bbf",
   "metadata": {
    "papermill": {
     "duration": 0.024126,
     "end_time": "2023-12-15T17:13:43.443313",
     "exception": false,
     "start_time": "2023-12-15T17:13:43.419187",
     "status": "completed"
    },
    "tags": []
   },
   "source": [
    "### __Analysis Summary__\n"
   ]
  },
  {
   "cell_type": "markdown",
   "id": "68f27f8e",
   "metadata": {
    "papermill": {
     "duration": 0.023788,
     "end_time": "2023-12-15T17:13:43.491769",
     "exception": false,
     "start_time": "2023-12-15T17:13:43.467981",
     "status": "completed"
    },
    "tags": []
   },
   "source": [
    "# __Part 5:__ _Share_\n",
    "\n",
    "### __Key Tasks__\n",
    "    1. Determine the best way to share your findings.\n",
    "    2. Create effective data visualizations.\n",
    "    3. Present your findings.\n",
    "    4. Ensure your work is accessible."
   ]
  },
  {
   "cell_type": "code",
   "execution_count": 29,
   "id": "515a1a3d",
   "metadata": {
    "execution": {
     "iopub.execute_input": "2023-12-15T17:13:43.542197Z",
     "iopub.status.busy": "2023-12-15T17:13:43.541510Z",
     "iopub.status.idle": "2023-12-15T17:13:43.546212Z",
     "shell.execute_reply": "2023-12-15T17:13:43.545248Z"
    },
    "papermill": {
     "duration": 0.032781,
     "end_time": "2023-12-15T17:13:43.548617",
     "exception": false,
     "start_time": "2023-12-15T17:13:43.515836",
     "status": "completed"
    },
    "tags": []
   },
   "outputs": [],
   "source": [
    "# Before creating visualization, I will create a list for the logo colors of the company as hex values.\n",
    "# The logo colors were created via a website that color matches from images.\n",
    "\n",
    "logo_colors = ([\"#3F95A4\", \"#F3FD68\"])"
   ]
  },
  {
   "cell_type": "code",
   "execution_count": 30,
   "id": "a953f860",
   "metadata": {
    "execution": {
     "iopub.execute_input": "2023-12-15T17:13:43.598924Z",
     "iopub.status.busy": "2023-12-15T17:13:43.598283Z",
     "iopub.status.idle": "2023-12-15T17:13:43.792176Z",
     "shell.execute_reply": "2023-12-15T17:13:43.790431Z"
    },
    "papermill": {
     "duration": 0.224265,
     "end_time": "2023-12-15T17:13:43.796796",
     "exception": false,
     "start_time": "2023-12-15T17:13:43.572531",
     "status": "completed"
    },
    "tags": []
   },
   "outputs": [
    {
     "data": {
      "image/png": "[encoded data removed]",
      "text/plain": [
       "<Figure size 640x480 with 1 Axes>"
      ]
     },
     "metadata": {},
     "output_type": "display_data"
    }
   ],
   "source": [
    "# The visualization will follow the order of the analysis steps, starting with a pie chart for user type percentages.\n",
    "# For this static visualization, I chose to use matplotlib's .pie() method.\n",
    "plt.pie(userType_percent, labels = [\"Member\", \"Casual\"], autopct = \"%1.1f%%\",\n",
    "                             pctdistance = 0.85, colors = logo_colors, explode = [0.005, 0.005])\n",
    "center_circle = plt.Circle((0, 0), 0.70, fc = \"white\")\n",
    "fig = plt.gcf()\n",
    "fig.gca().add_artist(center_circle)\n",
    "plt.title(\"User Types by Percentage\")\n",
    "plt.show()"
   ]
  },
  {
   "cell_type": "code",
   "execution_count": 31,
   "id": "1b7b1495",
   "metadata": {
    "execution": {
     "iopub.execute_input": "2023-12-15T17:13:43.868022Z",
     "iopub.status.busy": "2023-12-15T17:13:43.867218Z",
     "iopub.status.idle": "2023-12-15T17:13:46.020651Z",
     "shell.execute_reply": "2023-12-15T17:13:46.019493Z"
    },
    "papermill": {
     "duration": 2.182653,
     "end_time": "2023-12-15T17:13:46.023756",
     "exception": false,
     "start_time": "2023-12-15T17:13:43.841103",
     "status": "completed"
    },
    "tags": []
   },
   "outputs": [
    {
     "data": {
      "text/html": [
       "        <script type=\"text/javascript\">\n",
       "        window.PlotlyConfig = {MathJaxConfig: 'local'};\n",
       "        if (window.MathJax && window.MathJax.Hub && window.MathJax.Hub.Config) {window.MathJax.Hub.Config({SVG: {font: \"STIX-Web\"}});}\n",
       "        if (typeof require !== 'undefined') {\n",
       "        require.undef(\"plotly\");\n",
       "        requirejs.config({\n",
       "            paths: {\n",
       "                'plotly': ['https://cdn.plot.ly/plotly-2.25.2.min']\n",
       "            }\n",
       "        });\n",
       "        require(['plotly'], function(Plotly) {\n",
       "            window._Plotly = Plotly;\n",
       "        });\n",
       "        }\n",
       "        </script>\n",
       "        "
      ]
     },
     "metadata": {},
     "output_type": "display_data"
    },
    {
     "data": {
      "text/html": [
       "<div>                            <div id=\"5b1e8dd6-32db-4424-8748-1708facd3d05\" class=\"plotly-graph-div\" style=\"height:525px; width:100%;\"></div>            <script type=\"text/javascript\">                require([\"plotly\"], function(Plotly) {                    window.PLOTLYENV=window.PLOTLYENV || {};                                    if (document.getElementById(\"5b1e8dd6-32db-4424-8748-1708facd3d05\")) {                    Plotly.newPlot(                        \"5b1e8dd6-32db-4424-8748-1708facd3d05\",                        [{\"customdata\":[[\"casual\"],[\"casual\"],[\"casual\"],[\"casual\"],[\"casual\"],[\"casual\"],[\"casual\"]],\"hovertemplate\":\"\\u003cb\\u003e%{hovertext}\\u003c\\u002fb\\u003e\\u003cbr\\u003e\\u003cbr\\u003eDay of Week=%{x}\\u003cbr\\u003eTotal Number of Rides=%{y}\\u003cextra\\u003e\\u003c\\u002fextra\\u003e\",\"hovertext\":[\"casual\",\"casual\",\"casual\",\"casual\",\"casual\",\"casual\",\"casual\"],\"legendgroup\":\"casual\",\"line\":{\"color\":\"#3F95A4\",\"dash\":\"solid\"},\"marker\":{\"symbol\":\"circle\"},\"mode\":\"lines+markers\",\"name\":\"casual\",\"orientation\":\"v\",\"showlegend\":true,\"x\":[\"Sunday\",\"Monday\",\"Tuesday\",\"Wednesday\",\"Thursday\",\"Friday\",\"Saturday\"],\"xaxis\":\"x\",\"y\":[380940,272051,258282,268784,303014,327770,463301],\"yaxis\":\"y\",\"type\":\"scatter\"},{\"customdata\":[[\"member\"],[\"member\"],[\"member\"],[\"member\"],[\"member\"],[\"member\"],[\"member\"]],\"hovertemplate\":\"\\u003cb\\u003e%{hovertext}\\u003c\\u002fb\\u003e\\u003cbr\\u003e\\u003cbr\\u003eDay of Week=%{x}\\u003cbr\\u003eTotal Number of Rides=%{y}\\u003cextra\\u003e\\u003c\\u002fextra\\u003e\",\"hovertext\":[\"member\",\"member\",\"member\",\"member\",\"member\",\"member\",\"member\"],\"legendgroup\":\"member\",\"line\":{\"color\":\"#F3FD68\",\"dash\":\"solid\"},\"marker\":{\"symbol\":\"circle\"},\"mode\":\"lines+markers\",\"name\":\"member\",\"orientation\":\"v\",\"showlegend\":true,\"x\":[\"Sunday\",\"Monday\",\"Tuesday\",\"Wednesday\",\"Thursday\",\"Friday\",\"Saturday\"],\"xaxis\":\"x\",\"y\":[378233,463268,507792,512627,520791,456920,432855],\"yaxis\":\"y\",\"type\":\"scatter\"}],                        {\"template\":{\"data\":{\"barpolar\":[{\"marker\":{\"line\":{\"color\":\"rgb(17,17,17)\",\"width\":0.5},\"pattern\":{\"fillmode\":\"overlay\",\"size\":10,\"solidity\":0.2}},\"type\":\"barpolar\"}],\"bar\":[{\"error_x\":{\"color\":\"#f2f5fa\"},\"error_y\":{\"color\":\"#f2f5fa\"},\"marker\":{\"line\":{\"color\":\"rgb(17,17,17)\",\"width\":0.5},\"pattern\":{\"fillmode\":\"overlay\",\"size\":10,\"solidity\":0.2}},\"type\":\"bar\"}],\"carpet\":[{\"aaxis\":{\"endlinecolor\":\"#A2B1C6\",\"gridcolor\":\"#506784\",\"linecolor\":\"#506784\",\"minorgridcolor\":\"#506784\",\"startlinecolor\":\"#A2B1C6\"},\"baxis\":{\"endlinecolor\":\"#A2B1C6\",\"gridcolor\":\"#506784\",\"linecolor\":\"#506784\",\"minorgridcolor\":\"#506784\",\"startlinecolor\":\"#A2B1C6\"},\"type\":\"carpet\"}],\"choropleth\":[{\"colorbar\":{\"outlinewidth\":0,\"ticks\":\"\"},\"type\":\"choropleth\"}],\"contourcarpet\":[{\"colorbar\":{\"outlinewidth\":0,\"ticks\":\"\"},\"type\":\"contourcarpet\"}],\"contour\":[{\"colorbar\":{\"outlinewidth\":0,\"ticks\":\"\"},\"colorscale\":[[0.0,\"#0d0887\"],[0.1111111111111111,\"#46039f\"],[0.2222222222222222,\"#7201a8\"],[0.3333333333333333,\"#9c179e\"],[0.4444444444444444,\"#bd3786\"],[0.5555555555555556,\"#d8576b\"],[0.6666666666666666,\"#ed7953\"],[0.7777777777777778,\"#fb9f3a\"],[0.8888888888888888,\"#fdca26\"],[1.0,\"#f0f921\"]],\"type\":\"contour\"}],\"heatmapgl\":[{\"colorbar\":{\"outlinewidth\":0,\"ticks\":\"\"},\"colorscale\":[[0.0,\"#0d0887\"],[0.1111111111111111,\"#46039f\"],[0.2222222222222222,\"#7201a8\"],[0.3333333333333333,\"#9c179e\"],[0.4444444444444444,\"#bd3786\"],[0.5555555555555556,\"#d8576b\"],[0.6666666666666666,\"#ed7953\"],[0.7777777777777778,\"#fb9f3a\"],[0.8888888888888888,\"#fdca26\"],[1.0,\"#f0f921\"]],\"type\":\"heatmapgl\"}],\"heatmap\":[{\"colorbar\":{\"outlinewidth\":0,\"ticks\":\"\"},\"colorscale\":[[0.0,\"#0d0887\"],[0.1111111111111111,\"#46039f\"],[0.2222222222222222,\"#7201a8\"],[0.3333333333333333,\"#9c179e\"],[0.4444444444444444,\"#bd3786\"],[0.5555555555555556,\"#d8576b\"],[0.6666666666666666,\"#ed7953\"],[0.7777777777777778,\"#fb9f3a\"],[0.8888888888888888,\"#fdca26\"],[1.0,\"#f0f921\"]],\"type\":\"heatmap\"}],\"histogram2dcontour\":[{\"colorbar\":{\"outlinewidth\":0,\"ticks\":\"\"},\"colorscale\":[[0.0,\"#0d0887\"],[0.1111111111111111,\"#46039f\"],[0.2222222222222222,\"#7201a8\"],[0.3333333333333333,\"#9c179e\"],[0.4444444444444444,\"#bd3786\"],[0.5555555555555556,\"#d8576b\"],[0.6666666666666666,\"#ed7953\"],[0.7777777777777778,\"#fb9f3a\"],[0.8888888888888888,\"#fdca26\"],[1.0,\"#f0f921\"]],\"type\":\"histogram2dcontour\"}],\"histogram2d\":[{\"colorbar\":{\"outlinewidth\":0,\"ticks\":\"\"},\"colorscale\":[[0.0,\"#0d0887\"],[0.1111111111111111,\"#46039f\"],[0.2222222222222222,\"#7201a8\"],[0.3333333333333333,\"#9c179e\"],[0.4444444444444444,\"#bd3786\"],[0.5555555555555556,\"#d8576b\"],[0.6666666666666666,\"#ed7953\"],[0.7777777777777778,\"#fb9f3a\"],[0.8888888888888888,\"#fdca26\"],[1.0,\"#f0f921\"]],\"type\":\"histogram2d\"}],\"histogram\":[{\"marker\":{\"pattern\":{\"fillmode\":\"overlay\",\"size\":10,\"solidity\":0.2}},\"type\":\"histogram\"}],\"mesh3d\":[{\"colorbar\":{\"outlinewidth\":0,\"ticks\":\"\"},\"type\":\"mesh3d\"}],\"parcoords\":[{\"line\":{\"colorbar\":{\"outlinewidth\":0,\"ticks\":\"\"}},\"type\":\"parcoords\"}],\"pie\":[{\"automargin\":true,\"type\":\"pie\"}],\"scatter3d\":[{\"line\":{\"colorbar\":{\"outlinewidth\":0,\"ticks\":\"\"}},\"marker\":{\"colorbar\":{\"outlinewidth\":0,\"ticks\":\"\"}},\"type\":\"scatter3d\"}],\"scattercarpet\":[{\"marker\":{\"colorbar\":{\"outlinewidth\":0,\"ticks\":\"\"}},\"type\":\"scattercarpet\"}],\"scattergeo\":[{\"marker\":{\"colorbar\":{\"outlinewidth\":0,\"ticks\":\"\"}},\"type\":\"scattergeo\"}],\"scattergl\":[{\"marker\":{\"line\":{\"color\":\"#283442\"}},\"type\":\"scattergl\"}],\"scattermapbox\":[{\"marker\":{\"colorbar\":{\"outlinewidth\":0,\"ticks\":\"\"}},\"type\":\"scattermapbox\"}],\"scatterpolargl\":[{\"marker\":{\"colorbar\":{\"outlinewidth\":0,\"ticks\":\"\"}},\"type\":\"scatterpolargl\"}],\"scatterpolar\":[{\"marker\":{\"colorbar\":{\"outlinewidth\":0,\"ticks\":\"\"}},\"type\":\"scatterpolar\"}],\"scatter\":[{\"marker\":{\"line\":{\"color\":\"#283442\"}},\"type\":\"scatter\"}],\"scatterternary\":[{\"marker\":{\"colorbar\":{\"outlinewidth\":0,\"ticks\":\"\"}},\"type\":\"scatterternary\"}],\"surface\":[{\"colorbar\":{\"outlinewidth\":0,\"ticks\":\"\"},\"colorscale\":[[0.0,\"#0d0887\"],[0.1111111111111111,\"#46039f\"],[0.2222222222222222,\"#7201a8\"],[0.3333333333333333,\"#9c179e\"],[0.4444444444444444,\"#bd3786\"],[0.5555555555555556,\"#d8576b\"],[0.6666666666666666,\"#ed7953\"],[0.7777777777777778,\"#fb9f3a\"],[0.8888888888888888,\"#fdca26\"],[1.0,\"#f0f921\"]],\"type\":\"surface\"}],\"table\":[{\"cells\":{\"fill\":{\"color\":\"#506784\"},\"line\":{\"color\":\"rgb(17,17,17)\"}},\"header\":{\"fill\":{\"color\":\"#2a3f5f\"},\"line\":{\"color\":\"rgb(17,17,17)\"}},\"type\":\"table\"}]},\"layout\":{\"annotationdefaults\":{\"arrowcolor\":\"#f2f5fa\",\"arrowhead\":0,\"arrowwidth\":1},\"autotypenumbers\":\"strict\",\"coloraxis\":{\"colorbar\":{\"outlinewidth\":0,\"ticks\":\"\"}},\"colorscale\":{\"diverging\":[[0,\"#8e0152\"],[0.1,\"#c51b7d\"],[0.2,\"#de77ae\"],[0.3,\"#f1b6da\"],[0.4,\"#fde0ef\"],[0.5,\"#f7f7f7\"],[0.6,\"#e6f5d0\"],[0.7,\"#b8e186\"],[0.8,\"#7fbc41\"],[0.9,\"#4d9221\"],[1,\"#276419\"]],\"sequential\":[[0.0,\"#0d0887\"],[0.1111111111111111,\"#46039f\"],[0.2222222222222222,\"#7201a8\"],[0.3333333333333333,\"#9c179e\"],[0.4444444444444444,\"#bd3786\"],[0.5555555555555556,\"#d8576b\"],[0.6666666666666666,\"#ed7953\"],[0.7777777777777778,\"#fb9f3a\"],[0.8888888888888888,\"#fdca26\"],[1.0,\"#f0f921\"]],\"sequentialminus\":[[0.0,\"#0d0887\"],[0.1111111111111111,\"#46039f\"],[0.2222222222222222,\"#7201a8\"],[0.3333333333333333,\"#9c179e\"],[0.4444444444444444,\"#bd3786\"],[0.5555555555555556,\"#d8576b\"],[0.6666666666666666,\"#ed7953\"],[0.7777777777777778,\"#fb9f3a\"],[0.8888888888888888,\"#fdca26\"],[1.0,\"#f0f921\"]]},\"colorway\":[\"#636efa\",\"#EF553B\",\"#00cc96\",\"#ab63fa\",\"#FFA15A\",\"#19d3f3\",\"#FF6692\",\"#B6E880\",\"#FF97FF\",\"#FECB52\"],\"font\":{\"color\":\"#f2f5fa\"},\"geo\":{\"bgcolor\":\"rgb(17,17,17)\",\"lakecolor\":\"rgb(17,17,17)\",\"landcolor\":\"rgb(17,17,17)\",\"showlakes\":true,\"showland\":true,\"subunitcolor\":\"#506784\"},\"hoverlabel\":{\"align\":\"left\"},\"hovermode\":\"closest\",\"mapbox\":{\"style\":\"dark\"},\"paper_bgcolor\":\"rgb(17,17,17)\",\"plot_bgcolor\":\"rgb(17,17,17)\",\"polar\":{\"angularaxis\":{\"gridcolor\":\"#506784\",\"linecolor\":\"#506784\",\"ticks\":\"\"},\"bgcolor\":\"rgb(17,17,17)\",\"radialaxis\":{\"gridcolor\":\"#506784\",\"linecolor\":\"#506784\",\"ticks\":\"\"}},\"scene\":{\"xaxis\":{\"backgroundcolor\":\"rgb(17,17,17)\",\"gridcolor\":\"#506784\",\"gridwidth\":2,\"linecolor\":\"#506784\",\"showbackground\":true,\"ticks\":\"\",\"zerolinecolor\":\"#C8D4E3\"},\"yaxis\":{\"backgroundcolor\":\"rgb(17,17,17)\",\"gridcolor\":\"#506784\",\"gridwidth\":2,\"linecolor\":\"#506784\",\"showbackground\":true,\"ticks\":\"\",\"zerolinecolor\":\"#C8D4E3\"},\"zaxis\":{\"backgroundcolor\":\"rgb(17,17,17)\",\"gridcolor\":\"#506784\",\"gridwidth\":2,\"linecolor\":\"#506784\",\"showbackground\":true,\"ticks\":\"\",\"zerolinecolor\":\"#C8D4E3\"}},\"shapedefaults\":{\"line\":{\"color\":\"#f2f5fa\"}},\"sliderdefaults\":{\"bgcolor\":\"#C8D4E3\",\"bordercolor\":\"rgb(17,17,17)\",\"borderwidth\":1,\"tickwidth\":0},\"ternary\":{\"aaxis\":{\"gridcolor\":\"#506784\",\"linecolor\":\"#506784\",\"ticks\":\"\"},\"baxis\":{\"gridcolor\":\"#506784\",\"linecolor\":\"#506784\",\"ticks\":\"\"},\"bgcolor\":\"rgb(17,17,17)\",\"caxis\":{\"gridcolor\":\"#506784\",\"linecolor\":\"#506784\",\"ticks\":\"\"}},\"title\":{\"x\":0.05},\"updatemenudefaults\":{\"bgcolor\":\"#506784\",\"borderwidth\":0},\"xaxis\":{\"automargin\":true,\"gridcolor\":\"#283442\",\"linecolor\":\"#506784\",\"ticks\":\"\",\"title\":{\"standoff\":15},\"zerolinecolor\":\"#283442\",\"zerolinewidth\":2},\"yaxis\":{\"automargin\":true,\"gridcolor\":\"#283442\",\"linecolor\":\"#506784\",\"ticks\":\"\",\"title\":{\"standoff\":15},\"zerolinecolor\":\"#283442\",\"zerolinewidth\":2}}},\"xaxis\":{\"anchor\":\"y\",\"domain\":[0.0,1.0],\"title\":{\"text\":\"Day of Week\"}},\"yaxis\":{\"anchor\":\"x\",\"domain\":[0.0,1.0],\"title\":{\"text\":\"Total Number of Rides\"}},\"legend\":{\"title\":{\"text\":\"User Type\"},\"tracegroupgap\":0},\"title\":{\"text\":\"Total Number of Rides per Weekday by User Type\"}},                        {\"responsive\": true}                    ).then(function(){\n",
       "                            \n",
       "var gd = document.getElementById('5b1e8dd6-32db-4424-8748-1708facd3d05');\n",
       "var x = new MutationObserver(function (mutations, observer) {{\n",
       "        var display = window.getComputedStyle(gd).display;\n",
       "        if (!display || display === 'none') {{\n",
       "            console.log([gd, 'removed!']);\n",
       "            Plotly.purge(gd);\n",
       "            observer.disconnect();\n",
       "        }}\n",
       "}});\n",
       "\n",
       "// Listen for the removal of the full notebook cells\n",
       "var notebookContainer = gd.closest('#notebook-container');\n",
       "if (notebookContainer) {{\n",
       "    x.observe(notebookContainer, {childList: true});\n",
       "}}\n",
       "\n",
       "// Listen for the clearing of the current output cell\n",
       "var outputEl = gd.closest('.output');\n",
       "if (outputEl) {{\n",
       "    x.observe(outputEl, {childList: true});\n",
       "}}\n",
       "\n",
       "                        })                };                });            </script>        </div>"
      ]
     },
     "metadata": {},
     "output_type": "display_data"
    }
   ],
   "source": [
    "# Creating a visualization for rides per weekday. I chose to use plotly.express's line chart to create an interactive line chart.\n",
    "\n",
    "total_rides_weekday = ex.line(rides_by_weekday, x = \"weekday\", y = \"ride_id\", color = \"user_type\", \n",
    "                              color_discrete_sequence = logo_colors, template = \"plotly_dark\", labels = \n",
    "                              {\"ride_id\":\"Total Number of Rides\", \"weekday\":\"Day of Week\", \"user_type\":\n",
    "                               \"User Type\"}, title = \"Total Number of Rides per Weekday by User Type\",\n",
    "                              hover_name = \"user_type\", hover_data = {\"user_type\":False}, markers = True)\n",
    "total_rides_weekday.show()"
   ]
  },
  {
   "cell_type": "code",
   "execution_count": 32,
   "id": "5099523e",
   "metadata": {
    "execution": {
     "iopub.execute_input": "2023-12-15T17:13:46.081836Z",
     "iopub.status.busy": "2023-12-15T17:13:46.080541Z",
     "iopub.status.idle": "2023-12-15T17:13:46.175271Z",
     "shell.execute_reply": "2023-12-15T17:13:46.173773Z"
    },
    "papermill": {
     "duration": 0.1264,
     "end_time": "2023-12-15T17:13:46.178694",
     "exception": false,
     "start_time": "2023-12-15T17:13:46.052294",
     "status": "completed"
    },
    "tags": []
   },
   "outputs": [
    {
     "data": {
      "text/html": [
       "<div>                            <div id=\"51665b90-d0b1-4fb2-8f05-f82d41868a95\" class=\"plotly-graph-div\" style=\"height:525px; width:100%;\"></div>            <script type=\"text/javascript\">                require([\"plotly\"], function(Plotly) {                    window.PLOTLYENV=window.PLOTLYENV || {};                                    if (document.getElementById(\"51665b90-d0b1-4fb2-8f05-f82d41868a95\")) {                    Plotly.newPlot(                        \"51665b90-d0b1-4fb2-8f05-f82d41868a95\",                        [{\"customdata\":[[\"casual\"],[\"casual\"],[\"casual\"],[\"casual\"],[\"casual\"],[\"casual\"],[\"casual\"],[\"casual\"],[\"casual\"],[\"casual\"],[\"casual\"],[\"casual\"],[\"casual\"],[\"casual\"],[\"casual\"],[\"casual\"],[\"casual\"],[\"casual\"],[\"casual\"],[\"casual\"],[\"casual\"],[\"casual\"],[\"casual\"],[\"casual\"],[\"casual\"],[\"casual\"],[\"casual\"],[\"casual\"],[\"casual\"],[\"casual\"],[\"casual\"]],\"hovertemplate\":\"\\u003cb\\u003e%{hovertext}\\u003c\\u002fb\\u003e\\u003cbr\\u003e\\u003cbr\\u003eDay of Month=%{x}\\u003cbr\\u003eTotal Number of Rides=%{y}\\u003cextra\\u003e\\u003c\\u002fextra\\u003e\",\"hovertext\":[\"casual\",\"casual\",\"casual\",\"casual\",\"casual\",\"casual\",\"casual\",\"casual\",\"casual\",\"casual\",\"casual\",\"casual\",\"casual\",\"casual\",\"casual\",\"casual\",\"casual\",\"casual\",\"casual\",\"casual\",\"casual\",\"casual\",\"casual\",\"casual\",\"casual\",\"casual\",\"casual\",\"casual\",\"casual\",\"casual\",\"casual\"],\"legendgroup\":\"casual\",\"line\":{\"color\":\"#3F95A4\",\"dash\":\"solid\"},\"marker\":{\"symbol\":\"circle\"},\"mode\":\"lines+markers\",\"name\":\"casual\",\"orientation\":\"v\",\"showlegend\":true,\"x\":[1,2,3,4,5,6,7,8,9,10,11,12,13,14,15,16,17,18,19,20,21,22,23,24,25,26,27,28,29,30,31],\"xaxis\":\"x\",\"y\":[70582,76949,80059,71892,78156,63297,62184,58084,89855,91659,68935,70806,76245,78517,64560,85182,75787,69132,74216,73745,79240,75495,90523,75695,56019,71401,63456,75143,82089,82774,42465],\"yaxis\":\"y\",\"type\":\"scatter\"},{\"customdata\":[[\"member\"],[\"member\"],[\"member\"],[\"member\"],[\"member\"],[\"member\"],[\"member\"],[\"member\"],[\"member\"],[\"member\"],[\"member\"],[\"member\"],[\"member\"],[\"member\"],[\"member\"],[\"member\"],[\"member\"],[\"member\"],[\"member\"],[\"member\"],[\"member\"],[\"member\"],[\"member\"],[\"member\"],[\"member\"],[\"member\"],[\"member\"],[\"member\"],[\"member\"],[\"member\"],[\"member\"]],\"hovertemplate\":\"\\u003cb\\u003e%{hovertext}\\u003c\\u002fb\\u003e\\u003cbr\\u003e\\u003cbr\\u003eDay of Month=%{x}\\u003cbr\\u003eTotal Number of Rides=%{y}\\u003cextra\\u003e\\u003c\\u002fextra\\u003e\",\"hovertext\":[\"member\",\"member\",\"member\",\"member\",\"member\",\"member\",\"member\",\"member\",\"member\",\"member\",\"member\",\"member\",\"member\",\"member\",\"member\",\"member\",\"member\",\"member\",\"member\",\"member\",\"member\",\"member\",\"member\",\"member\",\"member\",\"member\",\"member\",\"member\",\"member\",\"member\",\"member\"],\"legendgroup\":\"member\",\"line\":{\"color\":\"#F3FD68\",\"dash\":\"solid\"},\"marker\":{\"symbol\":\"circle\"},\"mode\":\"lines+markers\",\"name\":\"member\",\"orientation\":\"v\",\"showlegend\":true,\"x\":[1,2,3,4,5,6,7,8,9,10,11,12,13,14,15,16,17,18,19,20,21,22,23,24,25,26,27,28,29,30,31],\"xaxis\":\"x\",\"y\":[113633,110200,102796,102907,104254,100691,105843,103187,120111,121232,103489,109694,111311,114149,100127,114308,103600,98190,106786,107111,119443,108485,111400,99716,86760,104883,101929,111559,110156,100014,64522],\"yaxis\":\"y\",\"type\":\"scatter\"}],                        {\"template\":{\"data\":{\"barpolar\":[{\"marker\":{\"line\":{\"color\":\"rgb(17,17,17)\",\"width\":0.5},\"pattern\":{\"fillmode\":\"overlay\",\"size\":10,\"solidity\":0.2}},\"type\":\"barpolar\"}],\"bar\":[{\"error_x\":{\"color\":\"#f2f5fa\"},\"error_y\":{\"color\":\"#f2f5fa\"},\"marker\":{\"line\":{\"color\":\"rgb(17,17,17)\",\"width\":0.5},\"pattern\":{\"fillmode\":\"overlay\",\"size\":10,\"solidity\":0.2}},\"type\":\"bar\"}],\"carpet\":[{\"aaxis\":{\"endlinecolor\":\"#A2B1C6\",\"gridcolor\":\"#506784\",\"linecolor\":\"#506784\",\"minorgridcolor\":\"#506784\",\"startlinecolor\":\"#A2B1C6\"},\"baxis\":{\"endlinecolor\":\"#A2B1C6\",\"gridcolor\":\"#506784\",\"linecolor\":\"#506784\",\"minorgridcolor\":\"#506784\",\"startlinecolor\":\"#A2B1C6\"},\"type\":\"carpet\"}],\"choropleth\":[{\"colorbar\":{\"outlinewidth\":0,\"ticks\":\"\"},\"type\":\"choropleth\"}],\"contourcarpet\":[{\"colorbar\":{\"outlinewidth\":0,\"ticks\":\"\"},\"type\":\"contourcarpet\"}],\"contour\":[{\"colorbar\":{\"outlinewidth\":0,\"ticks\":\"\"},\"colorscale\":[[0.0,\"#0d0887\"],[0.1111111111111111,\"#46039f\"],[0.2222222222222222,\"#7201a8\"],[0.3333333333333333,\"#9c179e\"],[0.4444444444444444,\"#bd3786\"],[0.5555555555555556,\"#d8576b\"],[0.6666666666666666,\"#ed7953\"],[0.7777777777777778,\"#fb9f3a\"],[0.8888888888888888,\"#fdca26\"],[1.0,\"#f0f921\"]],\"type\":\"contour\"}],\"heatmapgl\":[{\"colorbar\":{\"outlinewidth\":0,\"ticks\":\"\"},\"colorscale\":[[0.0,\"#0d0887\"],[0.1111111111111111,\"#46039f\"],[0.2222222222222222,\"#7201a8\"],[0.3333333333333333,\"#9c179e\"],[0.4444444444444444,\"#bd3786\"],[0.5555555555555556,\"#d8576b\"],[0.6666666666666666,\"#ed7953\"],[0.7777777777777778,\"#fb9f3a\"],[0.8888888888888888,\"#fdca26\"],[1.0,\"#f0f921\"]],\"type\":\"heatmapgl\"}],\"heatmap\":[{\"colorbar\":{\"outlinewidth\":0,\"ticks\":\"\"},\"colorscale\":[[0.0,\"#0d0887\"],[0.1111111111111111,\"#46039f\"],[0.2222222222222222,\"#7201a8\"],[0.3333333333333333,\"#9c179e\"],[0.4444444444444444,\"#bd3786\"],[0.5555555555555556,\"#d8576b\"],[0.6666666666666666,\"#ed7953\"],[0.7777777777777778,\"#fb9f3a\"],[0.8888888888888888,\"#fdca26\"],[1.0,\"#f0f921\"]],\"type\":\"heatmap\"}],\"histogram2dcontour\":[{\"colorbar\":{\"outlinewidth\":0,\"ticks\":\"\"},\"colorscale\":[[0.0,\"#0d0887\"],[0.1111111111111111,\"#46039f\"],[0.2222222222222222,\"#7201a8\"],[0.3333333333333333,\"#9c179e\"],[0.4444444444444444,\"#bd3786\"],[0.5555555555555556,\"#d8576b\"],[0.6666666666666666,\"#ed7953\"],[0.7777777777777778,\"#fb9f3a\"],[0.8888888888888888,\"#fdca26\"],[1.0,\"#f0f921\"]],\"type\":\"histogram2dcontour\"}],\"histogram2d\":[{\"colorbar\":{\"outlinewidth\":0,\"ticks\":\"\"},\"colorscale\":[[0.0,\"#0d0887\"],[0.1111111111111111,\"#46039f\"],[0.2222222222222222,\"#7201a8\"],[0.3333333333333333,\"#9c179e\"],[0.4444444444444444,\"#bd3786\"],[0.5555555555555556,\"#d8576b\"],[0.6666666666666666,\"#ed7953\"],[0.7777777777777778,\"#fb9f3a\"],[0.8888888888888888,\"#fdca26\"],[1.0,\"#f0f921\"]],\"type\":\"histogram2d\"}],\"histogram\":[{\"marker\":{\"pattern\":{\"fillmode\":\"overlay\",\"size\":10,\"solidity\":0.2}},\"type\":\"histogram\"}],\"mesh3d\":[{\"colorbar\":{\"outlinewidth\":0,\"ticks\":\"\"},\"type\":\"mesh3d\"}],\"parcoords\":[{\"line\":{\"colorbar\":{\"outlinewidth\":0,\"ticks\":\"\"}},\"type\":\"parcoords\"}],\"pie\":[{\"automargin\":true,\"type\":\"pie\"}],\"scatter3d\":[{\"line\":{\"colorbar\":{\"outlinewidth\":0,\"ticks\":\"\"}},\"marker\":{\"colorbar\":{\"outlinewidth\":0,\"ticks\":\"\"}},\"type\":\"scatter3d\"}],\"scattercarpet\":[{\"marker\":{\"colorbar\":{\"outlinewidth\":0,\"ticks\":\"\"}},\"type\":\"scattercarpet\"}],\"scattergeo\":[{\"marker\":{\"colorbar\":{\"outlinewidth\":0,\"ticks\":\"\"}},\"type\":\"scattergeo\"}],\"scattergl\":[{\"marker\":{\"line\":{\"color\":\"#283442\"}},\"type\":\"scattergl\"}],\"scattermapbox\":[{\"marker\":{\"colorbar\":{\"outlinewidth\":0,\"ticks\":\"\"}},\"type\":\"scattermapbox\"}],\"scatterpolargl\":[{\"marker\":{\"colorbar\":{\"outlinewidth\":0,\"ticks\":\"\"}},\"type\":\"scatterpolargl\"}],\"scatterpolar\":[{\"marker\":{\"colorbar\":{\"outlinewidth\":0,\"ticks\":\"\"}},\"type\":\"scatterpolar\"}],\"scatter\":[{\"marker\":{\"line\":{\"color\":\"#283442\"}},\"type\":\"scatter\"}],\"scatterternary\":[{\"marker\":{\"colorbar\":{\"outlinewidth\":0,\"ticks\":\"\"}},\"type\":\"scatterternary\"}],\"surface\":[{\"colorbar\":{\"outlinewidth\":0,\"ticks\":\"\"},\"colorscale\":[[0.0,\"#0d0887\"],[0.1111111111111111,\"#46039f\"],[0.2222222222222222,\"#7201a8\"],[0.3333333333333333,\"#9c179e\"],[0.4444444444444444,\"#bd3786\"],[0.5555555555555556,\"#d8576b\"],[0.6666666666666666,\"#ed7953\"],[0.7777777777777778,\"#fb9f3a\"],[0.8888888888888888,\"#fdca26\"],[1.0,\"#f0f921\"]],\"type\":\"surface\"}],\"table\":[{\"cells\":{\"fill\":{\"color\":\"#506784\"},\"line\":{\"color\":\"rgb(17,17,17)\"}},\"header\":{\"fill\":{\"color\":\"#2a3f5f\"},\"line\":{\"color\":\"rgb(17,17,17)\"}},\"type\":\"table\"}]},\"layout\":{\"annotationdefaults\":{\"arrowcolor\":\"#f2f5fa\",\"arrowhead\":0,\"arrowwidth\":1},\"autotypenumbers\":\"strict\",\"coloraxis\":{\"colorbar\":{\"outlinewidth\":0,\"ticks\":\"\"}},\"colorscale\":{\"diverging\":[[0,\"#8e0152\"],[0.1,\"#c51b7d\"],[0.2,\"#de77ae\"],[0.3,\"#f1b6da\"],[0.4,\"#fde0ef\"],[0.5,\"#f7f7f7\"],[0.6,\"#e6f5d0\"],[0.7,\"#b8e186\"],[0.8,\"#7fbc41\"],[0.9,\"#4d9221\"],[1,\"#276419\"]],\"sequential\":[[0.0,\"#0d0887\"],[0.1111111111111111,\"#46039f\"],[0.2222222222222222,\"#7201a8\"],[0.3333333333333333,\"#9c179e\"],[0.4444444444444444,\"#bd3786\"],[0.5555555555555556,\"#d8576b\"],[0.6666666666666666,\"#ed7953\"],[0.7777777777777778,\"#fb9f3a\"],[0.8888888888888888,\"#fdca26\"],[1.0,\"#f0f921\"]],\"sequentialminus\":[[0.0,\"#0d0887\"],[0.1111111111111111,\"#46039f\"],[0.2222222222222222,\"#7201a8\"],[0.3333333333333333,\"#9c179e\"],[0.4444444444444444,\"#bd3786\"],[0.5555555555555556,\"#d8576b\"],[0.6666666666666666,\"#ed7953\"],[0.7777777777777778,\"#fb9f3a\"],[0.8888888888888888,\"#fdca26\"],[1.0,\"#f0f921\"]]},\"colorway\":[\"#636efa\",\"#EF553B\",\"#00cc96\",\"#ab63fa\",\"#FFA15A\",\"#19d3f3\",\"#FF6692\",\"#B6E880\",\"#FF97FF\",\"#FECB52\"],\"font\":{\"color\":\"#f2f5fa\"},\"geo\":{\"bgcolor\":\"rgb(17,17,17)\",\"lakecolor\":\"rgb(17,17,17)\",\"landcolor\":\"rgb(17,17,17)\",\"showlakes\":true,\"showland\":true,\"subunitcolor\":\"#506784\"},\"hoverlabel\":{\"align\":\"left\"},\"hovermode\":\"closest\",\"mapbox\":{\"style\":\"dark\"},\"paper_bgcolor\":\"rgb(17,17,17)\",\"plot_bgcolor\":\"rgb(17,17,17)\",\"polar\":{\"angularaxis\":{\"gridcolor\":\"#506784\",\"linecolor\":\"#506784\",\"ticks\":\"\"},\"bgcolor\":\"rgb(17,17,17)\",\"radialaxis\":{\"gridcolor\":\"#506784\",\"linecolor\":\"#506784\",\"ticks\":\"\"}},\"scene\":{\"xaxis\":{\"backgroundcolor\":\"rgb(17,17,17)\",\"gridcolor\":\"#506784\",\"gridwidth\":2,\"linecolor\":\"#506784\",\"showbackground\":true,\"ticks\":\"\",\"zerolinecolor\":\"#C8D4E3\"},\"yaxis\":{\"backgroundcolor\":\"rgb(17,17,17)\",\"gridcolor\":\"#506784\",\"gridwidth\":2,\"linecolor\":\"#506784\",\"showbackground\":true,\"ticks\":\"\",\"zerolinecolor\":\"#C8D4E3\"},\"zaxis\":{\"backgroundcolor\":\"rgb(17,17,17)\",\"gridcolor\":\"#506784\",\"gridwidth\":2,\"linecolor\":\"#506784\",\"showbackground\":true,\"ticks\":\"\",\"zerolinecolor\":\"#C8D4E3\"}},\"shapedefaults\":{\"line\":{\"color\":\"#f2f5fa\"}},\"sliderdefaults\":{\"bgcolor\":\"#C8D4E3\",\"bordercolor\":\"rgb(17,17,17)\",\"borderwidth\":1,\"tickwidth\":0},\"ternary\":{\"aaxis\":{\"gridcolor\":\"#506784\",\"linecolor\":\"#506784\",\"ticks\":\"\"},\"baxis\":{\"gridcolor\":\"#506784\",\"linecolor\":\"#506784\",\"ticks\":\"\"},\"bgcolor\":\"rgb(17,17,17)\",\"caxis\":{\"gridcolor\":\"#506784\",\"linecolor\":\"#506784\",\"ticks\":\"\"}},\"title\":{\"x\":0.05},\"updatemenudefaults\":{\"bgcolor\":\"#506784\",\"borderwidth\":0},\"xaxis\":{\"automargin\":true,\"gridcolor\":\"#283442\",\"linecolor\":\"#506784\",\"ticks\":\"\",\"title\":{\"standoff\":15},\"zerolinecolor\":\"#283442\",\"zerolinewidth\":2},\"yaxis\":{\"automargin\":true,\"gridcolor\":\"#283442\",\"linecolor\":\"#506784\",\"ticks\":\"\",\"title\":{\"standoff\":15},\"zerolinecolor\":\"#283442\",\"zerolinewidth\":2}}},\"xaxis\":{\"anchor\":\"y\",\"domain\":[0.0,1.0],\"title\":{\"text\":\"Day of Month\"}},\"yaxis\":{\"anchor\":\"x\",\"domain\":[0.0,1.0],\"title\":{\"text\":\"Total Number of Rides\"}},\"legend\":{\"title\":{\"text\":\"User Type\"},\"tracegroupgap\":0},\"title\":{\"text\":\"Total Number of Rides by Day of Month\"}},                        {\"responsive\": true}                    ).then(function(){\n",
       "                            \n",
       "var gd = document.getElementById('51665b90-d0b1-4fb2-8f05-f82d41868a95');\n",
       "var x = new MutationObserver(function (mutations, observer) {{\n",
       "        var display = window.getComputedStyle(gd).display;\n",
       "        if (!display || display === 'none') {{\n",
       "            console.log([gd, 'removed!']);\n",
       "            Plotly.purge(gd);\n",
       "            observer.disconnect();\n",
       "        }}\n",
       "}});\n",
       "\n",
       "// Listen for the removal of the full notebook cells\n",
       "var notebookContainer = gd.closest('#notebook-container');\n",
       "if (notebookContainer) {{\n",
       "    x.observe(notebookContainer, {childList: true});\n",
       "}}\n",
       "\n",
       "// Listen for the clearing of the current output cell\n",
       "var outputEl = gd.closest('.output');\n",
       "if (outputEl) {{\n",
       "    x.observe(outputEl, {childList: true});\n",
       "}}\n",
       "\n",
       "                        })                };                });            </script>        </div>"
      ]
     },
     "metadata": {},
     "output_type": "display_data"
    }
   ],
   "source": [
    "# Creating a visualization for number of rides per day of month with the same plotly.express line chart.\n",
    "\n",
    "total_rides_day = ex.line(rides_by_monthday, x = \"month_day\", y = \"ride_id\", color = \"user_type\",\n",
    "                          color_discrete_sequence = logo_colors, template = \"plotly_dark\", labels = \n",
    "                          {\"ride_id\":\"Total Number of Rides\", \"month_day\":\"Day of Month\",\n",
    "                           \"user_type\":\"User Type\"}, title = \"Total Number of Rides by Day of Month\",\n",
    "                          hover_name = \"user_type\", hover_data = {\"user_type\":False}, markers = True)\n",
    "\n",
    "total_rides_day.show()"
   ]
  },
  {
   "cell_type": "code",
   "execution_count": 33,
   "id": "df75c8af",
   "metadata": {
    "execution": {
     "iopub.execute_input": "2023-12-15T17:13:46.237243Z",
     "iopub.status.busy": "2023-12-15T17:13:46.236660Z",
     "iopub.status.idle": "2023-12-15T17:13:46.770449Z",
     "shell.execute_reply": "2023-12-15T17:13:46.769136Z"
    },
    "papermill": {
     "duration": 0.566196,
     "end_time": "2023-12-15T17:13:46.773265",
     "exception": false,
     "start_time": "2023-12-15T17:13:46.207069",
     "status": "completed"
    },
    "tags": []
   },
   "outputs": [
    {
     "data": {
      "image/png": "[encoded data removed]",
      "text/plain": [
       "<Figure size 1200x1000 with 1 Axes>"
      ]
     },
     "metadata": {},
     "output_type": "display_data"
    }
   ],
   "source": [
    "# Creating a visualization for total number of rides per month by usertype with the seaborn barplot method.\n",
    "\n",
    "rides_per_month = plt.subplots(figsize = (12,10))\n",
    "rides_per_month = sns.barplot(x = \"month\", y = \"ride_id\", data = rides_by_month, hue = \"user_type\",\n",
    "                              palette = logo_colors, errorbar = None)\n",
    "plt.legend(title = \"User Type\", loc = \"upper right\", labels = [\"Member\", \"Casual\"])\n",
    "plt.xlabel(\"Month\")\n",
    "plt.ylabel(\"Total Number of Rides\")\n",
    "plt.title(\"Total Number of Rides per Month by User Type\")\n",
    "plt.show()"
   ]
  },
  {
   "cell_type": "code",
   "execution_count": 34,
   "id": "68bfa221",
   "metadata": {
    "execution": {
     "iopub.execute_input": "2023-12-15T17:13:46.828666Z",
     "iopub.status.busy": "2023-12-15T17:13:46.828240Z",
     "iopub.status.idle": "2023-12-15T17:13:47.111721Z",
     "shell.execute_reply": "2023-12-15T17:13:47.110839Z"
    },
    "papermill": {
     "duration": 0.313732,
     "end_time": "2023-12-15T17:13:47.113990",
     "exception": false,
     "start_time": "2023-12-15T17:13:46.800258",
     "status": "completed"
    },
    "tags": []
   },
   "outputs": [
    {
     "data": {
      "image/png": "[encoded data removed]",
      "text/plain": [
       "<Figure size 1200x800 with 1 Axes>"
      ]
     },
     "metadata": {},
     "output_type": "display_data"
    }
   ],
   "source": [
    "# Creating a visualization for the average ride time by usertype with the matplotlib horizontal barplot method.\n",
    "# Setting the figure size for the barplot and a variable for the x-axis.\n",
    "x = avgRide_per_usertype[\"ride_time\"]\n",
    "avgRide_per_user = plt.subplots(figsize = (12, 8))\n",
    "avgRide_per_user = plt.barh([\"Casual\",\"Member\"], x, color = logo_colors, height = (-1.0),\n",
    "                                align = \"center\")\n",
    "# Generating data labels by creating patches that read the width of each bar on the plot and displaying \n",
    "# that value (which matches the value from the avgRide_per_usertype dataframe).\n",
    "for i in avgRide_per_user.patches:\n",
    "    plt.text(i.get_width()-2.0, i.get_y()-0.5, str(round((i.get_width()), 2)),\n",
    "             fontsize = 12, fontweight = \"bold\", color = \"black\")\n",
    "\n",
    "plt.xlabel(\"Average Ride Time (m.)\")\n",
    "plt.ylabel(\"User Type\")\n",
    "plt.title(\"Average Ride Time by User Type\")\n",
    "plt.show()"
   ]
  },
  {
   "cell_type": "code",
   "execution_count": 35,
   "id": "b3d89e5e",
   "metadata": {
    "execution": {
     "iopub.execute_input": "2023-12-15T17:13:47.169576Z",
     "iopub.status.busy": "2023-12-15T17:13:47.168554Z",
     "iopub.status.idle": "2023-12-15T17:13:47.564429Z",
     "shell.execute_reply": "2023-12-15T17:13:47.563259Z"
    },
    "papermill": {
     "duration": 0.426418,
     "end_time": "2023-12-15T17:13:47.567084",
     "exception": false,
     "start_time": "2023-12-15T17:13:47.140666",
     "status": "completed"
    },
    "tags": []
   },
   "outputs": [
    {
     "data": {
      "image/png": "[encoded data removed]",
      "text/plain": [
       "<Figure size 1200x800 with 1 Axes>"
      ]
     },
     "metadata": {},
     "output_type": "display_data"
    }
   ],
   "source": [
    "# Creating a visualization for the average ride time per weekday by usertype with the seaborn barplot method.\n",
    "\n",
    "avgRide_per_wkday = plt.subplots(figsize = (12, 8))\n",
    "avgRide_per_wkday = sns.barplot(x = \"weekday\", y = \"ride_time\", data = avgRide_per_weekday, hue = \"user_type\",\n",
    "                                palette = logo_colors, errorbar = None)\n",
    "#Creating custom legend that has a better looking format.\n",
    "plt.legend(title = \"User Type\", loc = \"upper center\", labels = [\"Casual\", \"Member\"])\n",
    "plt.xlabel(\"Weekday\")\n",
    "plt.ylabel(\"Average Ride Time (m.)\")\n",
    "plt.title(\"Average Ride Time by Weekday per User Type\")\n",
    "plt.show()"
   ]
  },
  {
   "cell_type": "code",
   "execution_count": 36,
   "id": "05693044",
   "metadata": {
    "execution": {
     "iopub.execute_input": "2023-12-15T17:13:47.626710Z",
     "iopub.status.busy": "2023-12-15T17:13:47.626308Z",
     "iopub.status.idle": "2023-12-15T17:13:47.715013Z",
     "shell.execute_reply": "2023-12-15T17:13:47.713866Z"
    },
    "papermill": {
     "duration": 0.121006,
     "end_time": "2023-12-15T17:13:47.717565",
     "exception": false,
     "start_time": "2023-12-15T17:13:47.596559",
     "status": "completed"
    },
    "tags": []
   },
   "outputs": [
    {
     "data": {
      "text/html": [
       "<div>                            <div id=\"94124a15-fe6e-4cb0-9cc5-ab57973da5b2\" class=\"plotly-graph-div\" style=\"height:525px; width:100%;\"></div>            <script type=\"text/javascript\">                require([\"plotly\"], function(Plotly) {                    window.PLOTLYENV=window.PLOTLYENV || {};                                    if (document.getElementById(\"94124a15-fe6e-4cb0-9cc5-ab57973da5b2\")) {                    Plotly.newPlot(                        \"94124a15-fe6e-4cb0-9cc5-ab57973da5b2\",                        [{\"customdata\":[[\"casual\"],[\"casual\"],[\"casual\"],[\"casual\"],[\"casual\"],[\"casual\"],[\"casual\"],[\"casual\"],[\"casual\"],[\"casual\"],[\"casual\"],[\"casual\"],[\"casual\"],[\"casual\"],[\"casual\"],[\"casual\"],[\"casual\"],[\"casual\"],[\"casual\"],[\"casual\"],[\"casual\"],[\"casual\"],[\"casual\"],[\"casual\"],[\"casual\"],[\"casual\"],[\"casual\"],[\"casual\"],[\"casual\"],[\"casual\"],[\"casual\"]],\"hovertemplate\":\"\\u003cb\\u003e%{hovertext}\\u003c\\u002fb\\u003e\\u003cbr\\u003e\\u003cbr\\u003eDay of Month=%{x}\\u003cbr\\u003eAverage Ride Time (m.)=%{y}\\u003cextra\\u003e\\u003c\\u002fextra\\u003e\",\"hovertext\":[\"casual\",\"casual\",\"casual\",\"casual\",\"casual\",\"casual\",\"casual\",\"casual\",\"casual\",\"casual\",\"casual\",\"casual\",\"casual\",\"casual\",\"casual\",\"casual\",\"casual\",\"casual\",\"casual\",\"casual\",\"casual\",\"casual\",\"casual\",\"casual\",\"casual\",\"casual\",\"casual\",\"casual\",\"casual\",\"casual\",\"casual\"],\"legendgroup\":\"casual\",\"line\":{\"color\":\"#3F95A4\",\"dash\":\"solid\"},\"marker\":{\"symbol\":\"circle\"},\"mode\":\"lines+markers\",\"name\":\"casual\",\"orientation\":\"v\",\"showlegend\":true,\"x\":[1,2,3,4,5,6,7,8,9,10,11,12,13,14,15,16,17,18,19,20,21,22,23,24,25,26,27,28,29,30,31],\"xaxis\":\"x\",\"y\":[26.43,29.74,30.91,28.6,31.54,29.12,26.66,26.48,35.51,32.06,31.98,29.1,30.25,31.28,31.12,28.88,35.07,27.7,30.53,28.01,29.12,27.19,29.85,26.96,27.18,27.75,24.98,27.47,27.01,28.09,24.02],\"yaxis\":\"y\",\"type\":\"scatter\"},{\"customdata\":[[\"member\"],[\"member\"],[\"member\"],[\"member\"],[\"member\"],[\"member\"],[\"member\"],[\"member\"],[\"member\"],[\"member\"],[\"member\"],[\"member\"],[\"member\"],[\"member\"],[\"member\"],[\"member\"],[\"member\"],[\"member\"],[\"member\"],[\"member\"],[\"member\"],[\"member\"],[\"member\"],[\"member\"],[\"member\"],[\"member\"],[\"member\"],[\"member\"],[\"member\"],[\"member\"],[\"member\"]],\"hovertemplate\":\"\\u003cb\\u003e%{hovertext}\\u003c\\u002fb\\u003e\\u003cbr\\u003e\\u003cbr\\u003eDay of Month=%{x}\\u003cbr\\u003eAverage Ride Time (m.)=%{y}\\u003cextra\\u003e\\u003c\\u002fextra\\u003e\",\"hovertext\":[\"member\",\"member\",\"member\",\"member\",\"member\",\"member\",\"member\",\"member\",\"member\",\"member\",\"member\",\"member\",\"member\",\"member\",\"member\",\"member\",\"member\",\"member\",\"member\",\"member\",\"member\",\"member\",\"member\",\"member\",\"member\",\"member\",\"member\",\"member\",\"member\",\"member\",\"member\"],\"legendgroup\":\"member\",\"line\":{\"color\":\"#F3FD68\",\"dash\":\"solid\"},\"marker\":{\"symbol\":\"circle\"},\"mode\":\"lines+markers\",\"name\":\"member\",\"orientation\":\"v\",\"showlegend\":true,\"x\":[1,2,3,4,5,6,7,8,9,10,11,12,13,14,15,16,17,18,19,20,21,22,23,24,25,26,27,28,29,30,31],\"xaxis\":\"x\",\"y\":[12.12,12.58,12.5,12.5,12.75,11.98,12.14,11.74,13.04,13.11,12.47,12.26,12.41,12.73,12.17,12.82,12.51,12.46,12.55,12.48,12.71,12.53,13.22,12.78,12.17,12.42,12.06,12.11,12.39,12.92,12.54],\"yaxis\":\"y\",\"type\":\"scatter\"}],                        {\"template\":{\"data\":{\"barpolar\":[{\"marker\":{\"line\":{\"color\":\"rgb(17,17,17)\",\"width\":0.5},\"pattern\":{\"fillmode\":\"overlay\",\"size\":10,\"solidity\":0.2}},\"type\":\"barpolar\"}],\"bar\":[{\"error_x\":{\"color\":\"#f2f5fa\"},\"error_y\":{\"color\":\"#f2f5fa\"},\"marker\":{\"line\":{\"color\":\"rgb(17,17,17)\",\"width\":0.5},\"pattern\":{\"fillmode\":\"overlay\",\"size\":10,\"solidity\":0.2}},\"type\":\"bar\"}],\"carpet\":[{\"aaxis\":{\"endlinecolor\":\"#A2B1C6\",\"gridcolor\":\"#506784\",\"linecolor\":\"#506784\",\"minorgridcolor\":\"#506784\",\"startlinecolor\":\"#A2B1C6\"},\"baxis\":{\"endlinecolor\":\"#A2B1C6\",\"gridcolor\":\"#506784\",\"linecolor\":\"#506784\",\"minorgridcolor\":\"#506784\",\"startlinecolor\":\"#A2B1C6\"},\"type\":\"carpet\"}],\"choropleth\":[{\"colorbar\":{\"outlinewidth\":0,\"ticks\":\"\"},\"type\":\"choropleth\"}],\"contourcarpet\":[{\"colorbar\":{\"outlinewidth\":0,\"ticks\":\"\"},\"type\":\"contourcarpet\"}],\"contour\":[{\"colorbar\":{\"outlinewidth\":0,\"ticks\":\"\"},\"colorscale\":[[0.0,\"#0d0887\"],[0.1111111111111111,\"#46039f\"],[0.2222222222222222,\"#7201a8\"],[0.3333333333333333,\"#9c179e\"],[0.4444444444444444,\"#bd3786\"],[0.5555555555555556,\"#d8576b\"],[0.6666666666666666,\"#ed7953\"],[0.7777777777777778,\"#fb9f3a\"],[0.8888888888888888,\"#fdca26\"],[1.0,\"#f0f921\"]],\"type\":\"contour\"}],\"heatmapgl\":[{\"colorbar\":{\"outlinewidth\":0,\"ticks\":\"\"},\"colorscale\":[[0.0,\"#0d0887\"],[0.1111111111111111,\"#46039f\"],[0.2222222222222222,\"#7201a8\"],[0.3333333333333333,\"#9c179e\"],[0.4444444444444444,\"#bd3786\"],[0.5555555555555556,\"#d8576b\"],[0.6666666666666666,\"#ed7953\"],[0.7777777777777778,\"#fb9f3a\"],[0.8888888888888888,\"#fdca26\"],[1.0,\"#f0f921\"]],\"type\":\"heatmapgl\"}],\"heatmap\":[{\"colorbar\":{\"outlinewidth\":0,\"ticks\":\"\"},\"colorscale\":[[0.0,\"#0d0887\"],[0.1111111111111111,\"#46039f\"],[0.2222222222222222,\"#7201a8\"],[0.3333333333333333,\"#9c179e\"],[0.4444444444444444,\"#bd3786\"],[0.5555555555555556,\"#d8576b\"],[0.6666666666666666,\"#ed7953\"],[0.7777777777777778,\"#fb9f3a\"],[0.8888888888888888,\"#fdca26\"],[1.0,\"#f0f921\"]],\"type\":\"heatmap\"}],\"histogram2dcontour\":[{\"colorbar\":{\"outlinewidth\":0,\"ticks\":\"\"},\"colorscale\":[[0.0,\"#0d0887\"],[0.1111111111111111,\"#46039f\"],[0.2222222222222222,\"#7201a8\"],[0.3333333333333333,\"#9c179e\"],[0.4444444444444444,\"#bd3786\"],[0.5555555555555556,\"#d8576b\"],[0.6666666666666666,\"#ed7953\"],[0.7777777777777778,\"#fb9f3a\"],[0.8888888888888888,\"#fdca26\"],[1.0,\"#f0f921\"]],\"type\":\"histogram2dcontour\"}],\"histogram2d\":[{\"colorbar\":{\"outlinewidth\":0,\"ticks\":\"\"},\"colorscale\":[[0.0,\"#0d0887\"],[0.1111111111111111,\"#46039f\"],[0.2222222222222222,\"#7201a8\"],[0.3333333333333333,\"#9c179e\"],[0.4444444444444444,\"#bd3786\"],[0.5555555555555556,\"#d8576b\"],[0.6666666666666666,\"#ed7953\"],[0.7777777777777778,\"#fb9f3a\"],[0.8888888888888888,\"#fdca26\"],[1.0,\"#f0f921\"]],\"type\":\"histogram2d\"}],\"histogram\":[{\"marker\":{\"pattern\":{\"fillmode\":\"overlay\",\"size\":10,\"solidity\":0.2}},\"type\":\"histogram\"}],\"mesh3d\":[{\"colorbar\":{\"outlinewidth\":0,\"ticks\":\"\"},\"type\":\"mesh3d\"}],\"parcoords\":[{\"line\":{\"colorbar\":{\"outlinewidth\":0,\"ticks\":\"\"}},\"type\":\"parcoords\"}],\"pie\":[{\"automargin\":true,\"type\":\"pie\"}],\"scatter3d\":[{\"line\":{\"colorbar\":{\"outlinewidth\":0,\"ticks\":\"\"}},\"marker\":{\"colorbar\":{\"outlinewidth\":0,\"ticks\":\"\"}},\"type\":\"scatter3d\"}],\"scattercarpet\":[{\"marker\":{\"colorbar\":{\"outlinewidth\":0,\"ticks\":\"\"}},\"type\":\"scattercarpet\"}],\"scattergeo\":[{\"marker\":{\"colorbar\":{\"outlinewidth\":0,\"ticks\":\"\"}},\"type\":\"scattergeo\"}],\"scattergl\":[{\"marker\":{\"line\":{\"color\":\"#283442\"}},\"type\":\"scattergl\"}],\"scattermapbox\":[{\"marker\":{\"colorbar\":{\"outlinewidth\":0,\"ticks\":\"\"}},\"type\":\"scattermapbox\"}],\"scatterpolargl\":[{\"marker\":{\"colorbar\":{\"outlinewidth\":0,\"ticks\":\"\"}},\"type\":\"scatterpolargl\"}],\"scatterpolar\":[{\"marker\":{\"colorbar\":{\"outlinewidth\":0,\"ticks\":\"\"}},\"type\":\"scatterpolar\"}],\"scatter\":[{\"marker\":{\"line\":{\"color\":\"#283442\"}},\"type\":\"scatter\"}],\"scatterternary\":[{\"marker\":{\"colorbar\":{\"outlinewidth\":0,\"ticks\":\"\"}},\"type\":\"scatterternary\"}],\"surface\":[{\"colorbar\":{\"outlinewidth\":0,\"ticks\":\"\"},\"colorscale\":[[0.0,\"#0d0887\"],[0.1111111111111111,\"#46039f\"],[0.2222222222222222,\"#7201a8\"],[0.3333333333333333,\"#9c179e\"],[0.4444444444444444,\"#bd3786\"],[0.5555555555555556,\"#d8576b\"],[0.6666666666666666,\"#ed7953\"],[0.7777777777777778,\"#fb9f3a\"],[0.8888888888888888,\"#fdca26\"],[1.0,\"#f0f921\"]],\"type\":\"surface\"}],\"table\":[{\"cells\":{\"fill\":{\"color\":\"#506784\"},\"line\":{\"color\":\"rgb(17,17,17)\"}},\"header\":{\"fill\":{\"color\":\"#2a3f5f\"},\"line\":{\"color\":\"rgb(17,17,17)\"}},\"type\":\"table\"}]},\"layout\":{\"annotationdefaults\":{\"arrowcolor\":\"#f2f5fa\",\"arrowhead\":0,\"arrowwidth\":1},\"autotypenumbers\":\"strict\",\"coloraxis\":{\"colorbar\":{\"outlinewidth\":0,\"ticks\":\"\"}},\"colorscale\":{\"diverging\":[[0,\"#8e0152\"],[0.1,\"#c51b7d\"],[0.2,\"#de77ae\"],[0.3,\"#f1b6da\"],[0.4,\"#fde0ef\"],[0.5,\"#f7f7f7\"],[0.6,\"#e6f5d0\"],[0.7,\"#b8e186\"],[0.8,\"#7fbc41\"],[0.9,\"#4d9221\"],[1,\"#276419\"]],\"sequential\":[[0.0,\"#0d0887\"],[0.1111111111111111,\"#46039f\"],[0.2222222222222222,\"#7201a8\"],[0.3333333333333333,\"#9c179e\"],[0.4444444444444444,\"#bd3786\"],[0.5555555555555556,\"#d8576b\"],[0.6666666666666666,\"#ed7953\"],[0.7777777777777778,\"#fb9f3a\"],[0.8888888888888888,\"#fdca26\"],[1.0,\"#f0f921\"]],\"sequentialminus\":[[0.0,\"#0d0887\"],[0.1111111111111111,\"#46039f\"],[0.2222222222222222,\"#7201a8\"],[0.3333333333333333,\"#9c179e\"],[0.4444444444444444,\"#bd3786\"],[0.5555555555555556,\"#d8576b\"],[0.6666666666666666,\"#ed7953\"],[0.7777777777777778,\"#fb9f3a\"],[0.8888888888888888,\"#fdca26\"],[1.0,\"#f0f921\"]]},\"colorway\":[\"#636efa\",\"#EF553B\",\"#00cc96\",\"#ab63fa\",\"#FFA15A\",\"#19d3f3\",\"#FF6692\",\"#B6E880\",\"#FF97FF\",\"#FECB52\"],\"font\":{\"color\":\"#f2f5fa\"},\"geo\":{\"bgcolor\":\"rgb(17,17,17)\",\"lakecolor\":\"rgb(17,17,17)\",\"landcolor\":\"rgb(17,17,17)\",\"showlakes\":true,\"showland\":true,\"subunitcolor\":\"#506784\"},\"hoverlabel\":{\"align\":\"left\"},\"hovermode\":\"closest\",\"mapbox\":{\"style\":\"dark\"},\"paper_bgcolor\":\"rgb(17,17,17)\",\"plot_bgcolor\":\"rgb(17,17,17)\",\"polar\":{\"angularaxis\":{\"gridcolor\":\"#506784\",\"linecolor\":\"#506784\",\"ticks\":\"\"},\"bgcolor\":\"rgb(17,17,17)\",\"radialaxis\":{\"gridcolor\":\"#506784\",\"linecolor\":\"#506784\",\"ticks\":\"\"}},\"scene\":{\"xaxis\":{\"backgroundcolor\":\"rgb(17,17,17)\",\"gridcolor\":\"#506784\",\"gridwidth\":2,\"linecolor\":\"#506784\",\"showbackground\":true,\"ticks\":\"\",\"zerolinecolor\":\"#C8D4E3\"},\"yaxis\":{\"backgroundcolor\":\"rgb(17,17,17)\",\"gridcolor\":\"#506784\",\"gridwidth\":2,\"linecolor\":\"#506784\",\"showbackground\":true,\"ticks\":\"\",\"zerolinecolor\":\"#C8D4E3\"},\"zaxis\":{\"backgroundcolor\":\"rgb(17,17,17)\",\"gridcolor\":\"#506784\",\"gridwidth\":2,\"linecolor\":\"#506784\",\"showbackground\":true,\"ticks\":\"\",\"zerolinecolor\":\"#C8D4E3\"}},\"shapedefaults\":{\"line\":{\"color\":\"#f2f5fa\"}},\"sliderdefaults\":{\"bgcolor\":\"#C8D4E3\",\"bordercolor\":\"rgb(17,17,17)\",\"borderwidth\":1,\"tickwidth\":0},\"ternary\":{\"aaxis\":{\"gridcolor\":\"#506784\",\"linecolor\":\"#506784\",\"ticks\":\"\"},\"baxis\":{\"gridcolor\":\"#506784\",\"linecolor\":\"#506784\",\"ticks\":\"\"},\"bgcolor\":\"rgb(17,17,17)\",\"caxis\":{\"gridcolor\":\"#506784\",\"linecolor\":\"#506784\",\"ticks\":\"\"}},\"title\":{\"x\":0.05},\"updatemenudefaults\":{\"bgcolor\":\"#506784\",\"borderwidth\":0},\"xaxis\":{\"automargin\":true,\"gridcolor\":\"#283442\",\"linecolor\":\"#506784\",\"ticks\":\"\",\"title\":{\"standoff\":15},\"zerolinecolor\":\"#283442\",\"zerolinewidth\":2},\"yaxis\":{\"automargin\":true,\"gridcolor\":\"#283442\",\"linecolor\":\"#506784\",\"ticks\":\"\",\"title\":{\"standoff\":15},\"zerolinecolor\":\"#283442\",\"zerolinewidth\":2}}},\"xaxis\":{\"anchor\":\"y\",\"domain\":[0.0,1.0],\"title\":{\"text\":\"Day of Month\"}},\"yaxis\":{\"anchor\":\"x\",\"domain\":[0.0,1.0],\"title\":{\"text\":\"Average Ride Time (m.)\"}},\"legend\":{\"title\":{\"text\":\"User Type\"},\"tracegroupgap\":0},\"title\":{\"text\":\"Average Ride Time per Day of Month by User Type\"}},                        {\"responsive\": true}                    ).then(function(){\n",
       "                            \n",
       "var gd = document.getElementById('94124a15-fe6e-4cb0-9cc5-ab57973da5b2');\n",
       "var x = new MutationObserver(function (mutations, observer) {{\n",
       "        var display = window.getComputedStyle(gd).display;\n",
       "        if (!display || display === 'none') {{\n",
       "            console.log([gd, 'removed!']);\n",
       "            Plotly.purge(gd);\n",
       "            observer.disconnect();\n",
       "        }}\n",
       "}});\n",
       "\n",
       "// Listen for the removal of the full notebook cells\n",
       "var notebookContainer = gd.closest('#notebook-container');\n",
       "if (notebookContainer) {{\n",
       "    x.observe(notebookContainer, {childList: true});\n",
       "}}\n",
       "\n",
       "// Listen for the clearing of the current output cell\n",
       "var outputEl = gd.closest('.output');\n",
       "if (outputEl) {{\n",
       "    x.observe(outputEl, {childList: true});\n",
       "}}\n",
       "\n",
       "                        })                };                });            </script>        </div>"
      ]
     },
     "metadata": {},
     "output_type": "display_data"
    }
   ],
   "source": [
    "# Creating a visualization for the average ride time per day of the month by user type using the plotly express line chart method.\n",
    "\n",
    "avgRide_per_dayofmonth = ex.line(avgRide_per_monthday, x = \"month_day\", y = \"ride_time\", color = \"user_type\",\n",
    "                                 color_discrete_sequence = logo_colors, markers = True, title = \"Average Ride Time per Day of Month by User Type\",\n",
    "                                 labels = {\"month_day\":\"Day of Month\", \"ride_time\":\"Average Ride Time (m.)\", \"user_type\":\"User Type\"},\n",
    "                                 hover_name = \"user_type\", hover_data = {\"user_type\":False}, template = \"plotly_dark\")\n",
    "avgRide_per_dayofmonth.show()"
   ]
  },
  {
   "cell_type": "code",
   "execution_count": 37,
   "id": "43b92399",
   "metadata": {
    "execution": {
     "iopub.execute_input": "2023-12-15T17:13:47.776814Z",
     "iopub.status.busy": "2023-12-15T17:13:47.776408Z",
     "iopub.status.idle": "2023-12-15T17:13:47.859873Z",
     "shell.execute_reply": "2023-12-15T17:13:47.858636Z"
    },
    "papermill": {
     "duration": 0.11667,
     "end_time": "2023-12-15T17:13:47.862482",
     "exception": false,
     "start_time": "2023-12-15T17:13:47.745812",
     "status": "completed"
    },
    "tags": []
   },
   "outputs": [
    {
     "data": {
      "text/html": [
       "<div>                            <div id=\"443ced06-47df-4e94-a479-14ccbd3c036e\" class=\"plotly-graph-div\" style=\"height:525px; width:100%;\"></div>            <script type=\"text/javascript\">                require([\"plotly\"], function(Plotly) {                    window.PLOTLYENV=window.PLOTLYENV || {};                                    if (document.getElementById(\"443ced06-47df-4e94-a479-14ccbd3c036e\")) {                    Plotly.newPlot(                        \"443ced06-47df-4e94-a479-14ccbd3c036e\",                        [{\"customdata\":[[\"casual\"],[\"casual\"],[\"casual\"],[\"casual\"],[\"casual\"],[\"casual\"],[\"casual\"],[\"casual\"],[\"casual\"],[\"casual\"],[\"casual\"],[\"casual\"]],\"hovertemplate\":\"\\u003cb\\u003e%{hovertext}\\u003c\\u002fb\\u003e\\u003cbr\\u003e\\u003cbr\\u003eMonth=%{x}\\u003cbr\\u003eAverage Ride Time (m.)=%{y}\\u003cextra\\u003e\\u003c\\u002fextra\\u003e\",\"hovertext\":[\"casual\",\"casual\",\"casual\",\"casual\",\"casual\",\"casual\",\"casual\",\"casual\",\"casual\",\"casual\",\"casual\",\"casual\"],\"legendgroup\":\"casual\",\"line\":{\"color\":\"#3F95A4\",\"dash\":\"solid\"},\"marker\":{\"symbol\":\"circle\"},\"mode\":\"lines+markers\",\"name\":\"casual\",\"orientation\":\"v\",\"showlegend\":true,\"x\":[\"January\",\"February\",\"March\",\"April\",\"May\",\"June\",\"July\",\"August\",\"September\",\"October\",\"November\",\"December\"],\"xaxis\":\"x\",\"y\":[30.49,26.76,32.69,29.59,30.96,32.23,29.4,29.46,28.09,26.5,21.31,22.37],\"yaxis\":\"y\",\"type\":\"scatter\"},{\"customdata\":[[\"member\"],[\"member\"],[\"member\"],[\"member\"],[\"member\"],[\"member\"],[\"member\"],[\"member\"],[\"member\"],[\"member\"],[\"member\"],[\"member\"]],\"hovertemplate\":\"\\u003cb\\u003e%{hovertext}\\u003c\\u002fb\\u003e\\u003cbr\\u003e\\u003cbr\\u003eMonth=%{x}\\u003cbr\\u003eAverage Ride Time (m.)=%{y}\\u003cextra\\u003e\\u003c\\u002fextra\\u003e\",\"hovertext\":[\"member\",\"member\",\"member\",\"member\",\"member\",\"member\",\"member\",\"member\",\"member\",\"member\",\"member\",\"member\"],\"legendgroup\":\"member\",\"line\":{\"color\":\"#F3FD68\",\"dash\":\"solid\"},\"marker\":{\"symbol\":\"circle\"},\"mode\":\"lines+markers\",\"name\":\"member\",\"orientation\":\"v\",\"showlegend\":true,\"x\":[\"January\",\"February\",\"March\",\"April\",\"May\",\"June\",\"July\",\"August\",\"September\",\"October\",\"November\",\"December\"],\"xaxis\":\"x\",\"y\":[11.69,11.17,11.68,11.23,13.14,13.79,13.53,13.2,12.78,11.75,10.89,10.41],\"yaxis\":\"y\",\"type\":\"scatter\"}],                        {\"template\":{\"data\":{\"barpolar\":[{\"marker\":{\"line\":{\"color\":\"rgb(17,17,17)\",\"width\":0.5},\"pattern\":{\"fillmode\":\"overlay\",\"size\":10,\"solidity\":0.2}},\"type\":\"barpolar\"}],\"bar\":[{\"error_x\":{\"color\":\"#f2f5fa\"},\"error_y\":{\"color\":\"#f2f5fa\"},\"marker\":{\"line\":{\"color\":\"rgb(17,17,17)\",\"width\":0.5},\"pattern\":{\"fillmode\":\"overlay\",\"size\":10,\"solidity\":0.2}},\"type\":\"bar\"}],\"carpet\":[{\"aaxis\":{\"endlinecolor\":\"#A2B1C6\",\"gridcolor\":\"#506784\",\"linecolor\":\"#506784\",\"minorgridcolor\":\"#506784\",\"startlinecolor\":\"#A2B1C6\"},\"baxis\":{\"endlinecolor\":\"#A2B1C6\",\"gridcolor\":\"#506784\",\"linecolor\":\"#506784\",\"minorgridcolor\":\"#506784\",\"startlinecolor\":\"#A2B1C6\"},\"type\":\"carpet\"}],\"choropleth\":[{\"colorbar\":{\"outlinewidth\":0,\"ticks\":\"\"},\"type\":\"choropleth\"}],\"contourcarpet\":[{\"colorbar\":{\"outlinewidth\":0,\"ticks\":\"\"},\"type\":\"contourcarpet\"}],\"contour\":[{\"colorbar\":{\"outlinewidth\":0,\"ticks\":\"\"},\"colorscale\":[[0.0,\"#0d0887\"],[0.1111111111111111,\"#46039f\"],[0.2222222222222222,\"#7201a8\"],[0.3333333333333333,\"#9c179e\"],[0.4444444444444444,\"#bd3786\"],[0.5555555555555556,\"#d8576b\"],[0.6666666666666666,\"#ed7953\"],[0.7777777777777778,\"#fb9f3a\"],[0.8888888888888888,\"#fdca26\"],[1.0,\"#f0f921\"]],\"type\":\"contour\"}],\"heatmapgl\":[{\"colorbar\":{\"outlinewidth\":0,\"ticks\":\"\"},\"colorscale\":[[0.0,\"#0d0887\"],[0.1111111111111111,\"#46039f\"],[0.2222222222222222,\"#7201a8\"],[0.3333333333333333,\"#9c179e\"],[0.4444444444444444,\"#bd3786\"],[0.5555555555555556,\"#d8576b\"],[0.6666666666666666,\"#ed7953\"],[0.7777777777777778,\"#fb9f3a\"],[0.8888888888888888,\"#fdca26\"],[1.0,\"#f0f921\"]],\"type\":\"heatmapgl\"}],\"heatmap\":[{\"colorbar\":{\"outlinewidth\":0,\"ticks\":\"\"},\"colorscale\":[[0.0,\"#0d0887\"],[0.1111111111111111,\"#46039f\"],[0.2222222222222222,\"#7201a8\"],[0.3333333333333333,\"#9c179e\"],[0.4444444444444444,\"#bd3786\"],[0.5555555555555556,\"#d8576b\"],[0.6666666666666666,\"#ed7953\"],[0.7777777777777778,\"#fb9f3a\"],[0.8888888888888888,\"#fdca26\"],[1.0,\"#f0f921\"]],\"type\":\"heatmap\"}],\"histogram2dcontour\":[{\"colorbar\":{\"outlinewidth\":0,\"ticks\":\"\"},\"colorscale\":[[0.0,\"#0d0887\"],[0.1111111111111111,\"#46039f\"],[0.2222222222222222,\"#7201a8\"],[0.3333333333333333,\"#9c179e\"],[0.4444444444444444,\"#bd3786\"],[0.5555555555555556,\"#d8576b\"],[0.6666666666666666,\"#ed7953\"],[0.7777777777777778,\"#fb9f3a\"],[0.8888888888888888,\"#fdca26\"],[1.0,\"#f0f921\"]],\"type\":\"histogram2dcontour\"}],\"histogram2d\":[{\"colorbar\":{\"outlinewidth\":0,\"ticks\":\"\"},\"colorscale\":[[0.0,\"#0d0887\"],[0.1111111111111111,\"#46039f\"],[0.2222222222222222,\"#7201a8\"],[0.3333333333333333,\"#9c179e\"],[0.4444444444444444,\"#bd3786\"],[0.5555555555555556,\"#d8576b\"],[0.6666666666666666,\"#ed7953\"],[0.7777777777777778,\"#fb9f3a\"],[0.8888888888888888,\"#fdca26\"],[1.0,\"#f0f921\"]],\"type\":\"histogram2d\"}],\"histogram\":[{\"marker\":{\"pattern\":{\"fillmode\":\"overlay\",\"size\":10,\"solidity\":0.2}},\"type\":\"histogram\"}],\"mesh3d\":[{\"colorbar\":{\"outlinewidth\":0,\"ticks\":\"\"},\"type\":\"mesh3d\"}],\"parcoords\":[{\"line\":{\"colorbar\":{\"outlinewidth\":0,\"ticks\":\"\"}},\"type\":\"parcoords\"}],\"pie\":[{\"automargin\":true,\"type\":\"pie\"}],\"scatter3d\":[{\"line\":{\"colorbar\":{\"outlinewidth\":0,\"ticks\":\"\"}},\"marker\":{\"colorbar\":{\"outlinewidth\":0,\"ticks\":\"\"}},\"type\":\"scatter3d\"}],\"scattercarpet\":[{\"marker\":{\"colorbar\":{\"outlinewidth\":0,\"ticks\":\"\"}},\"type\":\"scattercarpet\"}],\"scattergeo\":[{\"marker\":{\"colorbar\":{\"outlinewidth\":0,\"ticks\":\"\"}},\"type\":\"scattergeo\"}],\"scattergl\":[{\"marker\":{\"line\":{\"color\":\"#283442\"}},\"type\":\"scattergl\"}],\"scattermapbox\":[{\"marker\":{\"colorbar\":{\"outlinewidth\":0,\"ticks\":\"\"}},\"type\":\"scattermapbox\"}],\"scatterpolargl\":[{\"marker\":{\"colorbar\":{\"outlinewidth\":0,\"ticks\":\"\"}},\"type\":\"scatterpolargl\"}],\"scatterpolar\":[{\"marker\":{\"colorbar\":{\"outlinewidth\":0,\"ticks\":\"\"}},\"type\":\"scatterpolar\"}],\"scatter\":[{\"marker\":{\"line\":{\"color\":\"#283442\"}},\"type\":\"scatter\"}],\"scatterternary\":[{\"marker\":{\"colorbar\":{\"outlinewidth\":0,\"ticks\":\"\"}},\"type\":\"scatterternary\"}],\"surface\":[{\"colorbar\":{\"outlinewidth\":0,\"ticks\":\"\"},\"colorscale\":[[0.0,\"#0d0887\"],[0.1111111111111111,\"#46039f\"],[0.2222222222222222,\"#7201a8\"],[0.3333333333333333,\"#9c179e\"],[0.4444444444444444,\"#bd3786\"],[0.5555555555555556,\"#d8576b\"],[0.6666666666666666,\"#ed7953\"],[0.7777777777777778,\"#fb9f3a\"],[0.8888888888888888,\"#fdca26\"],[1.0,\"#f0f921\"]],\"type\":\"surface\"}],\"table\":[{\"cells\":{\"fill\":{\"color\":\"#506784\"},\"line\":{\"color\":\"rgb(17,17,17)\"}},\"header\":{\"fill\":{\"color\":\"#2a3f5f\"},\"line\":{\"color\":\"rgb(17,17,17)\"}},\"type\":\"table\"}]},\"layout\":{\"annotationdefaults\":{\"arrowcolor\":\"#f2f5fa\",\"arrowhead\":0,\"arrowwidth\":1},\"autotypenumbers\":\"strict\",\"coloraxis\":{\"colorbar\":{\"outlinewidth\":0,\"ticks\":\"\"}},\"colorscale\":{\"diverging\":[[0,\"#8e0152\"],[0.1,\"#c51b7d\"],[0.2,\"#de77ae\"],[0.3,\"#f1b6da\"],[0.4,\"#fde0ef\"],[0.5,\"#f7f7f7\"],[0.6,\"#e6f5d0\"],[0.7,\"#b8e186\"],[0.8,\"#7fbc41\"],[0.9,\"#4d9221\"],[1,\"#276419\"]],\"sequential\":[[0.0,\"#0d0887\"],[0.1111111111111111,\"#46039f\"],[0.2222222222222222,\"#7201a8\"],[0.3333333333333333,\"#9c179e\"],[0.4444444444444444,\"#bd3786\"],[0.5555555555555556,\"#d8576b\"],[0.6666666666666666,\"#ed7953\"],[0.7777777777777778,\"#fb9f3a\"],[0.8888888888888888,\"#fdca26\"],[1.0,\"#f0f921\"]],\"sequentialminus\":[[0.0,\"#0d0887\"],[0.1111111111111111,\"#46039f\"],[0.2222222222222222,\"#7201a8\"],[0.3333333333333333,\"#9c179e\"],[0.4444444444444444,\"#bd3786\"],[0.5555555555555556,\"#d8576b\"],[0.6666666666666666,\"#ed7953\"],[0.7777777777777778,\"#fb9f3a\"],[0.8888888888888888,\"#fdca26\"],[1.0,\"#f0f921\"]]},\"colorway\":[\"#636efa\",\"#EF553B\",\"#00cc96\",\"#ab63fa\",\"#FFA15A\",\"#19d3f3\",\"#FF6692\",\"#B6E880\",\"#FF97FF\",\"#FECB52\"],\"font\":{\"color\":\"#f2f5fa\"},\"geo\":{\"bgcolor\":\"rgb(17,17,17)\",\"lakecolor\":\"rgb(17,17,17)\",\"landcolor\":\"rgb(17,17,17)\",\"showlakes\":true,\"showland\":true,\"subunitcolor\":\"#506784\"},\"hoverlabel\":{\"align\":\"left\"},\"hovermode\":\"closest\",\"mapbox\":{\"style\":\"dark\"},\"paper_bgcolor\":\"rgb(17,17,17)\",\"plot_bgcolor\":\"rgb(17,17,17)\",\"polar\":{\"angularaxis\":{\"gridcolor\":\"#506784\",\"linecolor\":\"#506784\",\"ticks\":\"\"},\"bgcolor\":\"rgb(17,17,17)\",\"radialaxis\":{\"gridcolor\":\"#506784\",\"linecolor\":\"#506784\",\"ticks\":\"\"}},\"scene\":{\"xaxis\":{\"backgroundcolor\":\"rgb(17,17,17)\",\"gridcolor\":\"#506784\",\"gridwidth\":2,\"linecolor\":\"#506784\",\"showbackground\":true,\"ticks\":\"\",\"zerolinecolor\":\"#C8D4E3\"},\"yaxis\":{\"backgroundcolor\":\"rgb(17,17,17)\",\"gridcolor\":\"#506784\",\"gridwidth\":2,\"linecolor\":\"#506784\",\"showbackground\":true,\"ticks\":\"\",\"zerolinecolor\":\"#C8D4E3\"},\"zaxis\":{\"backgroundcolor\":\"rgb(17,17,17)\",\"gridcolor\":\"#506784\",\"gridwidth\":2,\"linecolor\":\"#506784\",\"showbackground\":true,\"ticks\":\"\",\"zerolinecolor\":\"#C8D4E3\"}},\"shapedefaults\":{\"line\":{\"color\":\"#f2f5fa\"}},\"sliderdefaults\":{\"bgcolor\":\"#C8D4E3\",\"bordercolor\":\"rgb(17,17,17)\",\"borderwidth\":1,\"tickwidth\":0},\"ternary\":{\"aaxis\":{\"gridcolor\":\"#506784\",\"linecolor\":\"#506784\",\"ticks\":\"\"},\"baxis\":{\"gridcolor\":\"#506784\",\"linecolor\":\"#506784\",\"ticks\":\"\"},\"bgcolor\":\"rgb(17,17,17)\",\"caxis\":{\"gridcolor\":\"#506784\",\"linecolor\":\"#506784\",\"ticks\":\"\"}},\"title\":{\"x\":0.05},\"updatemenudefaults\":{\"bgcolor\":\"#506784\",\"borderwidth\":0},\"xaxis\":{\"automargin\":true,\"gridcolor\":\"#283442\",\"linecolor\":\"#506784\",\"ticks\":\"\",\"title\":{\"standoff\":15},\"zerolinecolor\":\"#283442\",\"zerolinewidth\":2},\"yaxis\":{\"automargin\":true,\"gridcolor\":\"#283442\",\"linecolor\":\"#506784\",\"ticks\":\"\",\"title\":{\"standoff\":15},\"zerolinecolor\":\"#283442\",\"zerolinewidth\":2}}},\"xaxis\":{\"anchor\":\"y\",\"domain\":[0.0,1.0],\"title\":{\"text\":\"Month\"}},\"yaxis\":{\"anchor\":\"x\",\"domain\":[0.0,1.0],\"title\":{\"text\":\"Average Ride Time (m.)\"}},\"legend\":{\"title\":{\"text\":\"User Type\"},\"tracegroupgap\":0},\"title\":{\"text\":\"Average Ride per Month by User Type\"}},                        {\"responsive\": true}                    ).then(function(){\n",
       "                            \n",
       "var gd = document.getElementById('443ced06-47df-4e94-a479-14ccbd3c036e');\n",
       "var x = new MutationObserver(function (mutations, observer) {{\n",
       "        var display = window.getComputedStyle(gd).display;\n",
       "        if (!display || display === 'none') {{\n",
       "            console.log([gd, 'removed!']);\n",
       "            Plotly.purge(gd);\n",
       "            observer.disconnect();\n",
       "        }}\n",
       "}});\n",
       "\n",
       "// Listen for the removal of the full notebook cells\n",
       "var notebookContainer = gd.closest('#notebook-container');\n",
       "if (notebookContainer) {{\n",
       "    x.observe(notebookContainer, {childList: true});\n",
       "}}\n",
       "\n",
       "// Listen for the clearing of the current output cell\n",
       "var outputEl = gd.closest('.output');\n",
       "if (outputEl) {{\n",
       "    x.observe(outputEl, {childList: true});\n",
       "}}\n",
       "\n",
       "                        })                };                });            </script>        </div>"
      ]
     },
     "metadata": {},
     "output_type": "display_data"
    }
   ],
   "source": [
    "# Creating a visualization for the average ride time per month by usertype with the plotly express line chart method.\n",
    "\n",
    "avgRide_by_month = ex.line(avgRide_per_month, x = \"month\", y = \"ride_time\", color = \"user_type\", color_discrete_sequence = \n",
    "                           logo_colors, markers = True, title = \"Average Ride per Month by User Type\", labels = \n",
    "                           {\"ride_time\":\"Average Ride Time (m.)\", \"month\":\"Month\", \"user_type\":\"User Type\"},\n",
    "                           hover_name = \"user_type\", hover_data = {\"user_type\":False}, template = \"plotly_dark\")\n",
    "avgRide_by_month.show()"
   ]
  },
  {
   "cell_type": "code",
   "execution_count": 38,
   "id": "5a8e17f7",
   "metadata": {
    "execution": {
     "iopub.execute_input": "2023-12-15T17:13:47.922350Z",
     "iopub.status.busy": "2023-12-15T17:13:47.921626Z",
     "iopub.status.idle": "2023-12-15T17:13:48.251823Z",
     "shell.execute_reply": "2023-12-15T17:13:48.250637Z"
    },
    "papermill": {
     "duration": 0.363219,
     "end_time": "2023-12-15T17:13:48.254517",
     "exception": false,
     "start_time": "2023-12-15T17:13:47.891298",
     "status": "completed"
    },
    "tags": []
   },
   "outputs": [
    {
     "data": {
      "image/png": "[encoded data removed]",
      "text/plain": [
       "<Figure size 640x480 with 1 Axes>"
      ]
     },
     "metadata": {},
     "output_type": "display_data"
    }
   ],
   "source": [
    "# Lastly, I will create a visualization for rides per bike type with the sebaorn barplot method.\n",
    "rides_by_biketype = sns.barplot(x = \"bike_type\", y = \"ride_id\", data = avgRide_per_bike, hue = \"user_type\",\n",
    "                                  palette = logo_colors, errorbar = None)\n",
    "plt.legend(title = \"User Type\", loc = \"upper center\", labels = [\"Casual\", \"Member\"])\n",
    "# Setting lower and upper limit of the y-axis.\n",
    "rides_by_biketype.set_ylim(0, 2050000)\n",
    "plt.xlabel(\"Bike Type\")\n",
    "plt.ylabel(\"Total Number of Rides (millions)\")\n",
    "plt.title(\"Total Number of Rides per Bike Type by User Type\")\n",
    "plt.show()"
   ]
  },
  {
   "cell_type": "markdown",
   "id": "4398a4bc",
   "metadata": {
    "papermill": {
     "duration": 0.028926,
     "end_time": "2023-12-15T17:13:48.313442",
     "exception": false,
     "start_time": "2023-12-15T17:13:48.284516",
     "status": "completed"
    },
    "tags": []
   },
   "source": [
    "### __Guiding Questions__\n",
    "    1. Were you able to answer the question of how annual members and casual riders use Cyclistic bikes differently?\n",
    "        - Through the analytical and visual analysis, I am able to answer the business task of this project. The data shows relationships that reflect the likely story being told by this dataset.\n",
    "        \n",
    "    2. What story does your data tell?\n",
    "        - The story of this dataset references the ways that casual users and members of the bike-share program use it differently. To start, the data shows that there are a greater number of members in the bike-share program than casual riders. This shows that the program is doing a good job of getting users to become members of the program, but only compromises 59 percent of activity in the program. This number is good, but the company would likely want to see a larger margin between the members and casual users. Next, the majority of bike rides are taken by members, yet they average a much smaller average ride time than casual users. This gives an insight that most members of the bike-share program likely live within the city limits of Chicago, and likely use the bike-share program as a primary means of transportation within the city. On the side of the casual users, the data shows some similarity to my personal experiences with using a bike-share program in my home state. I have been a casual user for that program, and it is a service that allows to rent docked bikes throughout the city for a given amount of time, based on how much an individual is paying for the service. When I use the program, I make sure that I get the most value out of my money, and make sure to ride the bike as much as possible within the allotted time for riding. This is shown by the data, as casual members boast a far greater average ride time versus members. Casual users only have a limited time that they can ride the bikes, so they are likely wanting to spend as much time riding as possible. Also, the data shows that only casual users used the docked bikes, while members have a greater usage of the electric and classic bike types. Docked bikes are available at many access points across the city, and are not available for long-term rentals, and likely come at the lowest price. The greater usage of electric and classic bikes among members likely suggest that these come at no greater cost to the members of the program and are available for long-term rental. As these bike options are likely of no extra charge to members, it would make sense that members will use these bikes more frequently. On the other hand, casual users are likely visitors to the city and want a quick way to get around the city, so using the docked bikes is a perfect option.\n",
    "\n",
    "    3. How do your findings relate to your original question?\n",
    "        - These findings help show potential relationships in the varying uses of the bike-share program between casual users and members. With these findings, I am better able to provide data-driven insights into potential ways to recommend how the company can boost the number of users that become members of the bike-share program. The findings show that members are leading the overall usage of the bike-share program and, combined with the greater number of rides, show how the members use the program differently than casual users. This gives a data-driven insight into what type of audience would more likely be inclined to use the membership of the program.\n",
    "    \n",
    "    4. Who is your audience? What is the best way to communicate with them?\n",
    "        - The audience for this analysis is Lily Moreno and the marketing department of the company. To communicate these findings with the marketing team, it would be best to schedule a meeting for the presentation of the findings that would include the key players in the development of programs to boost member percentages within the bike-share program\n",
    "    \n",
    "    5. Can data visualization help you share your findings?\n",
    "        - The visualizations above follow the order of the analysis in the Analyze section. Each visualization is a chart that represents each data frame in the analyze step. The visualizations show the analysis at a quicker glance, and in an easier to read fashion. Each visualization helps paint the picture of what the data is showing and helps create a better understanding of the findings.\n",
    "    \n",
    "    6. Is your presentation accessible to your audience?\n",
    "        - The PowerPoint presentation will be available through the Google Cloud and will be able to accessed by all stakeholders and members of the marketing team at any time. I have taken the liberty to mark the file as view only to ensure that the original presentation is not accidentally altered in any way.\n",
    "    "
   ]
  },
  {
   "cell_type": "markdown",
   "id": "c56be7ad",
   "metadata": {
    "papermill": {
     "duration": 0.028658,
     "end_time": "2023-12-15T17:13:48.372950",
     "exception": false,
     "start_time": "2023-12-15T17:13:48.344292",
     "status": "completed"
    },
    "tags": []
   },
   "source": [
    "# __Part 6:__ _Act_\n",
    "\n",
    "### __Key Tasks__\n",
    "    1. Create your portfolio.\n",
    "    2. Add your case study.\n",
    "    3. Practice presenting your case study to a friend or family member."
   ]
  },
  {
   "cell_type": "markdown",
   "id": "27e36006",
   "metadata": {
    "papermill": {
     "duration": 0.028792,
     "end_time": "2023-12-15T17:13:48.430962",
     "exception": false,
     "start_time": "2023-12-15T17:13:48.402170",
     "status": "completed"
    },
    "tags": []
   },
   "source": [
    "# __Recommendations__\n",
    "\n",
    "\n",
    " *  Create a special offer made to all residents within the Chicago area, such as a percentage off memberships, for becoming a member of the bike-share program. This could be boosted by providing scientific evidence that shows the benefits of using bikes over cars as a primary means of transportation within large cities.\n",
    " * Create an automated email to be sent to casual users after their \"Xth\" number of rides. When causal user is a recurring user of the bike-share program, they may not be aware of the benefits that a membership provides. This could be a great way to provide an \"exclusive discount\" for casual users to become a member of the program after a given number of rides.\n",
    " * Create a demographic survey to garner a better understanding of the reasonings as to why individuals who are members of the bike-share program became members of the service. This survey could include reasonings for choosing to become a member, what reasonings the user is using the bike share program for, where the user is from, and other demographical information that can provide more insight into the audience of the bike-share program."
   ]
  },
  {
   "cell_type": "markdown",
   "id": "3a84f5c5",
   "metadata": {
    "papermill": {
     "duration": 0.028405,
     "end_time": "2023-12-15T17:13:48.488664",
     "exception": false,
     "start_time": "2023-12-15T17:13:48.460259",
     "status": "completed"
    },
    "tags": []
   },
   "source": [
    "### __Guiding Questions__\n",
    "    1. What is your final conclusion based on your analysis?\n",
    "        - This analysis provided four major insights into the data from the 2022 year of the Cyclistic bike-share program. First, there are more members than casual users of the program, fifty-nine percent in relation to forty-one percent. Next, members of the program had a greater number of rides per day of week, day of month, and month than casual users. In opposition, casual users had longer average ride times versus members per day of week, day of month, and month. Lastly, the data shows that members of the program used casual and electric bike types more than casual users, while casual users were the only ones to use the docked bike types. These insights helped me generate a theory as to suggest why these trends show in the data. First, members of the program having a greater number of rides and averaging a lower ride time versus casual users suggests that members of the bike-share program may be individuals that live within the Chicago area. In major cities across the United States, many individuals do not have the necessity for a car, but will still need a primary method of transport to get across their city. In this analysis, it is likely that the members of the bike-share program are people who live in Chicago and use this program to obtain an affordable primary means of transportation. This is further supported by the total number of rides per bike type. Members boast a much larger usage of classic and electric bikes versus users. This is likely due to these bike types having an upcharge for casual users, and are likely used for long-term rentals. Members, on the other hand, are likely able to rent these bikes at no upcharge, and are able to rent them for greater amounts of time. On the other hand, Casual users have a much greater average ride time, while have a lower number of total rides. This suggests that casual users are likely visitors to the city, and are needing a one-time method to be able to get across the Chicago area. As these users are on a pay-per-hour style of renting, they likely want to ensure that they spend most of their time riding the bike rental that they paid for. \n",
    "    \n",
    "    2. How could your team and business apply your insights?\n",
    "        - There are three methods of advancements that I am going to recommend to the audience. First, I would start by getting a better understanding of the members and casual users of the bikeshare program. This can be through an email or mail service survey that would include items such as: reasonings for choosing to become a member, what reasonings the user is using the bike share program for, where the user is from, and other demographical information that can provide more insight into the audience of the bike-share program. Next, I would recommend that a special offer be made to all residents within the Chicago area, such as a percentage off memberships, for becoming a member of the bike-share program. This could be boosted by providing scientific evidence that shows the benefits of using bikes over cars as a primary means of transportation within large cities. Providing a discount, plus reasonings as to why bikes are better for inner-city travel over cars could boost the amount of people that are willing to become members of the bike-share program. Lastly, members of the marketing team could create an automated email to be sent to casual users after their \"Xth\" number of rides. When causal user is a recurring user of the bike-share program, they may not be aware of the benefits that a membership provides. This could be a great way to provide an \"exclusive discount\" for casual users to become a member of the program after a given number of rides. \n",
    "    \n",
    "    3. What next steps would you or your stakeholders take based on your findings?\n",
    "        - For my team, we could take a look at datasets from years prior to 2022 and run an analysis to find the differences between each year. This could be used to back track with previous adjustments to boosting the number of members on the bike-share program to see which methods provided the largest increase in members within a year. These methods could be taken to the stakeholder to generate updates or modifications to previous programs to ensure that a greater number of users are likely to become members of the program.\n",
    "    \n",
    "    4. Is there additional data you could use to expand on your findings?\n",
    "        - The findings of this analysis could be compared with other bike-share programs from major cities that have relative size and population numbers in comparison to Chicago. These datasets could show if other major cities are seeing similar trends, or if these cities are showing a larger percentage of users that become members of their bike-share programs.\n",
    "    "
   ]
  }
 ],
 "metadata": {
  "kaggle": {
   "accelerator": "none",
   "dataSources": [
    {
     "datasetId": 4127611,
     "sourceId": 7149294,
     "sourceType": "datasetVersion"
    }
   ],
   "dockerImageVersionId": 30626,
   "isGpuEnabled": false,
   "isInternetEnabled": true,
   "language": "python",
   "sourceType": "notebook"
  },
  "kernelspec": {
   "display_name": "Python 3",
   "language": "python",
   "name": "python3"
  },
  "language_info": {
   "codemirror_mode": {
    "name": "ipython",
    "version": 3
   },
   "file_extension": ".py",
   "mimetype": "text/x-python",
   "name": "python",
   "nbconvert_exporter": "python",
   "pygments_lexer": "ipython3",
   "version": "3.10.12"
  },
  "papermill": {
   "default_parameters": {},
   "duration": 204.538576,
   "end_time": "2023-12-15T17:13:51.138506",
   "environment_variables": {},
   "exception": null,
   "input_path": "__notebook__.ipynb",
   "output_path": "__notebook__.ipynb",
   "parameters": {},
   "start_time": "2023-12-15T17:10:26.599930",
   "version": "2.4.0"
  }
 },
 "nbformat": 4,
 "nbformat_minor": 5
}
